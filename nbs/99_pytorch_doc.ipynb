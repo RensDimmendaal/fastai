{
 "cells": [
  {
   "cell_type": "code",
   "execution_count": null,
   "metadata": {},
   "outputs": [],
   "source": [
    "#|hide\n",
    "#| eval: false\n",
    "! [ -e /content ] && pip install -Uqq fastai  # upgrade fastai on colab"
   ]
  },
  {
   "cell_type": "markdown",
   "metadata": {},
   "source": [
    "# Set up PyTorch links to appear in fastai docs\n",
    "- This is mainly for internal use"
   ]
  },
  {
   "cell_type": "code",
   "execution_count": null,
   "metadata": {},
   "outputs": [],
   "source": [
    "#|default_exp _pytorch_doc"
   ]
  },
  {
   "cell_type": "code",
   "execution_count": null,
   "metadata": {},
   "outputs": [],
   "source": [
    "from fastai.basics import *"
   ]
  },
  {
   "cell_type": "markdown",
   "metadata": {},
   "source": [
    "Test links"
   ]
  },
  {
   "cell_type": "code",
   "execution_count": null,
   "metadata": {},
   "outputs": [],
   "source": [
    "#|export\n",
    "from __future__ import annotations\n",
    "from types import ModuleType"
   ]
  },
  {
   "cell_type": "code",
   "execution_count": null,
   "metadata": {},
   "outputs": [],
   "source": [
    "#|export\n",
    "PYTORCH_URL = 'https://pytorch.org/docs/stable/'"
   ]
  },
  {
   "cell_type": "code",
   "execution_count": null,
   "metadata": {},
   "outputs": [],
   "source": [
    "#|export\n",
    "def _mod2page(\n",
    "    mod:ModuleType, # A PyTorch module\n",
    ") -> str:\n",
    "    \"Get the webpage name for a PyTorch module\"\n",
    "    if mod == Tensor: return 'tensors.html'\n",
    "    name = mod.__name__\n",
    "    name = name.replace('torch.', '').replace('utils.', '')\n",
    "    if name.startswith('nn.modules'): return 'nn.html'\n",
    "    return f'{name}.html'"
   ]
  },
  {
   "cell_type": "code",
   "execution_count": null,
   "metadata": {},
   "outputs": [],
   "source": [
    "test_eq(_mod2page(Tensor), 'tensors.html')\n",
    "test_eq(_mod2page(torch.nn), 'nn.html')\n",
    "test_eq(_mod2page(inspect.getmodule(nn.Conv2d)), 'nn.html')\n",
    "test_eq(_mod2page(F), 'nn.functional.html')\n",
    "test_eq(_mod2page(torch.optim), 'optim.html')\n",
    "test_eq(_mod2page(torch.utils.data), 'data.html')"
   ]
  },
  {
   "cell_type": "code",
   "execution_count": null,
   "metadata": {},
   "outputs": [],
   "source": [
    "#|export\n",
    "import importlib"
   ]
  },
  {
   "cell_type": "code",
   "execution_count": null,
   "metadata": {},
   "outputs": [],
   "source": [
    "#|export\n",
    "def pytorch_doc_link(\n",
    "    name:str # Name of a PyTorch module, class or function\n",
    ") -> (str, None):\n",
    "    \"Get the URL to the documentation of a PyTorch module, class or function\"\n",
    "    if name.startswith('F'): name = 'torch.nn.functional' + name[1:]\n",
    "    if not name.startswith('torch.'): name = 'torch.' + name\n",
    "    if name == 'torch.Tensor': return f'{PYTORCH_URL}tensors.html'\n",
    "    try:\n",
    "        mod = importlib.import_module(name)\n",
    "        return f'{PYTORCH_URL}{_mod2page(mod)}'\n",
    "    except: pass\n",
    "    splits = name.split('.')\n",
    "    mod_name,fname = '.'.join(splits[:-1]),splits[-1]\n",
    "    if mod_name == 'torch.Tensor': return f'{PYTORCH_URL}tensors.html#{name}'\n",
    "    try:\n",
    "        mod = importlib.import_module(mod_name)\n",
    "        page = _mod2page(mod)\n",
    "        return f'{PYTORCH_URL}{page}#{name}'\n",
    "    except: return None"
   ]
  },
  {
   "cell_type": "code",
   "execution_count": null,
   "metadata": {},
   "outputs": [],
   "source": [
    "test_links = {\n",
    "    'Tensor': 'https://pytorch.org/docs/stable/tensors.html',\n",
    "    'Tensor.sqrt': 'https://pytorch.org/docs/stable/tensors.html#torch.Tensor.sqrt',\n",
    "    'torch.zeros_like': 'https://pytorch.org/docs/stable/torch.html#torch.zeros_like',\n",
    "    'nn.Module': 'https://pytorch.org/docs/stable/nn.html#torch.nn.Module',\n",
    "    'nn.Linear': 'https://pytorch.org/docs/stable/nn.html#torch.nn.Linear',\n",
    "    'F.cross_entropy': 'https://pytorch.org/docs/stable/nn.functional.html#torch.nn.functional.cross_entropy'\n",
    "}\n",
    "for f,l in test_links.items(): test_eq(pytorch_doc_link(f), l)"
   ]
  },
  {
   "cell_type": "markdown",
   "metadata": {},
   "source": [
    "## Export -"
   ]
  },
  {
   "cell_type": "code",
   "execution_count": null,
   "metadata": {},
   "outputs": [],
   "source": [
    "#|hide\n",
    "from nbdev import nbdev_export\n",
    "nbdev_export()"
   ]
  },
  {
   "cell_type": "code",
   "execution_count": null,
   "metadata": {},
   "outputs": [],
   "source": []
  }
 ],
 "metadata": {
  "jupytext": {
   "split_at_heading": true
  },
  "kernelspec": {
   "display_name": "python3",
   "language": "python",
   "name": "python3"
  }
 },
 "nbformat": 4,
 "nbformat_minor": 4
}
