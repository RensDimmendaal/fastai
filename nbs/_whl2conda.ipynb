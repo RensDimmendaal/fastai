{
 "cells": [
  {
   "cell_type": "code",
   "execution_count": null,
   "metadata": {},
   "outputs": [],
   "source": [
    "#|hide\n",
    "#| eval: false\n",
    "! [ -e /content ] && pip install -Uqq fastai  # upgrade fastai on colab"
   ]
  },
  {
   "cell_type": "markdown",
   "metadata": {},
   "source": [
    "convert pip wheel -> conda package\n",
    "\n",
    "whl   zip\n",
    " - contains cymem-2.0.2.dist-info : LICENSE  METADATA  RECORD  top_level.txt  WHEEL\n",
    "\n",
    "conda tgz\n",
    " - includes lib/python{v}/site-packages/\n",
    " - contains info : \"about.json  files  git  hash_input.json  index.json  paths.json\"\n",
    "\n",
    "conversion:\n",
    "\n",
    "1. move main modules to lib/...\n",
    "2. create info\n",
    "\n",
    "---\n",
    "\n",
    "- about: home license summary\n",
    "- files: list\n",
    "- git: empty\n",
    "- hash_input: empty\n",
    "- index.json: create\n",
    "- paths: files with sha256 and size"
   ]
  },
  {
   "cell_type": "code",
   "execution_count": null,
   "metadata": {},
   "outputs": [],
   "source": [
    "from fastai.torch_basics import *\n",
    "import zipfile,tarfile\n",
    "from email.parser import Parser\n",
    "from wheel import wheelfile"
   ]
  },
  {
   "cell_type": "code",
   "execution_count": null,
   "metadata": {},
   "outputs": [],
   "source": [
    "from conda.gateways.disk.read import read_python_record"
   ]
  },
  {
   "cell_type": "code",
   "execution_count": null,
   "metadata": {},
   "outputs": [],
   "source": [
    "path = Path('~/git/spacy_conda/cymem').expanduser()\n",
    "pkg = path/'pkg/cymem-2.0.2-py37_0.tar.bz2'\n",
    "whl = path/'whl/cymem-2.0.2-cp37-cp37m-manylinux1_x86_64.whl'\n",
    "pkg.exists(),whl.exists()"
   ]
  },
  {
   "cell_type": "code",
   "execution_count": null,
   "metadata": {},
   "outputs": [],
   "source": [
    "zpkg = tarfile.open(pkg,\"r:bz2\")"
   ]
  },
  {
   "cell_type": "code",
   "execution_count": null,
   "metadata": {},
   "outputs": [],
   "source": [
    "lpkg = zpkg.getmembers()\n",
    "[(i,o.name) for i,o in enumerate(lpkg) if o.name.startswith('info/')]"
   ]
  },
  {
   "cell_type": "code",
   "execution_count": null,
   "metadata": {},
   "outputs": [],
   "source": [
    "f = (zpkg.extractfile('info/about.json').read().decode())\n",
    "print(f)\n",
    "fn.name"
   ]
  },
  {
   "cell_type": "code",
   "execution_count": null,
   "metadata": {},
   "outputs": [],
   "source": [
    "fwhl = wheelfile.WheelFile(whl)"
   ]
  },
  {
   "cell_type": "code",
   "execution_count": null,
   "metadata": {},
   "outputs": [],
   "source": [
    "fwhl.parsed_filename.groupdict()"
   ]
  },
  {
   "cell_type": "code",
   "execution_count": null,
   "metadata": {},
   "outputs": [],
   "source": [
    "fwhl.dist_info_path"
   ]
  },
  {
   "cell_type": "code",
   "execution_count": null,
   "metadata": {},
   "outputs": [],
   "source": [
    "fwhl.record_path"
   ]
  },
  {
   "cell_type": "code",
   "execution_count": null,
   "metadata": {},
   "outputs": [],
   "source": [
    "read_python_record(whl.parent, fwhl.record_path, '3.7')['paths_data'].paths"
   ]
  },
  {
   "cell_type": "code",
   "execution_count": null,
   "metadata": {},
   "outputs": [],
   "source": [
    "fwhl.namelist()"
   ]
  },
  {
   "cell_type": "code",
   "execution_count": null,
   "metadata": {},
   "outputs": [],
   "source": [
    "from wheel.metadata import pkginfo_to_metadata"
   ]
  },
  {
   "cell_type": "code",
   "execution_count": null,
   "metadata": {},
   "outputs": [],
   "source": [
    "meta = fwhl.read(f'{fwhl.dist_info_path}/METADATA').decode()"
   ]
  },
  {
   "cell_type": "code",
   "execution_count": null,
   "metadata": {},
   "outputs": [],
   "source": [
    "m = Parser().parsestr(meta)\n",
    "m.items()"
   ]
  },
  {
   "cell_type": "code",
   "execution_count": null,
   "metadata": {},
   "outputs": [],
   "source": [
    "zip_ref = zipfile.ZipFile(whl,\"r\")\n",
    "ls = zip_ref.filelist\n",
    "[(i,o.filename) for i,o in enumerate(ls)]"
   ]
  },
  {
   "cell_type": "code",
   "execution_count": null,
   "metadata": {},
   "outputs": [],
   "source": [
    "fn = ls[11]\n",
    "f = zip_ref.read(fn)\n",
    "print(f.decode())\n",
    "fn.filename"
   ]
  },
  {
   "cell_type": "code",
   "execution_count": null,
   "metadata": {},
   "outputs": [],
   "source": []
  }
 ],
 "metadata": {
  "kernelspec": {
   "display_name": "python3",
   "language": "python",
   "name": "python3"
  }
 },
 "nbformat": 4,
 "nbformat_minor": 2
}
