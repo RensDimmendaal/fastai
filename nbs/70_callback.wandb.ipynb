{
 "cells": [
  {
   "cell_type": "code",
   "execution_count": null,
   "metadata": {},
   "outputs": [],
   "source": [
    "#|hide\n",
    "#| eval: false\n",
    "! [ -e /content ] && pip install -Uqq fastai  # upgrade fastai on colab"
   ]
  },
  {
   "cell_type": "raw",
   "metadata": {},
   "source": [
    "---\n",
    "skip_exec: true\n",
    "---"
   ]
  },
  {
   "cell_type": "code",
   "execution_count": null,
   "metadata": {},
   "outputs": [],
   "source": [
    "#|export\n",
    "from __future__ import annotations\n",
    "from fastai.basics import *\n",
    "from fastai.callback.progress import *\n",
    "from fastai.text.data import TensorText\n",
    "from fastai.tabular.all import TabularDataLoaders, Tabular\n",
    "from fastai.callback.hook import total_params\n",
    "from fastai.callback.tracker import SaveModelCallback"
   ]
  },
  {
   "cell_type": "code",
   "execution_count": null,
   "metadata": {},
   "outputs": [],
   "source": [
    "#|hide\n",
    "from nbdev.showdoc import *"
   ]
  },
  {
   "cell_type": "code",
   "execution_count": null,
   "metadata": {},
   "outputs": [],
   "source": [
    "#|default_exp callback.wandb"
   ]
  },
  {
   "cell_type": "markdown",
   "metadata": {},
   "source": [
    "# Wandb\n",
    "\n",
    "> Integration with [Weights & Biases](https://docs.wandb.com/library/integrations/fastai) "
   ]
  },
  {
   "cell_type": "markdown",
   "metadata": {},
   "source": [
    "First thing first, you need to install wandb with\n",
    "```\n",
    "pip install wandb\n",
    "```\n",
    "Create a free account then run \n",
    "``` \n",
    "wandb login\n",
    "```\n",
    "in your terminal. Follow the link to get an API token that you will need to paste, then you're all set!"
   ]
  },
  {
   "cell_type": "code",
   "execution_count": null,
   "metadata": {},
   "outputs": [],
   "source": [
    "#|export\n",
    "import wandb"
   ]
  },
  {
   "cell_type": "code",
   "execution_count": null,
   "metadata": {},
   "outputs": [],
   "source": [
    "#|export\n",
    "class WandbCallback(Callback):\n",
    "    \"Saves model topology, losses & metrics\"\n",
    "    remove_on_fetch,order = True,Recorder.order+1\n",
    "    # Record if watch has been called previously (even in another instance)\n",
    "    _wandb_watch_called = False\n",
    "\n",
    "    def __init__(self, \n",
    "                 log:str=None, # What to log (can be `gradients`, `parameters`, `all` or None) \n",
    "                 log_preds:bool=True, # Whether to log model predictions on a `wandb.Table`\n",
    "                 log_preds_every_epoch:bool=False, # Whether to log predictions every epoch or at the end\n",
    "                 log_model:bool=False, # Whether to save the model checkpoint to a `wandb.Artifact` \n",
    "                 model_name:str=None, # The name of the `model_name` to save, overrides `SaveModelCallback`\n",
    "                 log_dataset:bool=False, # Whether to log the dataset to a `wandb.Artifact`\n",
    "                 dataset_name:str=None, # A name to log the dataset with\n",
    "                 valid_dl:TfmdDL=None, # If `log_preds=True`, then the samples will be drawn from `valid_dl`\n",
    "                 n_preds:int=36, # How many samples to log predictions \n",
    "                 seed:int=12345, # The seed of the samples drawn\n",
    "                 reorder=True):\n",
    "        store_attr()\n",
    "    \n",
    "    def after_create(self):\n",
    "        # log model\n",
    "        if self.log_model:\n",
    "            if not hasattr(self, 'save_model'):\n",
    "                # does not have the SaveModelCallback\n",
    "                self.learn.add_cb(SaveModelCallback(fname=ifnone(self.model_name, 'model')))\n",
    "            else:\n",
    "                # override SaveModelCallback\n",
    "                if self.model_name is not None:\n",
    "                    self.save_model.fname = self.model_name\n",
    "            \n",
    "    def before_fit(self):\n",
    "        \"Call watch method to log model topology, gradients & weights\"\n",
    "        # Check if wandb.init has been called\n",
    "        if wandb.run is None:\n",
    "            raise ValueError('You must call wandb.init() before WandbCallback()')\n",
    "        # W&B log step\n",
    "        self._wandb_step = wandb.run.step - 1  # -1 except if the run has previously logged data (incremented at each batch)\n",
    "        self._wandb_epoch = 0 if not(wandb.run.step) else math.ceil(wandb.run.summary['epoch']) # continue to next epoch\n",
    "        \n",
    "        self.run = not hasattr(self.learn, 'lr_finder') and not hasattr(self, \"gather_preds\") and rank_distrib()==0\n",
    "        if not self.run: return\n",
    "\n",
    "        # Log config parameters\n",
    "        log_config = self.learn.gather_args()\n",
    "        _format_config(log_config)\n",
    "        try:\n",
    "            wandb.config.update(log_config, allow_val_change=True)\n",
    "        except Exception as e:\n",
    "            print(f'WandbCallback could not log config parameters -> {e}')\n",
    "\n",
    "        if not WandbCallback._wandb_watch_called:\n",
    "            WandbCallback._wandb_watch_called = True\n",
    "            # Logs model topology and optionally gradients and weights\n",
    "            if self.log is not None:\n",
    "                wandb.watch(self.learn.model, log=self.log)\n",
    "\n",
    "        # log dataset\n",
    "        assert isinstance(self.log_dataset, (str, Path, bool)), 'log_dataset must be a path or a boolean'\n",
    "        if self.log_dataset is True:\n",
    "            if Path(self.dls.path) == Path('.'):\n",
    "                print('WandbCallback could not retrieve the dataset path, please provide it explicitly to \"log_dataset\"')\n",
    "                self.log_dataset = False\n",
    "            else:\n",
    "                self.log_dataset = self.dls.path\n",
    "        if self.log_dataset:\n",
    "            self.log_dataset = Path(self.log_dataset)\n",
    "            assert self.log_dataset.is_dir(), f'log_dataset must be a valid directory: {self.log_dataset}'\n",
    "            metadata = {'path relative to learner': os.path.relpath(self.log_dataset, self.learn.path)}\n",
    "            log_dataset(path=self.log_dataset, name=self.dataset_name, metadata=metadata)\n",
    "\n",
    "        if self.log_preds:\n",
    "            try:\n",
    "                if not self.valid_dl:\n",
    "                    #Initializes the batch watched\n",
    "                    wandbRandom = random.Random(self.seed)  # For repeatability\n",
    "                    self.n_preds = min(self.n_preds, len(self.dls.valid_ds))\n",
    "                    idxs = wandbRandom.sample(range(len(self.dls.valid_ds)), self.n_preds)\n",
    "                    if isinstance(self.dls,  TabularDataLoaders):\n",
    "                        test_items = getattr(self.dls.valid_ds.items, 'iloc', self.dls.valid_ds.items)[idxs]\n",
    "                        self.valid_dl = self.dls.test_dl(test_items, with_labels=True, process=False)\n",
    "                    else:\n",
    "                        test_items = [getattr(self.dls.valid_ds.items, 'iloc', self.dls.valid_ds.items)[i] for i in idxs]\n",
    "                        self.valid_dl = self.dls.test_dl(test_items, with_labels=True)\n",
    "                self.learn.add_cb(FetchPredsCallback(dl=self.valid_dl, with_input=True, with_decoded=True, reorder=self.reorder))\n",
    "            except Exception as e:\n",
    "                self.log_preds = False\n",
    "                print(f'WandbCallback was not able to prepare a DataLoader for logging prediction samples -> {e}')\n",
    "        \n",
    "    def before_batch(self): \n",
    "        self.ti_batch = time.perf_counter()\n",
    "        \n",
    "    def after_batch(self):\n",
    "        \"Log hyper-parameters and training loss\"\n",
    "        if self.training:\n",
    "            batch_time = time.perf_counter() - self.ti_batch\n",
    "            self._wandb_step += 1\n",
    "            self._wandb_epoch += 1/self.n_iter\n",
    "            hypers = {f'{k}_{i}':v for i,h in enumerate(self.opt.hypers) for k,v in h.items()}\n",
    "            wandb.log({'epoch': self._wandb_epoch, 'train_loss': self.smooth_loss, 'raw_loss': self.loss, **hypers}, step=self._wandb_step)\n",
    "            wandb.log({'train_samples_per_sec': len(self.xb[0]) / batch_time}, step=self._wandb_step)\n",
    "            \n",
    "    def log_predictions(self):\n",
    "        try:\n",
    "            inp,preds,targs,out = self.learn.fetch_preds.preds\n",
    "            b = tuplify(inp) + tuplify(targs)\n",
    "            x,y,its,outs = self.valid_dl.show_results(b, out, show=False, max_n=self.n_preds)\n",
    "            wandb.log(wandb_process(x, y, its, outs, preds), step=self._wandb_step)\n",
    "        except Exception as e:\n",
    "            self.log_preds = False\n",
    "            self.remove_cb(FetchPredsCallback)\n",
    "            print(f'WandbCallback was not able to get prediction samples -> {e}')\n",
    "    \n",
    "\n",
    "    def after_epoch(self):\n",
    "        \"Log validation loss and custom metrics & log prediction samples\"\n",
    "        # Correct any epoch rounding error and overwrite value\n",
    "        self._wandb_epoch = round(self._wandb_epoch)\n",
    "        if self.log_preds and self.log_preds_every_epoch:\n",
    "            self.log_predictions()\n",
    "        wandb.log({'epoch': self._wandb_epoch}, step=self._wandb_step)\n",
    "        wandb.log({n:s for n,s in zip(self.recorder.metric_names, self.recorder.log) if n not in ['train_loss', 'epoch', 'time']}, step=self._wandb_step)\n",
    "    \n",
    "    \n",
    "    \n",
    "    def after_fit(self):\n",
    "        if self.log_preds and not self.log_preds_every_epoch:\n",
    "            self.log_predictions()\n",
    "        if self.log_model:\n",
    "            if self.save_model.last_saved_path is None:\n",
    "                print('WandbCallback could not retrieve a model to upload')\n",
    "            else:\n",
    "                metadata = {n:s for n,s in zip(self.recorder.metric_names, self.recorder.log) if n not in ['train_loss', 'epoch', 'time']}\n",
    "                log_model(self.save_model.last_saved_path, name=self.save_model.fname, metadata=metadata)                \n",
    "        self.run = True\n",
    "        if self.log_preds: self.remove_cb(FetchPredsCallback)\n",
    "        \n",
    "        wandb.log({})  # ensure sync of last step\n",
    "        self._wandb_step += 1\n",
    "        "
   ]
  },
  {
   "cell_type": "code",
   "execution_count": null,
   "metadata": {},
   "outputs": [],
   "source": [
    "show_doc(WandbCallback)"
   ]
  },
  {
   "cell_type": "markdown",
   "metadata": {},
   "source": [
    "Optionally logs weights and or gradients depending on `log` (can be \"gradients\", \"parameters\", \"all\" or None), sample predictions if ` log_preds=True` that will come from `valid_dl` or a random sample of the validation set (determined by `seed`). `n_preds` are logged in this case.\n",
    "\n",
    "If used in combination with `SaveModelCallback`, the best model is saved as well (can be deactivated with `log_model=False`).\n",
    "\n",
    "Datasets can also be tracked:\n",
    "\n",
    "* if `log_dataset` is `True`, tracked folder is retrieved from `learn.dls.path`\n",
    "* `log_dataset` can explicitly be set to the folder to track\n",
    "* the name of the dataset can explicitly be given through `dataset_name`, otherwise it is set to the folder name\n",
    "* *Note: the subfolder \"models\" is always ignored*\n",
    "\n",
    "For custom scenarios, you can also manually use functions `log_dataset` and `log_model` to respectively log your own datasets and models."
   ]
  },
  {
   "cell_type": "code",
   "execution_count": null,
   "metadata": {},
   "outputs": [],
   "source": [
    "#|export\n",
    "@patch\n",
    "def gather_args(self:Learner):\n",
    "    \"Gather config parameters accessible to the learner\"\n",
    "    # args stored by `store_attr`\n",
    "    cb_args = {f'{cb}':getattr(cb,'__stored_args__',True) for cb in self.cbs}\n",
    "    args = {'Learner':self, **cb_args}\n",
    "    # input dimensions\n",
    "    try:\n",
    "        n_inp = self.dls.train.n_inp\n",
    "        args['n_inp'] = n_inp\n",
    "        xb = self.dls.valid.one_batch()[:n_inp]\n",
    "        args.update({f'input {n+1} dim {i+1}':d for n in range(n_inp) for i,d in enumerate(list(detuplify(xb[n]).shape))})\n",
    "    except: print(f'Could not gather input dimensions')\n",
    "    # other useful information\n",
    "    with ignore_exceptions():\n",
    "        args['batch size'] = self.dls.bs\n",
    "        args['batch per epoch'] = len(self.dls.train)\n",
    "        args['model parameters'] = total_params(self.model)[0]\n",
    "        args['device'] = self.dls.device.type\n",
    "        args['frozen'] = bool(self.opt.frozen_idx)\n",
    "        args['frozen idx'] = self.opt.frozen_idx\n",
    "        args['dataset.tfms'] = f'{self.dls.dataset.tfms}'\n",
    "        args['dls.after_item'] = f'{self.dls.after_item}'\n",
    "        args['dls.before_batch'] = f'{self.dls.before_batch}'\n",
    "        args['dls.after_batch'] = f'{self.dls.after_batch}'\n",
    "    return args"
   ]
  },
  {
   "cell_type": "code",
   "execution_count": null,
   "metadata": {},
   "outputs": [],
   "source": [
    "show_doc(Learner.gather_args)"
   ]
  },
  {
   "cell_type": "code",
   "execution_count": null,
   "metadata": {},
   "outputs": [],
   "source": [
    "#|export\n",
    "def _make_plt(img):\n",
    "    \"Make plot to image resolution\"\n",
    "    # from https://stackoverflow.com/a/13714915\n",
    "    my_dpi = 100\n",
    "    fig = plt.figure(frameon=False, dpi=my_dpi)\n",
    "    h, w = img.shape[:2]\n",
    "    fig.set_size_inches(w / my_dpi, h / my_dpi)\n",
    "    ax = plt.Axes(fig, [0., 0., 1., 1.])\n",
    "    ax.set_axis_off()\n",
    "    fig.add_axes(ax)\n",
    "    return fig, ax"
   ]
  },
  {
   "cell_type": "code",
   "execution_count": null,
   "metadata": {},
   "outputs": [],
   "source": [
    "#|export\n",
    "def _format_config_value(v):\n",
    "    if isinstance(v, list):\n",
    "        return [_format_config_value(item) for item in v]\n",
    "    elif hasattr(v, '__stored_args__'):\n",
    "        return {**_format_config(v.__stored_args__), '_name': v}\n",
    "    return v"
   ]
  },
  {
   "cell_type": "code",
   "execution_count": null,
   "metadata": {},
   "outputs": [],
   "source": [
    "#|export\n",
    "def _format_config(config):\n",
    "    \"Format config parameters before logging them\"\n",
    "    for k,v in config.items():\n",
    "        if isinstance(v, dict):\n",
    "            config[k] = _format_config(v)\n",
    "        else:\n",
    "            config[k] = _format_config_value(v)\n",
    "    return config"
   ]
  },
  {
   "cell_type": "code",
   "execution_count": null,
   "metadata": {},
   "outputs": [],
   "source": [
    "#|export\n",
    "def _format_metadata(metadata):\n",
    "    \"Format metadata associated to artifacts\"\n",
    "    for k,v in metadata.items(): metadata[k] = str(v)"
   ]
  },
  {
   "cell_type": "code",
   "execution_count": null,
   "metadata": {},
   "outputs": [],
   "source": [
    "#|export\n",
    "def log_dataset(path, name=None, metadata={}, description='raw dataset'):\n",
    "    \"Log dataset folder\"\n",
    "    # Check if wandb.init has been called in case datasets are logged manually\n",
    "    if wandb.run is None:\n",
    "        raise ValueError('You must call wandb.init() before log_dataset()')\n",
    "    path = Path(path)\n",
    "    if not path.is_dir():\n",
    "        raise f'path must be a valid directory: {path}'\n",
    "    name = ifnone(name, path.name)\n",
    "    _format_metadata(metadata)\n",
    "    artifact_dataset = wandb.Artifact(name=name, type='dataset', metadata=metadata, description=description)\n",
    "    # log everything except \"models\" folder\n",
    "    for p in path.ls():\n",
    "        if p.is_dir():\n",
    "            if p.name != 'models': artifact_dataset.add_dir(str(p.resolve()), name=p.name)\n",
    "        else: artifact_dataset.add_file(str(p.resolve()))\n",
    "    wandb.run.use_artifact(artifact_dataset)"
   ]
  },
  {
   "cell_type": "code",
   "execution_count": null,
   "metadata": {},
   "outputs": [],
   "source": [
    "show_doc(log_dataset)"
   ]
  },
  {
   "cell_type": "code",
   "execution_count": null,
   "metadata": {},
   "outputs": [],
   "source": [
    "#|export\n",
    "def log_model(path, name=None, metadata={}, description='trained model'):\n",
    "    \"Log model file\"\n",
    "    if wandb.run is None:\n",
    "        raise ValueError('You must call wandb.init() before log_model()')\n",
    "    path = Path(path)\n",
    "    if not path.is_file():\n",
    "        raise f'path must be a valid file: {path}'\n",
    "    name = ifnone(name, f'run-{wandb.run.id}-model')\n",
    "    _format_metadata(metadata)    \n",
    "    artifact_model = wandb.Artifact(name=name, type='model', metadata=metadata, description=description)\n",
    "    with artifact_model.new_file(str(Path(name).with_suffix(\".pth\")), mode='wb') as fa:\n",
    "        fa.write(path.read_bytes())\n",
    "    wandb.run.log_artifact(artifact_model)"
   ]
  },
  {
   "cell_type": "code",
   "execution_count": null,
   "metadata": {},
   "outputs": [],
   "source": [
    "show_doc(log_model)"
   ]
  },
  {
   "cell_type": "code",
   "execution_count": null,
   "metadata": {},
   "outputs": [],
   "source": [
    "#|export\n",
    "@dispatch\n",
    "def wandb_process(x:TensorImage, y, samples, outs, preds):\n",
    "    \"Process `sample` and `out` depending on the type of `x/y`\"\n",
    "    res_input, res_pred, res_label = [],[],[]\n",
    "    for s,o in zip(samples, outs):\n",
    "        img = s[0].permute(1,2,0)\n",
    "        res_input.append(wandb.Image(img, caption='Input_data'))\n",
    "        for t, capt, res in ((o[0], \"Prediction\", res_pred), (s[1], \"Ground_Truth\", res_label)):\n",
    "            fig, ax = _make_plt(img)\n",
    "            # Superimpose label or prediction to input image\n",
    "            ax = img.show(ctx=ax)\n",
    "            ax = t.show(ctx=ax)\n",
    "            res.append(wandb.Image(fig, caption=capt))\n",
    "            plt.close(fig)\n",
    "    return {\"Inputs\":res_input, \"Predictions\":res_pred, \"Ground_Truth\":res_label}"
   ]
  },
  {
   "cell_type": "code",
   "execution_count": null,
   "metadata": {},
   "outputs": [],
   "source": [
    "#|export\n",
    "def _unlist(l):\n",
    "    \"get element of lists of lenght 1\"\n",
    "    if isinstance(l, (list, tuple)):\n",
    "        if len(l) == 1: return l[0]\n",
    "    else: return l"
   ]
  },
  {
   "cell_type": "code",
   "execution_count": null,
   "metadata": {},
   "outputs": [],
   "source": [
    "#|export\n",
    "@dispatch\n",
    "def wandb_process(x:TensorImage, y:TensorCategory|TensorMultiCategory, samples, outs, preds):\n",
    "    table = wandb.Table(columns=[\"Input image\", \"Ground_Truth\", \"Predictions\"])\n",
    "    for (image, label), pred_label in zip(samples,outs):\n",
    "        table.add_data(wandb.Image(image.permute(1,2,0)), label, _unlist(pred_label))\n",
    "    return {\"Prediction_Samples\": table}"
   ]
  },
  {
   "cell_type": "code",
   "execution_count": null,
   "metadata": {},
   "outputs": [],
   "source": [
    "#|export\n",
    "@dispatch\n",
    "def wandb_process(x:TensorImage, y:TensorMask, samples, outs, preds):\n",
    "    res = []\n",
    "    codes = getattr(outs[0][0], 'codes', None)\n",
    "    if codes is not None:\n",
    "        class_labels = [{'name': name, 'id': id}  for id, name in enumerate(codes)] \n",
    "    else:\n",
    "        class_labels = [{'name': i, 'id': i} for i in range(preds.shape[1])]\n",
    "    table = wandb.Table(columns=[\"Input Image\", \"Ground_Truth\", \"Predictions\"])\n",
    "    for (image, label), pred_label in zip(samples, outs):\n",
    "        img = image.permute(1,2,0)\n",
    "        table.add_data(wandb.Image(img),\n",
    "                       wandb.Image(img, masks={\"Ground_Truth\": {'mask_data': label.numpy().astype(np.uint8)}}, classes=class_labels), \n",
    "                       wandb.Image(img, masks={\"Prediction\":   {'mask_data': pred_label[0].numpy().astype(np.uint8)}}, classes=class_labels) \n",
    "                      )\n",
    "    return {\"Prediction_Samples\": table}"
   ]
  },
  {
   "cell_type": "code",
   "execution_count": null,
   "metadata": {},
   "outputs": [],
   "source": [
    "#|export\n",
    "@dispatch\n",
    "def wandb_process(x:TensorText, y:TensorCategory|TensorMultiCategory, samples, outs, preds):\n",
    "    data = [[s[0], s[1], o[0]] for s,o in zip(samples,outs)]\n",
    "    return {\"Prediction_Samples\": wandb.Table(data=data, columns=[\"Text\", \"Target\", \"Prediction\"])}"
   ]
  },
  {
   "cell_type": "code",
   "execution_count": null,
   "metadata": {},
   "outputs": [],
   "source": [
    "#|export\n",
    "@dispatch\n",
    "def wandb_process(x:Tabular, y:Tabular, samples, outs, preds):\n",
    "    df = x.all_cols\n",
    "    for n in x.y_names: df[n+'_pred'] = y[n].values\n",
    "    return {\"Prediction_Samples\": wandb.Table(dataframe=df)}"
   ]
  },
  {
   "cell_type": "markdown",
   "metadata": {},
   "source": [
    "## Example of use:"
   ]
  },
  {
   "cell_type": "markdown",
   "metadata": {},
   "source": [
    "Once your have defined your `Learner`, before you call to `fit` or `fit_one_cycle`, you need to initialize wandb:\n",
    "```\n",
    "import wandb\n",
    "wandb.init()\n",
    "```\n",
    "To use Weights & Biases without an account, you can call `wandb.init(anonymous='allow')`.\n",
    "\n",
    "Then you add the callback to your `learner` or call to `fit` methods, potentially with `SaveModelCallback` if you want to save the best model:\n",
    "```\n",
    "from fastai.callback.wandb import *\n",
    "\n",
    "# To log only during one training phase\n",
    "learn.fit(..., cbs=WandbCallback())\n",
    "\n",
    "# To log continuously for all training phases\n",
    "learn = learner(..., cbs=WandbCallback())\n",
    "```\n",
    "Datasets and models can be tracked through the callback or directly through `log_model` and `log_dataset` functions.\n",
    "\n",
    "For more details, refer to [W&B documentation](https://docs.wandb.com/library/integrations/fastai)."
   ]
  },
  {
   "cell_type": "code",
   "execution_count": null,
   "metadata": {},
   "outputs": [],
   "source": [
    "#|hide\n",
    "#|slow\n",
    "from fastai.vision.all import *\n",
    "import tempfile"
   ]
  },
  {
   "cell_type": "code",
   "execution_count": null,
   "metadata": {},
   "outputs": [],
   "source": [
    "#|hide\n",
    "#|slow\n",
    "path = untar_data(URLs.MNIST_TINY)\n",
    "items = get_image_files(path)\n",
    "tds = Datasets(items, [PILImageBW.create, [parent_label, Categorize()]], splits=GrandparentSplitter()(items))\n",
    "dls = tds.dataloaders(after_item=[ToTensor(), IntToFloatTensor()])\n",
    "\n",
    "os.environ['WANDB_MODE'] = 'dryrun' # run offline\n",
    "with tempfile.TemporaryDirectory() as wandb_local_dir:\n",
    "    wandb.init(anonymous='allow', dir=wandb_local_dir)\n",
    "    learn = vision_learner(dls, resnet18, loss_func=CrossEntropyLossFlat(), cbs=WandbCallback(log_model=False))\n",
    "    learn.fit(1)\n",
    "\n",
    "    # add more data from a new learner on same run\n",
    "    learn = vision_learner(dls, resnet18, loss_func=CrossEntropyLossFlat(), cbs=WandbCallback(log_model=False))\n",
    "    learn.fit(1, lr=slice(0.005))\n",
    "    \n",
    "    # save model\n",
    "    learn = cnn_learner(dls, resnet18, loss_func=CrossEntropyLossFlat(), cbs=WandbCallback(log_model=True))\n",
    "    learn.fit(1, lr=slice(0.005))\n",
    "    \n",
    "    # save model override name\n",
    "    learn = cnn_learner(dls, resnet18, path=wandb_local_dir,loss_func=CrossEntropyLossFlat(), cbs=[WandbCallback(log_model=True, model_name=\"good_name\"), SaveModelCallback(fname=\"bad_name\")])\n",
    "    learn.fit(1, lr=slice(0.005))\n",
    "    assert (Path(wandb_local_dir)/\"models/good_name.pth\").exists(), \"No model file found\"\n",
    "    \n",
    "    # finish writing files to temporary folder\n",
    "    wandb.finish()"
   ]
  },
  {
   "cell_type": "code",
   "execution_count": null,
   "metadata": {},
   "outputs": [],
   "source": [
    "#|export\n",
    "_all_ = ['wandb_process']"
   ]
  },
  {
   "cell_type": "markdown",
   "metadata": {},
   "source": [
    "## Export -"
   ]
  },
  {
   "cell_type": "code",
   "execution_count": null,
   "metadata": {},
   "outputs": [],
   "source": [
    "#|hide\n",
    "from nbdev import *\n",
    "nbdev_export()"
   ]
  }
 ],
 "metadata": {
  "jupytext": {
   "split_at_heading": true
  },
  "kernelspec": {
   "display_name": "python3",
   "language": "python",
   "name": "python3"
  }
 },
 "nbformat": 4,
 "nbformat_minor": 4
}
