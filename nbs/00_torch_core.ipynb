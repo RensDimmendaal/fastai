{
 "cells": [
  {
   "cell_type": "code",
   "execution_count": null,
   "metadata": {},
   "outputs": [],
   "source": [
    "#|hide\n",
    "#| eval: false\n",
    "! [ -e /content ] && pip install -Uqq fastai  # upgrade fastai on colab"
   ]
  },
  {
   "cell_type": "code",
   "execution_count": null,
   "metadata": {},
   "outputs": [],
   "source": [
    "#|default_exp torch_core"
   ]
  },
  {
   "cell_type": "code",
   "execution_count": null,
   "metadata": {},
   "outputs": [],
   "source": [
    "#|export\n",
    "from __future__ import annotations\n",
    "from fastai.imports import *\n",
    "from fastai.torch_imports import *\n",
    "from packaging.version import parse"
   ]
  },
  {
   "cell_type": "code",
   "execution_count": null,
   "metadata": {},
   "outputs": [],
   "source": [
    "from PIL import Image"
   ]
  },
  {
   "cell_type": "code",
   "execution_count": null,
   "metadata": {},
   "outputs": [
    {
     "name": "stdout",
     "output_type": "stream",
     "text": [
      "=== Loading dispatch.py ===\n",
      "  File \"/home/rd/git/repos/nbdev/nbdev/__init__.py\", line 4, in <module>\n",
      "    from .showdoc import show_doc\n",
      "  File \"/home/rd/git/repos/nbdev/nbdev/showdoc.py\", line 10, in <module>\n",
      "    from fastcore.dispatch import TypeDispatch\n",
      "  File \"/home/rd/git/repos/fastcore/fastcore/dispatch.py\", line 11, in <module>\n",
      "    print(\"\".join(line for line in traceback.format_stack() if '/home/rd/git/repos' in line))\n",
      "\n"
     ]
    }
   ],
   "source": [
    "#|hide\n",
    "from nbdev.showdoc import *"
   ]
  },
  {
   "cell_type": "code",
   "execution_count": null,
   "metadata": {},
   "outputs": [],
   "source": [
    "#|export\n",
    "_all_ = ['progress_bar','master_bar']"
   ]
  },
  {
   "cell_type": "code",
   "execution_count": null,
   "metadata": {},
   "outputs": [],
   "source": [
    "#|export\n",
    "defaults.benchmark = True"
   ]
  },
  {
   "cell_type": "code",
   "execution_count": null,
   "metadata": {},
   "outputs": [],
   "source": [
    "#|export\n",
    "def setup_cuda(benchmark=defaults.benchmark):\n",
    "    \"Sets the main cuda device and sets `cudnn.benchmark` to `benchmark`\"\n",
    "    if torch.cuda.is_available():\n",
    "        if torch.cuda.current_device()==0:\n",
    "            def_gpu = int(os.environ.get('DEFAULT_GPU') or 0)\n",
    "            if torch.cuda.device_count()>=def_gpu: torch.cuda.set_device(def_gpu)\n",
    "        torch.backends.cudnn.benchmark = benchmark"
   ]
  },
  {
   "cell_type": "markdown",
   "metadata": {},
   "source": [
    "# Torch Core\n",
    "\n",
    "> Basic pytorch functions used in the fastai library"
   ]
  },
  {
   "cell_type": "markdown",
   "metadata": {},
   "source": [
    "## Arrays and show"
   ]
  },
  {
   "cell_type": "code",
   "execution_count": null,
   "metadata": {},
   "outputs": [],
   "source": [
    "#|export\n",
    "@delegates(plt.subplots, keep=True)\n",
    "def subplots(\n",
    "    nrows:int=1, # Number of rows in returned axes grid\n",
    "    ncols:int=1, # Number of columns in returned axes grid\n",
    "    figsize:tuple=None, # Width, height in inches of the returned figure\n",
    "    imsize:int=3, # Size (in inches) of images that will be displayed in the returned figure\n",
    "    suptitle:str=None, # Title to be set to returned figure\n",
    "    **kwargs\n",
    ") -> (plt.Figure, plt.Axes): # Returns both fig and ax as a tuple\n",
    "    \"Returns a figure and set of subplots to display images of `imsize` inches\"\n",
    "    if figsize is None:\n",
    "        h=nrows*imsize if suptitle is None or imsize>2 else nrows*imsize+0.6 #https://github.com/matplotlib/matplotlib/issues/5355\n",
    "        figsize=(ncols*imsize, h)\n",
    "    fig,ax = plt.subplots(nrows, ncols, figsize=figsize, **kwargs)\n",
    "    if suptitle is not None: fig.suptitle(suptitle)\n",
    "    if nrows*ncols==1: ax = array([ax])\n",
    "    return fig,ax"
   ]
  },
  {
   "cell_type": "markdown",
   "metadata": {},
   "source": [
    "This is used in `get_grid`. `suptitle`, `sharex`, `sharey`, `squeeze`, `subplot_kw` and `gridspec_kw` are all passed down to [plt.subplots](https://matplotlib.org/stable/api/_as_gen/matplotlib.pyplot.subplots.html#matplotlib-pyplot-subplots)."
   ]
  },
  {
   "cell_type": "code",
   "execution_count": null,
   "metadata": {},
   "outputs": [],
   "source": [
    "#|hide\n",
    "_,axs = subplots()\n",
    "test_eq(axs.shape,[1])\n",
    "plt.close()\n",
    "_,axs = subplots(2,3)\n",
    "test_eq(axs.shape,[2,3])\n",
    "plt.close()"
   ]
  },
  {
   "cell_type": "code",
   "execution_count": null,
   "metadata": {},
   "outputs": [],
   "source": [
    "#|export\n",
    "def _fig_bounds(x):\n",
    "    r = x//32\n",
    "    return min(5, max(1,r))"
   ]
  },
  {
   "cell_type": "code",
   "execution_count": null,
   "metadata": {},
   "outputs": [],
   "source": [
    "#|export\n",
    "@delegates(plt.Axes.imshow, keep=True, but=['shape', 'imlim'])\n",
    "def show_image(im, ax=None, figsize=None, title=None, ctx=None, **kwargs):\n",
    "    \"Show a PIL or PyTorch image on `ax`.\"\n",
    "    # Handle pytorch axis order\n",
    "    if hasattrs(im, ('data','cpu','permute')):\n",
    "        im = im.data.cpu()\n",
    "        if im.shape[0]<5: im=im.permute(1,2,0)\n",
    "    elif not isinstance(im,np.ndarray): im=array(im)\n",
    "    # Handle 1-channel images\n",
    "    if im.shape[-1]==1: im=im[...,0]\n",
    "\n",
    "    ax = ifnone(ax,ctx)\n",
    "    if figsize is None: figsize = (_fig_bounds(im.shape[0]), _fig_bounds(im.shape[1]))\n",
    "    if ax is None: _,ax = plt.subplots(figsize=figsize)\n",
    "    ax.imshow(im, **kwargs)\n",
    "    if title is not None: ax.set_title(title)\n",
    "    ax.axis('off')\n",
    "    return ax"
   ]
  },
  {
   "cell_type": "markdown",
   "metadata": {},
   "source": [
    "`show_image` can show PIL images..."
   ]
  },
  {
   "cell_type": "code",
   "execution_count": null,
   "metadata": {},
   "outputs": [
    {
     "data": {
      "image/png": "[encoded data removed]",
      "text/plain": [
       "<Figure size 100x100 with 1 Axes>"
      ]
     },
     "metadata": {},
     "output_type": "display_data"
    }
   ],
   "source": [
    "im = Image.open(TEST_IMAGE_BW)\n",
    "ax = show_image(im, cmap=\"Greys\")"
   ]
  },
  {
   "cell_type": "markdown",
   "metadata": {},
   "source": [
    "...and color images with standard `CHW` dim order..."
   ]
  },
  {
   "cell_type": "code",
   "execution_count": null,
   "metadata": {},
   "outputs": [
    {
     "data": {
      "image/png": "[encoded data removed]",
      "text/plain": [
       "<Figure size 200x200 with 1 Axes>"
      ]
     },
     "metadata": {},
     "output_type": "display_data"
    }
   ],
   "source": [
    "im2 = np.array(Image.open(TEST_IMAGE))\n",
    "ax = show_image(im2, figsize=(2,2))"
   ]
  },
  {
   "cell_type": "markdown",
   "metadata": {},
   "source": [
    "...and color images with `HWC` dim order..."
   ]
  },
  {
   "cell_type": "code",
   "execution_count": null,
   "metadata": {},
   "outputs": [
    {
     "data": {
      "image/png": "[encoded data removed]",
      "text/plain": [
       "<Figure size 200x200 with 1 Axes>"
      ]
     },
     "metadata": {},
     "output_type": "display_data"
    }
   ],
   "source": [
    "im3 = torch.as_tensor(im2).permute(2,0,1)\n",
    "ax = show_image(im3, figsize=(2,2))"
   ]
  },
  {
   "cell_type": "code",
   "execution_count": null,
   "metadata": {},
   "outputs": [],
   "source": [
    "#|export\n",
    "@delegates(show_image, keep=True)\n",
    "def show_titled_image(o, **kwargs):\n",
    "    \"Call `show_image` destructuring `o` to `(img,title)`\"\n",
    "    show_image(o[0], title=str(o[1]), **kwargs)"
   ]
  },
  {
   "cell_type": "code",
   "execution_count": null,
   "metadata": {},
   "outputs": [
    {
     "data": {
      "image/png": "[encoded data removed]",
      "text/plain": [
       "<Figure size 200x200 with 1 Axes>"
      ]
     },
     "metadata": {},
     "output_type": "display_data"
    }
   ],
   "source": [
    "show_titled_image((im3,'A puppy'), figsize=(2,2))"
   ]
  },
  {
   "cell_type": "markdown",
   "metadata": {},
   "source": [
    "Show all images `ims` as subplots with `rows` using `titles`. `suptitle` provides a way to create a figure title for all images. If you use `suptitle`, `constrained_layout` is used unless you set `constrained_layout` to `False`. "
   ]
  },
  {
   "cell_type": "code",
   "execution_count": null,
   "metadata": {},
   "outputs": [],
   "source": [
    "#|export\n",
    "@delegates(subplots)\n",
    "def show_images(ims, nrows=1, ncols=None, titles=None, **kwargs):\n",
    "    \"Show all images `ims` as subplots with `rows` using `titles`.\"\n",
    "    if ncols is None: ncols = int(math.ceil(len(ims)/nrows))\n",
    "    if titles is None: titles = [None]*len(ims)\n",
    "    axs = subplots(nrows, ncols, **kwargs)[1].flat\n",
    "    for im,t,ax in zip(ims, titles, axs): show_image(im, ax=ax, title=t)"
   ]
  },
  {
   "cell_type": "code",
   "execution_count": null,
   "metadata": {},
   "outputs": [
    {
     "data": {
      "image/png": "[encoded data removed]",
      "text/plain": [
       "<Figure size 600x300 with 2 Axes>"
      ]
     },
     "metadata": {},
     "output_type": "display_data"
    }
   ],
   "source": [
    "show_images((im,im3),titles=('number','puppy'),suptitle='Number Puppy',  imsize=3)"
   ]
  },
  {
   "cell_type": "markdown",
   "metadata": {},
   "source": [
    "`ArrayImage`, `ArrayImageBW` and `ArrayMask` are subclasses of `ndarray` that know how to show themselves."
   ]
  },
  {
   "cell_type": "code",
   "execution_count": null,
   "metadata": {},
   "outputs": [],
   "source": [
    "#|export\n",
    "class ArrayBase(ndarray):\n",
    "    \"An `ndarray` that can modify casting behavior\"\n",
    "    @classmethod\n",
    "    def _before_cast(cls, x): return x if isinstance(x,ndarray) else array(x)"
   ]
  },
  {
   "cell_type": "code",
   "execution_count": null,
   "metadata": {},
   "outputs": [],
   "source": [
    "#|export\n",
    "class ArrayImageBase(ArrayBase):\n",
    "    \"Base class for arrays representing images\"\n",
    "    _show_args = {'cmap':'viridis'}\n",
    "    def show(self, ctx=None, **kwargs):\n",
    "        return show_image(self, ctx=ctx, **{**self._show_args, **kwargs})"
   ]
  },
  {
   "cell_type": "code",
   "execution_count": null,
   "metadata": {},
   "outputs": [],
   "source": [
    "#|export\n",
    "class ArrayImage(ArrayImageBase):\n",
    "    \"An array representing an image\"\n",
    "    pass"
   ]
  },
  {
   "cell_type": "code",
   "execution_count": null,
   "metadata": {},
   "outputs": [],
   "source": [
    "#|export\n",
    "class ArrayImageBW(ArrayImage):\n",
    "    \"An array representing an image\"\n",
    "    _show_args = {'cmap':'Greys'}"
   ]
  },
  {
   "cell_type": "code",
   "execution_count": null,
   "metadata": {},
   "outputs": [],
   "source": [
    "#|export\n",
    "class ArrayMask(ArrayImageBase):\n",
    "    \"An array representing an image mask\"\n",
    "    _show_args = {'alpha':0.5, 'cmap':'tab20', 'interpolation':'nearest'}"
   ]
  },
  {
   "cell_type": "code",
   "execution_count": null,
   "metadata": {},
   "outputs": [],
   "source": [
    "im = Image.open(TEST_IMAGE)"
   ]
  },
  {
   "cell_type": "code",
   "execution_count": null,
   "metadata": {},
   "outputs": [],
   "source": [
    "im_t = cast(im, ArrayImage)\n",
    "test_eq(type(im_t), ArrayImage)"
   ]
  },
  {
   "cell_type": "code",
   "execution_count": null,
   "metadata": {},
   "outputs": [
    {
     "data": {
      "image/png": "[encoded data removed]",
      "text/plain": [
       "<Figure size 200x200 with 1 Axes>"
      ]
     },
     "metadata": {},
     "output_type": "display_data"
    }
   ],
   "source": [
    "ax = im_t.show(figsize=(2,2))"
   ]
  },
  {
   "cell_type": "code",
   "execution_count": null,
   "metadata": {},
   "outputs": [],
   "source": [
    "test_fig_exists(ax)"
   ]
  },
  {
   "cell_type": "markdown",
   "metadata": {},
   "source": [
    "## Basics"
   ]
  },
  {
   "cell_type": "code",
   "execution_count": null,
   "metadata": {},
   "outputs": [],
   "source": [
    "#|export\n",
    "@patch\n",
    "def __array_eq__(self:Tensor,b):\n",
    "    return torch.equal(self,b) if self.dim() else self==b"
   ]
  },
  {
   "cell_type": "code",
   "execution_count": null,
   "metadata": {},
   "outputs": [],
   "source": [
    "#|export\n",
    "def _array2tensor(x, requires_grad=False, pin_memory=False, **kwargs):\n",
    "    if x.dtype==np.uint16: x = x.astype(np.float32)\n",
    "    # windows default numpy int dtype is int32, while torch tensor default int dtype is int64\n",
    "    # https://github.com/numpy/numpy/issues/9464\n",
    "    if sys.platform == \"win32\" and x.dtype==int: x = x.astype(np.int64)\n",
    "    t = torch.as_tensor(x, **kwargs)\n",
    "    t.requires_grad_(requires_grad)\n",
    "    if pin_memory: t.pin_memory()\n",
    "    return t"
   ]
  },
  {
   "cell_type": "code",
   "execution_count": null,
   "metadata": {},
   "outputs": [],
   "source": [
    "#|export\n",
    "@use_kwargs_dict(dtype=None, device=None, requires_grad=False, pin_memory=False)\n",
    "def tensor(x, *rest, **kwargs):\n",
    "    \"Like `torch.as_tensor`, but handle lists too, and can pass multiple vector elements directly.\"\n",
    "    if len(rest): x = (x,)+rest\n",
    "    # There was a Pytorch bug in dataloader using num_workers>0. Haven't confirmed if fixed\n",
    "    # if isinstance(x, (tuple,list)) and len(x)==0: return tensor(0)\n",
    "    res = (x if isinstance(x, Tensor)\n",
    "           else torch.tensor(x, **kwargs) if isinstance(x, (tuple,list,numbers.Number))\n",
    "           else _array2tensor(x, **kwargs) if isinstance(x, ndarray)\n",
    "           else as_tensor(x.values, **kwargs) if isinstance(x, (pd.Series, pd.DataFrame))\n",
    "#            else as_tensor(array(x, **kwargs)) if hasattr(x, '__array__') or is_iter(x)\n",
    "           else _array2tensor(array(x), **kwargs))\n",
    "    if res.dtype is torch.float64: return res.float()\n",
    "    return res"
   ]
  },
  {
   "cell_type": "code",
   "execution_count": null,
   "metadata": {},
   "outputs": [],
   "source": [
    "test_eq(tensor(torch.tensor([1,2,3])), torch.tensor([1,2,3]))\n",
    "test_eq(tensor(array([1,2,3])), torch.tensor([1,2,3]))\n",
    "test_eq(tensor(1,2,3), torch.tensor([1,2,3]))\n",
    "test_eq_type(tensor(1.0), torch.tensor(1.0))"
   ]
  },
  {
   "cell_type": "markdown",
   "metadata": {},
   "source": [
    "`set_seed` is useful for reproducibility between runs. It is important to remember that certain classes such as `Dataloaders` have internal random number generators that is not effected by this function, so this must be run before such objects are created in order to guarantee reproducibility. "
   ]
  },
  {
   "cell_type": "code",
   "execution_count": null,
   "metadata": {},
   "outputs": [],
   "source": [
    "#|export\n",
    "def set_seed(s, reproducible=False):\n",
    "    \"Set random seed for `random`, `torch`, and `numpy` (where available)\"\n",
    "    try: torch.manual_seed(s)\n",
    "    except NameError: pass\n",
    "    try: torch.cuda.manual_seed_all(s)\n",
    "    except NameError: pass\n",
    "    try: np.random.seed(s%(2**32-1))\n",
    "    except NameError: pass\n",
    "    random.seed(s)\n",
    "    if reproducible:\n",
    "        torch.backends.cudnn.deterministic = True\n",
    "        torch.backends.cudnn.benchmark = False"
   ]
  },
  {
   "cell_type": "markdown",
   "metadata": {},
   "source": [
    "Here is an example of how `set_seed` can be used to reset the state of random number generators."
   ]
  },
  {
   "cell_type": "code",
   "execution_count": null,
   "metadata": {},
   "outputs": [
    {
     "name": "stdout",
     "output_type": "stream",
     "text": [
      "a's: 0.154 0.498 0.071\n",
      "b's: 0.154 0.498 0.071\n"
     ]
    }
   ],
   "source": [
    "set_seed(2*33)\n",
    "a1 = np.random.random()\n",
    "a2 = torch.rand(())\n",
    "a3 = random.random()\n",
    "set_seed(2*33)\n",
    "b1 = np.random.random()\n",
    "b2 = torch.rand(())\n",
    "b3 = random.random()\n",
    "print('a\\'s: {0:3.3f} {1:3.3f} {2:3.3f}'.format(a1,a2,a3))\n",
    "print('b\\'s: {0:3.3f} {1:3.3f} {2:3.3f}'.format(b1,b2,a3))"
   ]
  },
  {
   "cell_type": "code",
   "execution_count": null,
   "metadata": {},
   "outputs": [],
   "source": [
    "test_eq(a1,b1)\n",
    "test_eq(a2,b2)\n",
    "test_eq(a3,b3)"
   ]
  },
  {
   "cell_type": "markdown",
   "metadata": {},
   "source": [
    "`get_random_states` and `set_random_states` are useful for storing a state so you can go back to it later. "
   ]
  },
  {
   "cell_type": "code",
   "execution_count": null,
   "metadata": {},
   "outputs": [],
   "source": [
    "#|export\n",
    "def get_random_states():\n",
    "    \"Gets states for `random`, `torch`, and `numpy` random number generators\"\n",
    "    return {'random_state':random.getstate(),\n",
    "            'numpy_state':np.random.get_state(),\n",
    "            'torch_state':torch.get_rng_state(),\n",
    "            'torch_cuda_state':torch.cuda.get_rng_state_all(),\n",
    "            'torch_deterministic':torch.backends.cudnn.deterministic,\n",
    "            'torch_benchmark':torch.backends.cudnn.benchmark}"
   ]
  },
  {
   "cell_type": "code",
   "execution_count": null,
   "metadata": {},
   "outputs": [],
   "source": [
    "#|export\n",
    "def set_random_states(random_state,numpy_state,torch_state,torch_cuda_state,torch_deterministic,torch_benchmark):\n",
    "    \"Set states for `random`, `torch`, and `numpy` random number generators\"\n",
    "    random.setstate(random_state)\n",
    "    np.random.set_state(numpy_state)\n",
    "    torch.set_rng_state(torch_state)\n",
    "    torch.cuda.set_rng_state_all(torch_cuda_state)\n",
    "    torch.backends.cudnn.deterministic=torch_deterministic\n",
    "    torch.backends.cudnn.benchmark=torch_benchmark"
   ]
  },
  {
   "cell_type": "markdown",
   "metadata": {},
   "source": [
    "Below notice that the old values and rewinded values are the same because we were able to return to the previous state. "
   ]
  },
  {
   "cell_type": "code",
   "execution_count": null,
   "metadata": {},
   "outputs": [
    {
     "name": "stdout",
     "output_type": "stream",
     "text": [
      "olds:    0.435 0.134 0.023\n",
      "news:    0.246 0.363 0.227\n",
      "rewinds: 0.435 0.134 0.023\n"
     ]
    }
   ],
   "source": [
    "old_states = get_random_states()\n",
    "olds = (random.random(),np.random.random(),torch.rand(()))\n",
    "news = (random.random(),np.random.random(),torch.rand(()))\n",
    "set_random_states(**old_states)\n",
    "rewinds = (random.random(),np.random.random(),torch.rand(()))\n",
    "\n",
    "print('olds:    {0:3.3f} {1:3.3f} {2:3.3f}'.format(*olds))\n",
    "print('news:    {0:3.3f} {1:3.3f} {2:3.3f}'.format(*news))\n",
    "print('rewinds: {0:3.3f} {1:3.3f} {2:3.3f}'.format(*rewinds))"
   ]
  },
  {
   "cell_type": "code",
   "execution_count": null,
   "metadata": {},
   "outputs": [],
   "source": [
    "test_ne(olds,news)\n",
    "test_eq(olds,rewinds)"
   ]
  },
  {
   "cell_type": "markdown",
   "metadata": {},
   "source": [
    "In `no_random` we combine the ideas of rewinding state with `get_random_states` and `set_random_states` with the ability to `set_seed` and create a context manager that can allow us to control randomness in a portion of our code. \n",
    "\n",
    "Note: Similar to `torch.random.fork_rng`, but also with `numpy` and `random`"
   ]
  },
  {
   "cell_type": "code",
   "execution_count": null,
   "metadata": {},
   "outputs": [],
   "source": [
    "#|export\n",
    "@contextmanager\n",
    "def no_random(seed=42,reproducible=True):\n",
    "    \"Stores and retrieves state of random number generators. Sets random seed for `random`, `torch`, and `numpy`.\"\n",
    "    states = get_random_states()\n",
    "    set_seed(seed,reproducible=reproducible)\n",
    "    try:\n",
    "        yield #we are managing global variables\n",
    "    finally:\n",
    "        set_random_states(**states)"
   ]
  },
  {
   "cell_type": "markdown",
   "metadata": {},
   "source": [
    "Here are some examples on how we can use `no_random` to control the randomness within a block of code.  "
   ]
  },
  {
   "cell_type": "code",
   "execution_count": null,
   "metadata": {},
   "outputs": [
    {
     "name": "stdout",
     "output_type": "stream",
     "text": [
      "olds:    0.246 0.363 0.227\n",
      "new1:    0.639 0.375 0.882\n",
      "new2:    0.639 0.375 0.882\n",
      "seeded1: 0.146 0.543 0.112\n",
      "seeded2: 0.146 0.543 0.112\n",
      "rewinds: 0.246 0.363 0.227\n"
     ]
    }
   ],
   "source": [
    "states=get_random_states()\n",
    "olds = (random.random(),np.random.random(),torch.rand(()))\n",
    "set_random_states(**states) #rewinding above random calls\n",
    "\n",
    "with no_random():\n",
    "    new1 = (random.random(),np.random.random(),torch.rand(()))\n",
    "with no_random():\n",
    "    new2 = (random.random(),np.random.random(),torch.rand(()))\n",
    "with no_random(seed=100):\n",
    "    seeded1 = (random.random(),np.random.random(),torch.rand(()))\n",
    "with no_random(seed=100):\n",
    "    seeded2 = (random.random(),np.random.random(),torch.rand(()))\n",
    "        \n",
    "rewinds = (random.random(),np.random.random(),torch.rand(()))\n",
    "\n",
    "print('olds:    {0:3.3f} {1:3.3f} {2:3.3f}'.format(*olds))\n",
    "print('new1:    {0:3.3f} {1:3.3f} {2:3.3f}'.format(*new1))\n",
    "print('new2:    {0:3.3f} {1:3.3f} {2:3.3f}'.format(*new2))\n",
    "print('seeded1: {0:3.3f} {1:3.3f} {2:3.3f}'.format(*seeded1))\n",
    "print('seeded2: {0:3.3f} {1:3.3f} {2:3.3f}'.format(*seeded2))\n",
    "print('rewinds: {0:3.3f} {1:3.3f} {2:3.3f}'.format(*rewinds))"
   ]
  },
  {
   "cell_type": "markdown",
   "metadata": {},
   "source": [
    "Notice that olds, and rewinds are alos both equal to each other. From this  we can see that everything in the `with` blocks did not update the state outside of the block. Inside of the block, the state is reset for any particular seed, so for the same seed you should get the same random number generator results.  "
   ]
  },
  {
   "cell_type": "markdown",
   "metadata": {},
   "source": [
    "Note: It is important to remember that classes like `Dataloader` have internal random number generators, and `no_random` will have no effect on those random number generators."
   ]
  },
  {
   "cell_type": "code",
   "execution_count": null,
   "metadata": {},
   "outputs": [],
   "source": [
    "test_ne(olds,new1)\n",
    "test_eq(new1,new2)\n",
    "test_ne(new1,seeded1)\n",
    "test_eq(seeded1,seeded2)\n",
    "test_eq(olds,rewinds)"
   ]
  },
  {
   "cell_type": "code",
   "execution_count": null,
   "metadata": {},
   "outputs": [],
   "source": [
    "#|export\n",
    "def unsqueeze(x, dim=-1, n=1):\n",
    "    \"Same as `torch.unsqueeze` but can add `n` dims\"\n",
    "    for _ in range(n): x = x.unsqueeze(dim)\n",
    "    return x"
   ]
  },
  {
   "cell_type": "code",
   "execution_count": null,
   "metadata": {},
   "outputs": [],
   "source": [
    "t = tensor([1])\n",
    "t2 = unsqueeze(t, n=2)\n",
    "test_eq(t2,t[:,None,None])"
   ]
  },
  {
   "cell_type": "code",
   "execution_count": null,
   "metadata": {},
   "outputs": [],
   "source": [
    "#|export\n",
    "def unsqueeze_(x, dim=-1, n=1):\n",
    "    \"Same as `torch.unsqueeze_` but can add `n` dims\"\n",
    "    for _ in range(n): x.unsqueeze_(dim)\n",
    "    return x"
   ]
  },
  {
   "cell_type": "code",
   "execution_count": null,
   "metadata": {},
   "outputs": [],
   "source": [
    "t = tensor([1])\n",
    "unsqueeze_(t, n=2)\n",
    "test_eq(t, tensor([1]).view(1,1,1))"
   ]
  },
  {
   "cell_type": "code",
   "execution_count": null,
   "metadata": {},
   "outputs": [],
   "source": [
    "#|export\n",
    "def _fa_rebuild_tensor (cls, *args, **kwargs): return cls(torch._utils._rebuild_tensor_v2(*args, **kwargs))\n",
    "def _fa_rebuild_qtensor(cls, *args, **kwargs): return cls(torch._utils._rebuild_qtensor  (*args, **kwargs))"
   ]
  },
  {
   "cell_type": "code",
   "execution_count": null,
   "metadata": {},
   "outputs": [],
   "source": [
    "#|export\n",
    "def apply(func, x, *args, **kwargs):\n",
    "    \"Apply `func` recursively to `x`, passing on args\"\n",
    "    if is_listy(x): return type(x)([apply(func, o, *args, **kwargs) for o in x])\n",
    "    if isinstance(x,(dict,MutableMapping)): return {k: apply(func, v, *args, **kwargs) for k,v in x.items()}\n",
    "    res = func(x, *args, **kwargs)\n",
    "    return res if x is None else retain_type(res, x)"
   ]
  },
  {
   "cell_type": "code",
   "execution_count": null,
   "metadata": {},
   "outputs": [],
   "source": [
    "#|export\n",
    "def maybe_gather(x, axis=0):\n",
    "    \"Gather copies of `x` on `axis` (if training is distributed)\"\n",
    "    if num_distrib()<=1: return x\n",
    "    ndim = x.ndim\n",
    "    res = [x.new_zeros(*x.shape if ndim > 0 else (1,)) for _ in range(num_distrib())]\n",
    "    torch.distributed.all_gather(res, x.contiguous() if ndim > 0 else x[None])\n",
    "    return torch.cat(res, dim=axis) if ndim > 0 else torch.cat(res, dim=axis).mean()"
   ]
  },
  {
   "cell_type": "code",
   "execution_count": null,
   "metadata": {},
   "outputs": [],
   "source": [
    "#|export\n",
    "def to_detach(b, cpu=True, gather=True):\n",
    "    \"Recursively detach lists of tensors in `b `; put them on the CPU if `cpu=True`.\"\n",
    "    def _inner(x, cpu=True, gather=True):\n",
    "        if not isinstance(x,Tensor): return x\n",
    "        x = x.detach()\n",
    "        if gather: x = maybe_gather(x)\n",
    "        return x.cpu() if cpu else x\n",
    "    return apply(_inner, b, cpu=cpu, gather=gather)"
   ]
  },
  {
   "cell_type": "markdown",
   "metadata": {},
   "source": [
    "`gather` only applies during distributed training and the result tensor will be the one gathered across processes if `gather=True` (as a result, the batch size will be multiplied by the number of processes)."
   ]
  },
  {
   "cell_type": "code",
   "execution_count": null,
   "metadata": {},
   "outputs": [],
   "source": [
    "#|export\n",
    "def to_half(b):\n",
    "    \"Recursively map floating point tensors in `b ` to FP16.\"\n",
    "    return apply(lambda x: x.half() if torch.is_floating_point(x) else x, b)"
   ]
  },
  {
   "cell_type": "code",
   "execution_count": null,
   "metadata": {},
   "outputs": [],
   "source": [
    "#|export\n",
    "def to_float(b):\n",
    "    \"Recursively map floating point tensors in `b ` to float.\"\n",
    "    return apply(lambda x: x.float() if torch.is_floating_point(x) else x, b)"
   ]
  },
  {
   "cell_type": "code",
   "execution_count": null,
   "metadata": {},
   "outputs": [],
   "source": [
    "#|export\n",
    "# None: True if available; True: error if not available; False: use CPU\n",
    "defaults.use_cuda = None"
   ]
  },
  {
   "cell_type": "code",
   "execution_count": null,
   "metadata": {},
   "outputs": [],
   "source": [
    "#|export\n",
    "def _has_mps():\n",
    "    if nested_attr(torch, 'backends.mps.is_available', noop)(): return True\n",
    "    return nested_attr(torch, 'backends.mps.is_built', False)()\n",
    "\n",
    "def default_device(use=-1):\n",
    "    \"Return or set default device; `use_cuda`: -1 - CUDA/mps if available; True - error if not available; False - CPU\"\n",
    "    if use == -1: use = defaults.use_cuda\n",
    "    else: defaults.use_cuda=use\n",
    "    if use is None:\n",
    "        if torch.cuda.is_available() or _has_mps(): use = True\n",
    "    if use:\n",
    "        if torch.cuda.is_available(): return torch.device(torch.cuda.current_device())\n",
    "        if _has_mps(): return torch.device('mps')\n",
    "    return torch.device('cpu')"
   ]
  },
  {
   "cell_type": "code",
   "execution_count": null,
   "metadata": {},
   "outputs": [],
   "source": [
    "#|cuda\n",
    "if torch.cuda.is_available():\n",
    "    _td = torch.device(torch.cuda.current_device())\n",
    "    test_eq(default_device(-1), _td)\n",
    "    test_eq(default_device(True), _td)\n",
    "else:\n",
    "    test_eq(default_device(False), torch.device('cpu'))\n",
    "default_device(-1);"
   ]
  },
  {
   "cell_type": "code",
   "execution_count": null,
   "metadata": {},
   "outputs": [],
   "source": [
    "#|export\n",
    "def to_device(b, device=None, non_blocking=False):\n",
    "    \"Recursively put `b` on `device`.\"\n",
    "    if defaults.use_cuda==False: device='cpu'\n",
    "    elif device is None: device=default_device()\n",
    "    def _inner(o):\n",
    "        # ToDo: add TensorDict when released\n",
    "        if isinstance(o,Tensor): return o.to(device, non_blocking=non_blocking)\n",
    "        return o\n",
    "    return apply(_inner, b)"
   ]
  },
  {
   "cell_type": "code",
   "execution_count": null,
   "metadata": {},
   "outputs": [],
   "source": [
    "t = to_device((3,(tensor(3),tensor(2))))\n",
    "t1,(t2,t3) = t"
   ]
  },
  {
   "cell_type": "code",
   "execution_count": null,
   "metadata": {},
   "outputs": [],
   "source": [
    "#|cuda\n",
    "if torch.cuda.is_available():\n",
    "    test_eq_type(t,(3,(tensor(3).cuda(),tensor(2).cuda())))\n",
    "    test_eq(t2.type(), \"torch.cuda.LongTensor\")\n",
    "    test_eq(t3.type(), \"torch.cuda.LongTensor\")"
   ]
  },
  {
   "cell_type": "code",
   "execution_count": null,
   "metadata": {},
   "outputs": [],
   "source": [
    "#|export\n",
    "def to_cpu(b):\n",
    "    \"Recursively map tensors in `b ` to the cpu.\"\n",
    "    return to_device(b,'cpu')"
   ]
  },
  {
   "cell_type": "code",
   "execution_count": null,
   "metadata": {},
   "outputs": [],
   "source": [
    "t3 = to_cpu(t3)\n",
    "test_eq(t3.type(), \"torch.LongTensor\")\n",
    "test_eq(t3, 2)"
   ]
  },
  {
   "cell_type": "code",
   "execution_count": null,
   "metadata": {},
   "outputs": [],
   "source": [
    "#|export\n",
    "def to_np(x):\n",
    "    \"Convert a tensor to a numpy array.\"\n",
    "    return apply(lambda o: o.data.cpu().numpy(), x)"
   ]
  },
  {
   "cell_type": "code",
   "execution_count": null,
   "metadata": {},
   "outputs": [],
   "source": [
    "t3 = to_np(t3)\n",
    "test_eq(type(t3), np.ndarray)\n",
    "test_eq(t3, 2)"
   ]
  },
  {
   "cell_type": "code",
   "execution_count": null,
   "metadata": {},
   "outputs": [],
   "source": [
    "#|export\n",
    "def to_concat(xs, dim=0):\n",
    "    \"Concat the element in `xs` (recursively if they are tuples/lists of tensors)\"\n",
    "    if not xs: return xs\n",
    "    if is_listy(xs[0]): return type(xs[0])([to_concat([x[i] for x in xs], dim=dim) for i in range_of(xs[0])])\n",
    "    if isinstance(xs[0],dict):  return {k: to_concat([x[k] for x in xs], dim=dim) for k in xs[0].keys()}\n",
    "    #We may receive xs that are not concatenable (inputs of a text classifier for instance),\n",
    "    #   in this case we return a big list\n",
    "    try:    return retain_type(torch.cat(xs, dim=dim), xs[0])\n",
    "    except: return sum([L(retain_type(o_.index_select(dim, tensor(i)).squeeze(dim), xs[0])\n",
    "                          for i in range_of(o_)) for o_ in xs], L())"
   ]
  },
  {
   "cell_type": "code",
   "execution_count": null,
   "metadata": {},
   "outputs": [],
   "source": [
    "test_eq(to_concat([tensor([1,2]), tensor([3,4])]), tensor([1,2,3,4]))\n",
    "test_eq(to_concat([tensor([[1,2]]), tensor([[3,4]])], dim=1), tensor([[1,2,3,4]]))\n",
    "test_eq_type(to_concat([(tensor([1,2]), tensor([3,4])), (tensor([3,4]), tensor([5,6]))]), (tensor([1,2,3,4]), tensor([3,4,5,6])))\n",
    "test_eq_type(to_concat([[tensor([1,2]), tensor([3,4])], [tensor([3,4]), tensor([5,6])]]), [tensor([1,2,3,4]), tensor([3,4,5,6])])\n",
    "test_eq_type(to_concat([(tensor([1,2]),), (tensor([3,4]),)]), (tensor([1,2,3,4]),))\n",
    "\n",
    "test_eq(to_concat([tensor([[1,2]]), tensor([[3,4], [5,6]])], dim=1), [tensor([1]),tensor([3, 5]),tensor([4, 6])])"
   ]
  },
  {
   "cell_type": "code",
   "execution_count": null,
   "metadata": {},
   "outputs": [],
   "source": [
    "test_eq(type(to_concat([dict(foo=tensor([1,2]), bar=tensor(3,4))])), dict)"
   ]
  },
  {
   "cell_type": "markdown",
   "metadata": {},
   "source": [
    "## Tensor subtypes"
   ]
  },
  {
   "cell_type": "code",
   "execution_count": null,
   "metadata": {},
   "outputs": [],
   "source": [
    "#|exporti\n",
    "# Parsed PyTorch versions for faster version checking\n",
    "_torch_version = parse(torch.__version__)\n",
    "_torch_20  = parse('2.0')\n",
    "_torch_113 = parse('1.13')\n",
    "_torch_112 = parse('1.12')"
   ]
  },
  {
   "cell_type": "code",
   "execution_count": null,
   "metadata": {},
   "outputs": [],
   "source": [
    "#|export\n",
    "@patch\n",
    "def set_meta(self:Tensor, x, as_copy=False):\n",
    "    \"Set all metadata in `__dict__`\"\n",
    "    if not hasattr(x,'__dict__'): return\n",
    "    # XXX: change to `deepcopy` once PyTorch 1.7.1 is out, and check nb 23 segmentation fit works\n",
    "    self.__dict__ = copy(x.__dict__) if as_copy else x.__dict__"
   ]
  },
  {
   "cell_type": "code",
   "execution_count": null,
   "metadata": {},
   "outputs": [],
   "source": [
    "#|export\n",
    "if not hasattr(torch,'as_subclass'): torch.as_subclass = torch.Tensor.as_subclass"
   ]
  },
  {
   "cell_type": "code",
   "execution_count": null,
   "metadata": {},
   "outputs": [],
   "source": [
    "#|export\n",
    "@patch\n",
    "def as_subclass(self:Tensor, typ):\n",
    "    \"Cast to `typ` and include `__dict__` and meta\"\n",
    "    return retain_meta(self, torch.as_subclass(self, typ))"
   ]
  },
  {
   "cell_type": "markdown",
   "metadata": {},
   "source": [
    "`Tensor.set_meta` and `Tensor.as_subclass` work together to maintain `__dict__` after casting."
   ]
  },
  {
   "cell_type": "code",
   "execution_count": null,
   "metadata": {},
   "outputs": [],
   "source": [
    "class _T(Tensor): pass\n",
    "t = tensor(1.).requires_grad_()\n",
    "t.img_size = 1\n",
    "t2 = t.as_subclass(_T)\n",
    "test_eq(t.img_size, t2.img_size)\n",
    "test_eq(t2.img_size, 1)\n",
    "assert(t2.requires_grad_)"
   ]
  },
  {
   "cell_type": "code",
   "execution_count": null,
   "metadata": {},
   "outputs": [],
   "source": [
    "#|export\n",
    "def _torch_handled(args, opt, func):\n",
    "    if func not in opt: return False\n",
    "    for oks in opt[func]:\n",
    "        if all(isinstance(arg,ok) for arg,ok in zip(args,oks) if ok): return True"
   ]
  },
  {
   "cell_type": "code",
   "execution_count": null,
   "metadata": {},
   "outputs": [],
   "source": [
    "#|export\n",
    "# from https://github.com/pytorch/pytorch/blob/13c975684a220ec096216ec6468ccd0dc90ff50a/torch/_tensor.py#L34\n",
    "def _rebuild_from_type(func, type, args, dict):\n",
    "    ret = func(*args).as_subclass(type)\n",
    "    ret.__dict__ = dict\n",
    "    return ret"
   ]
  },
  {
   "cell_type": "code",
   "execution_count": null,
   "metadata": {},
   "outputs": [],
   "source": [
    "#|export\n",
    "def _find_args(x):\n",
    "    x0 = x[0] if is_listy(x[0]) and x[0] else x\n",
    "    return [a for a in x0 if hasattr(a,'__dict__')]"
   ]
  },
  {
   "cell_type": "code",
   "execution_count": null,
   "metadata": {},
   "outputs": [],
   "source": [
    "#|export\n",
    "class TensorBase(Tensor):\n",
    "    \"A `Tensor` which support subclass pickling, and maintains metadata when casting or after methods\"\n",
    "    debug,_opt = False,defaultdict(list)\n",
    "    def __new__(cls, x, **kwargs):\n",
    "        res = cast(tensor(x), cls)\n",
    "        for k,v in kwargs.items(): setattr(res, k, v)\n",
    "        return res\n",
    "\n",
    "    @classmethod\n",
    "    def _before_cast(cls, x): return tensor(x)\n",
    "    def __repr__(self): return re.sub('tensor', self.__class__.__name__, super().__repr__())\n",
    "\n",
    "    def __reduce_ex__(self, proto):\n",
    "        if _torch_version >= _torch_20:\n",
    "            return super().__reduce_ex__(proto)\n",
    "        else:\n",
    "            torch.utils.hooks.warn_if_has_hooks(self)\n",
    "            args = (self.storage(), self.storage_offset(), tuple(self.size()), self.stride())\n",
    "            if self.is_quantized: args = args + (self.q_scale(), self.q_zero_point())\n",
    "            args = args + (self.requires_grad, OrderedDict())\n",
    "            f = torch._utils._rebuild_qtensor if self.is_quantized else  torch._utils._rebuild_tensor_v2\n",
    "            return (_rebuild_from_type, (f, type(self), args, self.__dict__))\n",
    "\n",
    "    @classmethod\n",
    "    def register_func(cls, func, *oks): cls._opt[func].append(oks)\n",
    "\n",
    "    @classmethod\n",
    "    def __torch_function__(cls, func, types, args=(), kwargs=None):\n",
    "        if cls.debug and func.__name__ not in ('__str__','__repr__'): print(func, types, args, kwargs)\n",
    "        if _torch_handled(args, cls._opt, func): types = (torch.Tensor,)\n",
    "        res = super().__torch_function__(func, types, args, ifnone(kwargs, {}))\n",
    "        dict_objs = _find_args(args) if args else _find_args(list(kwargs.values()))\n",
    "        if issubclass(type(res),TensorBase) and dict_objs: res.set_meta(dict_objs[0],as_copy=True)\n",
    "        elif dict_objs and is_listy(res): [r.set_meta(dict_objs[0],as_copy=True) for r in res if issubclass(type(r),TensorBase)]\n",
    "        return res\n",
    "\n",
    "    def new_tensor(self, size, dtype=None, device=None, requires_grad=False):\n",
    "        cls = type(self)\n",
    "        return self.as_subclass(Tensor).new_tensor(size, dtype=dtype, device=device, requires_grad=requires_grad).as_subclass(cls)\n",
    "\n",
    "    def new_ones(self, data, dtype=None, device=None, requires_grad=False):\n",
    "        cls = type(self)\n",
    "        return self.as_subclass(Tensor).new_ones(data, dtype=dtype, device=device, requires_grad=requires_grad).as_subclass(cls)\n",
    "\n",
    "    def new(self, x=None):\n",
    "        cls = type(self)\n",
    "        res = self.as_subclass(Tensor).new() if x is None else self.as_subclass(Tensor).new(x)\n",
    "        return res.as_subclass(cls)\n",
    "\n",
    "    def requires_grad_(self, requires_grad=True):\n",
    "        # Workaround https://github.com/pytorch/pytorch/issues/50219\n",
    "        self.requires_grad = requires_grad\n",
    "        return self\n",
    "\n",
    "    def clone(self, *, memory_format=None):\n",
    "        cls = type(self)\n",
    "        return self.as_subclass(Tensor).clone(memory_format=memory_format).as_subclass(cls)\n",
    "\n",
    "    def new_empty(self, size, *, dtype=None, layout=None, device=None, pin_memory=False, requires_grad=False):\n",
    "        cls = type(self)\n",
    "        if _torch_version < _torch_113 and layout is None:\n",
    "            layout = torch.strided\n",
    "        if _torch_version < _torch_112:\n",
    "            return super().new_empty(size, dtype=dtype, layout=layout, device=device, pin_memory=pin_memory, requires_grad=requires_grad)\n",
    "        return self.as_subclass(Tensor).new_empty(size, dtype=dtype, layout=layout, device=device, pin_memory=pin_memory, requires_grad=requires_grad).as_subclass(cls)\n",
    "\n",
    "    def new_empty(self, *size, dtype=None, layout=None, device=None, pin_memory=False, requires_grad=False):\n",
    "        cls = type(self)\n",
    "        if _torch_version < _torch_113 and layout is None:\n",
    "            layout = torch.strided\n",
    "        if _torch_version < _torch_112:\n",
    "            return super().new_empty(*size, dtype=dtype, layout=layout, device=device, pin_memory=pin_memory, requires_grad=requires_grad)\n",
    "        return self.as_subclass(Tensor).new_empty(*size, dtype=dtype, layout=layout, device=device, pin_memory=pin_memory, requires_grad=requires_grad).as_subclass(cls)"
   ]
  },
  {
   "cell_type": "markdown",
   "metadata": {},
   "source": [
    "`TensorBase` hooks into `__torch_function__` to ensure metadata is not lost. To see all functions being called, set `debug`."
   ]
  },
  {
   "cell_type": "code",
   "execution_count": null,
   "metadata": {},
   "outputs": [
    {
     "name": "stdout",
     "output_type": "stream",
     "text": [
      "<method 'add' of 'torch._C.TensorBase' objects> (<class '__main__.TensorBase'>,) (TensorBase(1), 1) None\n",
      "<function Tensor.__rdiv__ at 0x7f61ef7574c0> (<class '__main__.TensorBase'>,) (TensorBase(2), 1) {}\n"
     ]
    },
    {
     "data": {
      "text/plain": [
       "TensorBase(0.5000)"
      ]
     },
     "execution_count": null,
     "metadata": {},
     "output_type": "execute_result"
    }
   ],
   "source": [
    "a = TensorBase(1)\n",
    "TensorBase.debug=True\n",
    "1/(a+1)"
   ]
  },
  {
   "cell_type": "markdown",
   "metadata": {},
   "source": [
    "`TensorBase` and its subclasses also allow for passing through metadata size as img_size..."
   ]
  },
  {
   "cell_type": "code",
   "execution_count": null,
   "metadata": {},
   "outputs": [],
   "source": [
    "from torch.utils.data._utils.collate import default_collate"
   ]
  },
  {
   "cell_type": "code",
   "execution_count": null,
   "metadata": {},
   "outputs": [
    {
     "name": "stdout",
     "output_type": "stream",
     "text": [
      "<method-wrapper '__get__' of getset_descriptor object at 0x7f623bac3680> (<class '__main__.TensorBase'>,) (TensorBase(1),) None\n",
      "<built-in method stack of type object at 0x7f623b25e280> (<class '__main__.TensorBase'>,) ([TensorBase(1), TensorBase(1)], 0) None\n",
      "<method-wrapper '__get__' of getset_descriptor object at 0x7f623bac3600> (<class '__main__.TensorBase'>,) (TensorBase(1),) None\n",
      "<method-wrapper '__get__' of getset_descriptor object at 0x7f623bac36c0> (<class '__main__.TensorBase'>,) (TensorBase(1),) None\n",
      "<built-in method stack of type object at 0x7f623b25e280> (<class '__main__.TensorBase'>,) ([TensorBase(1), TensorBase(1)], 0) {'out': None}\n"
     ]
    }
   ],
   "source": [
    "a = TensorBase(1,img_size=(128,128))\n",
    "test_eq(a.img_size,(128,128))\n",
    "b = cast(a,TensorBase)\n",
    "test_eq(b.img_size,(128,128))\n",
    "test_eq(torch.stack([a,b],0).img_size,(128,128))\n",
    "\n",
    "test_eq(default_collate([a,b]).img_size,(128,128))"
   ]
  },
  {
   "cell_type": "code",
   "execution_count": null,
   "metadata": {},
   "outputs": [
    {
     "name": "stdout",
     "output_type": "stream",
     "text": [
      "<method 'add' of 'torch._C.TensorBase' objects> (<class '__main__._TImage2'>, <class '__main__._TImage'>) (_TImage2([1.]), _TImage([1.])) None\n"
     ]
    },
    {
     "data": {
      "text/plain": [
       "_TImage2([2.])"
      ]
     },
     "execution_count": null,
     "metadata": {},
     "output_type": "execute_result"
    }
   ],
   "source": [
    "class _TImage(TensorBase): pass\n",
    "class _TImage2(_TImage): pass\n",
    "t1 = _TImage([1.])\n",
    "t2 = _TImage2([1.])\n",
    "t2+t1"
   ]
  },
  {
   "cell_type": "code",
   "execution_count": null,
   "metadata": {},
   "outputs": [
    {
     "name": "stdout",
     "output_type": "stream",
     "text": [
      "<slot wrapper '__getitem__' of 'torch._C.TensorBase' objects> (<class '__main__._T'>,) (_T([0, 1, 2, 3, 4]), 0) None\n",
      "<method 'dim' of 'torch._C.TensorBase' objects> (<class '__main__._T'>,) (_T(0),) None\n",
      "<method '__eq__' of 'torch._C.TensorBase' objects> (<class '__main__._T'>,) (_T(0), 0) None\n",
      "<method '__bool__' of 'torch._C.TensorBase' objects> (<class '__main__._T'>,) (_T(True),) None\n",
      "<method 'add' of 'torch._C.TensorBase' objects> (<class '__main__._T'>,) (_T([0, 1, 2, 3, 4]), 1) None\n",
      "<method 'dim' of 'torch._C.TensorBase' objects> (<class '__main__._T'>,) (_T([1, 2, 3, 4, 5]),) None\n",
      "<built-in method equal of type object at 0x7f623b25e280> (<class '__main__._T'>,) (_T([1, 2, 3, 4, 5]), _T([1, 2, 3, 4, 5])) None\n",
      "<slot wrapper '__getitem__' of 'torch._C.TensorBase' objects> (<class '__main__._T'>,) (_T([0, 1, 2, 3, 4]), _T([False, False,  True,  True,  True])) None\n",
      "<method 'dim' of 'torch._C.TensorBase' objects> (<class '__main__._T'>,) (_T([2, 3, 4]),) None\n",
      "<built-in method equal of type object at 0x7f623b25e280> (<class '__main__._T'>,) (_T([2, 3, 4]), _T([2, 3, 4])) None\n",
      "<slot wrapper '__getitem__' of 'torch._C.TensorBase' objects> (<class '__main__._T'>,) (_T([0, 1, 2, 3, 4]), _T([2, 3, 4])) None\n",
      "<method 'dim' of 'torch._C.TensorBase' objects> (<class '__main__._T'>,) (_T([2, 3, 4]),) None\n",
      "<built-in method equal of type object at 0x7f623b25e280> (<class '__main__._T'>,) (_T([2, 3, 4]), _T([2, 3, 4])) None\n",
      "<function Tensor.__reduce_ex__ at 0x7f61ef756200> (<class '__main__._T'>,) (_T([0, 1, 2, 3, 4]), 4) {}\n",
      "<method 'dim' of 'torch._C.TensorBase' objects> (<class '__main__._T'>,) (_T([1]),) None\n",
      "<built-in method equal of type object at 0x7f623b25e280> (<class '__main__._T'>,) (_T([1]), _T([1])) None\n",
      "<method 'dim' of 'torch._C.TensorBase' objects> (<class '__main__._T'>,) (_T([1, 2]),) None\n",
      "<built-in method equal of type object at 0x7f623b25e280> (<class '__main__._T'>,) (_T([1, 2]), _T([1, 2])) None\n"
     ]
    }
   ],
   "source": [
    "class _T(TensorBase): pass\n",
    "\n",
    "t = _T(range(5))\n",
    "test_eq(t[0], 0)\n",
    "test_eq_type(t+1, _T(range(1,6)))\n",
    "test_eq(repr(t), '_T([0, 1, 2, 3, 4])')\n",
    "test_eq_type(t[_T([False,False,True,True,True])], _T([2,3,4]))\n",
    "test_eq_type(t[_T([2,3,4])], _T([2,3,4]))\n",
    "test_eq(type(pickle.loads(pickle.dumps(t))), _T)\n",
    "test_eq_type(t.new_ones(1), _T([1]))\n",
    "test_eq_type(t.new_tensor([1,2]), _T([1,2]))"
   ]
  },
  {
   "cell_type": "code",
   "execution_count": null,
   "metadata": {},
   "outputs": [
    {
     "name": "stdout",
     "output_type": "stream",
     "text": [
      "<slot wrapper '__getitem__' of 'torch._C.TensorBase' objects> (<class '__main__.TensorBase'>,) (tensor([1, 2, 3]), (TensorBase([False,  True,  True]),)) None\n",
      "<method 'dim' of 'torch._C.TensorBase' objects> (<class '__main__.TensorBase'>,) (TensorBase([2, 3]),) None\n",
      "<built-in method equal of type object at 0x7f623b25e280> (<class '__main__.TensorBase'>,) (TensorBase([2, 3]), tensor([2, 3])) None\n",
      "<slot wrapper '__getitem__' of 'torch._C.TensorBase' objects> (<class '__main__.TensorBase'>,) (tensor([[1, 2, 3],\n",
      "        [1, 2, 3]]), (TensorBase([[False,  True,  True],\n",
      "            [False,  True,  True]]),)) None\n",
      "<method 'dim' of 'torch._C.TensorBase' objects> (<class '__main__.TensorBase'>,) (TensorBase([2, 3, 2, 3]),) None\n",
      "<built-in method equal of type object at 0x7f623b25e280> (<class '__main__.TensorBase'>,) (TensorBase([2, 3, 2, 3]), tensor([2, 3, 2, 3])) None\n"
     ]
    }
   ],
   "source": [
    "t = tensor([1,2,3])\n",
    "m = TensorBase([False,True,True])\n",
    "test_eq(t[m], tensor([2,3]))\n",
    "t = tensor([[1,2,3],[1,2,3]])\n",
    "m = cast(tensor([[False,True,True],\n",
    "                 [False,True,True]]), TensorBase)\n",
    "test_eq(t[m], tensor([2,3,2,3]))"
   ]
  },
  {
   "cell_type": "code",
   "execution_count": null,
   "metadata": {},
   "outputs": [
    {
     "name": "stdout",
     "output_type": "stream",
     "text": [
      "<method 'add' of 'torch._C.TensorBase' objects> (<class '__main__.TensorBase'>,) (TensorBase([[1, 2, 3],\n",
      "            [1, 2, 3]]), 1) None\n",
      "<function Tensor.__reduce_ex__ at 0x7f61ef756200> (<class '__main__.TensorBase'>,) (TensorBase([[1, 2, 3],\n",
      "            [1, 2, 3]]), 4) {}\n"
     ]
    }
   ],
   "source": [
    "t = tensor([[1,2,3],[1,2,3]])\n",
    "t.img_size = 1\n",
    "t2 = cast(t, TensorBase)\n",
    "test_eq(t2.img_size, t.img_size)\n",
    "x = retain_type(tensor([4,5,6]), t2)\n",
    "test_eq(x.img_size, t.img_size)\n",
    "t3 = TensorBase([[1,2,3],[1,2,3]], img_size=1)\n",
    "test_eq(t3.img_size, t.img_size)\n",
    "t4 = t2+1\n",
    "t4.img_size = 2\n",
    "test_eq(t2.img_size, 1)\n",
    "test_eq(t4.img_size, 2)\n",
    "# this will fail with `Tensor` but works with `TensorBase`\n",
    "test_eq(pickle.loads(pickle.dumps(t2)).img_size, t2.img_size)"
   ]
  },
  {
   "cell_type": "code",
   "execution_count": null,
   "metadata": {},
   "outputs": [
    {
     "name": "stdout",
     "output_type": "stream",
     "text": [
      "<method 'dim' of 'torch._C.TensorBase' objects> (<class '__main__._T'>,) (_T([1., 2.]),) None\n",
      "<built-in method equal of type object at 0x7f623b25e280> (<class '__main__._T'>,) (_T([1., 2.]), _T([1., 2.])) None\n",
      "<method 'dim' of 'torch._C.TensorBase' objects> (<class '__main__._T'>,) (_T([]),) None\n",
      "<built-in method equal of type object at 0x7f623b25e280> (<class '__main__._T'>,) (_T([]), _T([])) None\n"
     ]
    }
   ],
   "source": [
    "#|hide\n",
    "# test of https://github.com/pytorch/pytorch/issues/47186\n",
    "class _T(TensorBase): ...\n",
    "t = _T([1.])\n",
    "test_eq_type(t.new([1,2]), _T([1.,2.]))\n",
    "test_eq_type(t.new(), _T([]))"
   ]
  },
  {
   "cell_type": "code",
   "execution_count": null,
   "metadata": {},
   "outputs": [
    {
     "name": "stdout",
     "output_type": "stream",
     "text": [
      "<method-wrapper '__set__' of getset_descriptor object at 0x7f623bac3040> (<class '__main__.TensorBase'>,) (TensorBase([[[[0.5708, 0.8475, 0.7140,  ..., 0.7895, 0.9324, 0.7568],\n",
      "              [0.9394, 0.3171, 0.9716,  ..., 0.6995, 0.1598, 0.0110],\n",
      "              [0.3597, 0.0678, 0.1368,  ..., 0.3620, 0.1473, 0.4860],\n",
      "              ...,\n",
      "              [0.6726, 0.6455, 0.9425,  ..., 0.6511, 0.6168, 0.0622],\n",
      "              [0.0690, 0.5459, 0.3411,  ..., 0.0705, 0.1316, 0.7224],\n",
      "              [0.2946, 0.6359, 0.2884,  ..., 0.7000, 0.7714, 0.5338]],\n",
      "\n",
      "             [[0.3908, 0.9694, 0.9863,  ..., 0.5513, 0.5862, 0.5930],\n",
      "              [0.1170, 0.9103, 0.3969,  ..., 0.7989, 0.1757, 0.7735],\n",
      "              [0.1598, 0.5372, 0.5908,  ..., 0.1630, 0.0237, 0.8300],\n",
      "              ...,\n",
      "              [0.8640, 0.3001, 0.0782,  ..., 0.6009, 0.4777, 0.9554],\n",
      "              [0.6304, 0.3418, 0.5150,  ..., 0.3454, 0.1745, 0.2838],\n",
      "              [0.6377, 0.9501, 0.7395,  ..., 0.3297, 0.7305, 0.6615]],\n",
      "\n",
      "             [[0.5855, 0.8642, 0.9928,  ..., 0.9336, 0.9579, 0.2852],\n",
      "              [0.1784, 0.0323, 0.3895,  ..., 0.5596, 0.2749, 0.9904],\n",
      "              [0.5831, 0.3606, 0.5505,  ..., 0.8579, 0.3015, 0.1888],\n",
      "              ...,\n",
      "              [0.8305, 0.9608, 0.9617,  ..., 0.9054, 0.6684, 0.6334],\n",
      "              [0.6394, 0.9518, 0.0019,  ..., 0.2920, 0.9653, 0.8009],\n",
      "              [0.7407, 0.5981, 0.6239,  ..., 0.9807, 0.0309, 0.7039]]],\n",
      "\n",
      "\n",
      "            [[[0.8349, 0.4699, 0.7818,  ..., 0.2354, 0.9931, 0.2562],\n",
      "              [0.7384, 0.0544, 0.2986,  ..., 0.7053, 0.9939, 0.5358],\n",
      "              [0.7180, 0.6658, 0.0929,  ..., 0.9697, 0.5565, 0.6585],\n",
      "              ...,\n",
      "              [0.0157, 0.4781, 0.9496,  ..., 0.3985, 0.8685, 0.6562],\n",
      "              [0.2488, 0.8800, 0.6100,  ..., 0.7633, 0.4010, 0.3440],\n",
      "              [0.1365, 0.3838, 0.9848,  ..., 0.6253, 0.9083, 0.7027]],\n",
      "\n",
      "             [[0.1125, 0.4395, 0.1308,  ..., 0.9889, 0.8319, 0.8035],\n",
      "              [0.5660, 0.4927, 0.9652,  ..., 0.2418, 0.1971, 0.4553],\n",
      "              [0.8551, 0.9240, 0.5551,  ..., 0.9321, 0.2447, 0.2243],\n",
      "              ...,\n",
      "              [0.8496, 0.4813, 0.6828,  ..., 0.7971, 0.3879, 0.6509],\n",
      "              [0.2483, 0.3371, 0.7252,  ..., 0.7815, 0.6182, 0.2047],\n",
      "              [0.1419, 0.5758, 0.5358,  ..., 0.6909, 0.7195, 0.5013]],\n",
      "\n",
      "             [[0.1589, 0.6581, 0.1071,  ..., 0.3427, 0.6028, 0.8637],\n",
      "              [0.8133, 0.3351, 0.5544,  ..., 0.9735, 0.7866, 0.2489],\n",
      "              [0.0512, 0.7660, 0.1335,  ..., 0.9559, 0.8837, 0.8328],\n",
      "              ...,\n",
      "              [0.9250, 0.3907, 0.9996,  ..., 0.9899, 0.3063, 0.9610],\n",
      "              [0.7283, 0.1462, 0.7379,  ..., 0.4152, 0.8554, 0.2260],\n",
      "              [0.2526, 0.3300, 0.8544,  ..., 0.7632, 0.9399, 0.7847]]],\n",
      "\n",
      "\n",
      "            [[[0.4566, 0.8679, 0.3000,  ..., 0.4525, 0.7161, 0.3188],\n",
      "              [0.7929, 0.2667, 0.0394,  ..., 0.1102, 0.3997, 0.6130],\n",
      "              [0.6493, 0.9866, 0.8730,  ..., 0.5847, 0.6586, 0.3532],\n",
      "              ...,\n",
      "              [0.0815, 0.8270, 0.5080,  ..., 0.3055, 0.8327, 0.3609],\n",
      "              [0.0561, 0.0592, 0.6348,  ..., 0.5039, 0.6436, 0.4171],\n",
      "              [0.2948, 0.2056, 0.4639,  ..., 0.3366, 0.3933, 0.4970]],\n",
      "\n",
      "             [[0.0938, 0.6247, 0.8723,  ..., 0.4090, 0.2258, 0.5491],\n",
      "              [0.3587, 0.0660, 0.9814,  ..., 0.3365, 0.5942, 0.1086],\n",
      "              [0.5833, 0.2447, 0.9918,  ..., 0.7203, 0.2042, 0.3800],\n",
      "              ...,\n",
      "              [0.4122, 0.9848, 0.7063,  ..., 0.0625, 0.1604, 0.7635],\n",
      "              [0.9695, 0.3063, 0.4630,  ..., 0.5949, 0.0499, 0.8581],\n",
      "              [0.4463, 0.6624, 0.7971,  ..., 0.2362, 0.0220, 0.9509]],\n",
      "\n",
      "             [[0.3529, 0.0495, 0.3407,  ..., 0.4016, 0.8655, 0.8667],\n",
      "              [0.3902, 0.8089, 0.1797,  ..., 0.7840, 0.6437, 0.7720],\n",
      "              [0.0420, 0.7995, 0.7858,  ..., 0.1546, 0.6068, 0.1051],\n",
      "              ...,\n",
      "              [0.5138, 0.8880, 0.5733,  ..., 0.0107, 0.8429, 0.5306],\n",
      "              [0.1758, 0.7503, 0.1847,  ..., 0.9452, 0.2520, 0.9834],\n",
      "              [0.2251, 0.0140, 0.6771,  ..., 0.7673, 0.7693, 0.4021]]],\n",
      "\n",
      "\n",
      "            [[[0.5629, 0.5101, 0.1052,  ..., 0.9037, 0.9884, 0.4924],\n",
      "              [0.2191, 0.6931, 0.1921,  ..., 0.7670, 0.3124, 0.2981],\n",
      "              [0.4219, 0.2407, 0.2585,  ..., 0.6958, 0.7508, 0.7989],\n",
      "              ...,\n",
      "              [0.7636, 0.4899, 0.5216,  ..., 0.4791, 0.4713, 0.8757],\n",
      "              [0.6376, 0.5353, 0.9331,  ..., 0.9376, 0.2272, 0.4453],\n",
      "              [0.7364, 0.3397, 0.5131,  ..., 0.3194, 0.1271, 0.4901]],\n",
      "\n",
      "             [[0.4121, 0.6055, 0.2137,  ..., 0.3933, 0.0254, 0.7037],\n",
      "              [0.7487, 0.1314, 0.4422,  ..., 0.8457, 0.4286, 0.9781],\n",
      "              [0.5288, 0.3209, 0.4315,  ..., 0.8889, 0.3465, 0.6653],\n",
      "              ...,\n",
      "              [0.7398, 0.1941, 0.3318,  ..., 0.3990, 0.0430, 0.0517],\n",
      "              [0.9225, 0.4310, 0.3891,  ..., 0.2509, 0.3872, 0.4108],\n",
      "              [0.8340, 0.4297, 0.3454,  ..., 0.3789, 0.9988, 0.2939]],\n",
      "\n",
      "             [[0.2726, 0.7506, 0.1099,  ..., 0.6822, 0.7401, 0.7213],\n",
      "              [0.8763, 0.0722, 0.3441,  ..., 0.1676, 0.2019, 0.0427],\n",
      "              [0.7010, 0.5170, 0.3799,  ..., 0.4677, 0.4321, 0.9741],\n",
      "              ...,\n",
      "              [0.1894, 0.2992, 0.4662,  ..., 0.2353, 0.7084, 0.0098],\n",
      "              [0.7170, 0.2578, 0.5378,  ..., 0.8467, 0.2883, 0.7928],\n",
      "              [0.2137, 0.2399, 0.5756,  ..., 0.6253, 0.2226, 0.0349]]]]), True) None\n",
      "<method-wrapper '__get__' of getset_descriptor object at 0x7f623bac3040> (<class '__main__.TensorBase'>,) (TensorBase([[[[0.5708, 0.8475, 0.7140,  ..., 0.7895, 0.9324, 0.7568],\n",
      "              [0.9394, 0.3171, 0.9716,  ..., 0.6995, 0.1598, 0.0110],\n",
      "              [0.3597, 0.0678, 0.1368,  ..., 0.3620, 0.1473, 0.4860],\n",
      "              ...,\n",
      "              [0.6726, 0.6455, 0.9425,  ..., 0.6511, 0.6168, 0.0622],\n",
      "              [0.0690, 0.5459, 0.3411,  ..., 0.0705, 0.1316, 0.7224],\n",
      "              [0.2946, 0.6359, 0.2884,  ..., 0.7000, 0.7714, 0.5338]],\n",
      "\n",
      "             [[0.3908, 0.9694, 0.9863,  ..., 0.5513, 0.5862, 0.5930],\n",
      "              [0.1170, 0.9103, 0.3969,  ..., 0.7989, 0.1757, 0.7735],\n",
      "              [0.1598, 0.5372, 0.5908,  ..., 0.1630, 0.0237, 0.8300],\n",
      "              ...,\n",
      "              [0.8640, 0.3001, 0.0782,  ..., 0.6009, 0.4777, 0.9554],\n",
      "              [0.6304, 0.3418, 0.5150,  ..., 0.3454, 0.1745, 0.2838],\n",
      "              [0.6377, 0.9501, 0.7395,  ..., 0.3297, 0.7305, 0.6615]],\n",
      "\n",
      "             [[0.5855, 0.8642, 0.9928,  ..., 0.9336, 0.9579, 0.2852],\n",
      "              [0.1784, 0.0323, 0.3895,  ..., 0.5596, 0.2749, 0.9904],\n",
      "              [0.5831, 0.3606, 0.5505,  ..., 0.8579, 0.3015, 0.1888],\n",
      "              ...,\n",
      "              [0.8305, 0.9608, 0.9617,  ..., 0.9054, 0.6684, 0.6334],\n",
      "              [0.6394, 0.9518, 0.0019,  ..., 0.2920, 0.9653, 0.8009],\n",
      "              [0.7407, 0.5981, 0.6239,  ..., 0.9807, 0.0309, 0.7039]]],\n",
      "\n",
      "\n",
      "            [[[0.8349, 0.4699, 0.7818,  ..., 0.2354, 0.9931, 0.2562],\n",
      "              [0.7384, 0.0544, 0.2986,  ..., 0.7053, 0.9939, 0.5358],\n",
      "              [0.7180, 0.6658, 0.0929,  ..., 0.9697, 0.5565, 0.6585],\n",
      "              ...,\n",
      "              [0.0157, 0.4781, 0.9496,  ..., 0.3985, 0.8685, 0.6562],\n",
      "              [0.2488, 0.8800, 0.6100,  ..., 0.7633, 0.4010, 0.3440],\n",
      "              [0.1365, 0.3838, 0.9848,  ..., 0.6253, 0.9083, 0.7027]],\n",
      "\n",
      "             [[0.1125, 0.4395, 0.1308,  ..., 0.9889, 0.8319, 0.8035],\n",
      "              [0.5660, 0.4927, 0.9652,  ..., 0.2418, 0.1971, 0.4553],\n",
      "              [0.8551, 0.9240, 0.5551,  ..., 0.9321, 0.2447, 0.2243],\n",
      "              ...,\n",
      "              [0.8496, 0.4813, 0.6828,  ..., 0.7971, 0.3879, 0.6509],\n",
      "              [0.2483, 0.3371, 0.7252,  ..., 0.7815, 0.6182, 0.2047],\n",
      "              [0.1419, 0.5758, 0.5358,  ..., 0.6909, 0.7195, 0.5013]],\n",
      "\n",
      "             [[0.1589, 0.6581, 0.1071,  ..., 0.3427, 0.6028, 0.8637],\n",
      "              [0.8133, 0.3351, 0.5544,  ..., 0.9735, 0.7866, 0.2489],\n",
      "              [0.0512, 0.7660, 0.1335,  ..., 0.9559, 0.8837, 0.8328],\n",
      "              ...,\n",
      "              [0.9250, 0.3907, 0.9996,  ..., 0.9899, 0.3063, 0.9610],\n",
      "              [0.7283, 0.1462, 0.7379,  ..., 0.4152, 0.8554, 0.2260],\n",
      "              [0.2526, 0.3300, 0.8544,  ..., 0.7632, 0.9399, 0.7847]]],\n",
      "\n",
      "\n",
      "            [[[0.4566, 0.8679, 0.3000,  ..., 0.4525, 0.7161, 0.3188],\n",
      "              [0.7929, 0.2667, 0.0394,  ..., 0.1102, 0.3997, 0.6130],\n",
      "              [0.6493, 0.9866, 0.8730,  ..., 0.5847, 0.6586, 0.3532],\n",
      "              ...,\n",
      "              [0.0815, 0.8270, 0.5080,  ..., 0.3055, 0.8327, 0.3609],\n",
      "              [0.0561, 0.0592, 0.6348,  ..., 0.5039, 0.6436, 0.4171],\n",
      "              [0.2948, 0.2056, 0.4639,  ..., 0.3366, 0.3933, 0.4970]],\n",
      "\n",
      "             [[0.0938, 0.6247, 0.8723,  ..., 0.4090, 0.2258, 0.5491],\n",
      "              [0.3587, 0.0660, 0.9814,  ..., 0.3365, 0.5942, 0.1086],\n",
      "              [0.5833, 0.2447, 0.9918,  ..., 0.7203, 0.2042, 0.3800],\n",
      "              ...,\n",
      "              [0.4122, 0.9848, 0.7063,  ..., 0.0625, 0.1604, 0.7635],\n",
      "              [0.9695, 0.3063, 0.4630,  ..., 0.5949, 0.0499, 0.8581],\n",
      "              [0.4463, 0.6624, 0.7971,  ..., 0.2362, 0.0220, 0.9509]],\n",
      "\n",
      "             [[0.3529, 0.0495, 0.3407,  ..., 0.4016, 0.8655, 0.8667],\n",
      "              [0.3902, 0.8089, 0.1797,  ..., 0.7840, 0.6437, 0.7720],\n",
      "              [0.0420, 0.7995, 0.7858,  ..., 0.1546, 0.6068, 0.1051],\n",
      "              ...,\n",
      "              [0.5138, 0.8880, 0.5733,  ..., 0.0107, 0.8429, 0.5306],\n",
      "              [0.1758, 0.7503, 0.1847,  ..., 0.9452, 0.2520, 0.9834],\n",
      "              [0.2251, 0.0140, 0.6771,  ..., 0.7673, 0.7693, 0.4021]]],\n",
      "\n",
      "\n",
      "            [[[0.5629, 0.5101, 0.1052,  ..., 0.9037, 0.9884, 0.4924],\n",
      "              [0.2191, 0.6931, 0.1921,  ..., 0.7670, 0.3124, 0.2981],\n",
      "              [0.4219, 0.2407, 0.2585,  ..., 0.6958, 0.7508, 0.7989],\n",
      "              ...,\n",
      "              [0.7636, 0.4899, 0.5216,  ..., 0.4791, 0.4713, 0.8757],\n",
      "              [0.6376, 0.5353, 0.9331,  ..., 0.9376, 0.2272, 0.4453],\n",
      "              [0.7364, 0.3397, 0.5131,  ..., 0.3194, 0.1271, 0.4901]],\n",
      "\n",
      "             [[0.4121, 0.6055, 0.2137,  ..., 0.3933, 0.0254, 0.7037],\n",
      "              [0.7487, 0.1314, 0.4422,  ..., 0.8457, 0.4286, 0.9781],\n",
      "              [0.5288, 0.3209, 0.4315,  ..., 0.8889, 0.3465, 0.6653],\n",
      "              ...,\n",
      "              [0.7398, 0.1941, 0.3318,  ..., 0.3990, 0.0430, 0.0517],\n",
      "              [0.9225, 0.4310, 0.3891,  ..., 0.2509, 0.3872, 0.4108],\n",
      "              [0.8340, 0.4297, 0.3454,  ..., 0.3789, 0.9988, 0.2939]],\n",
      "\n",
      "             [[0.2726, 0.7506, 0.1099,  ..., 0.6822, 0.7401, 0.7213],\n",
      "              [0.8763, 0.0722, 0.3441,  ..., 0.1676, 0.2019, 0.0427],\n",
      "              [0.7010, 0.5170, 0.3799,  ..., 0.4677, 0.4321, 0.9741],\n",
      "              ...,\n",
      "              [0.1894, 0.2992, 0.4662,  ..., 0.2353, 0.7084, 0.0098],\n",
      "              [0.7170, 0.2578, 0.5378,  ..., 0.8467, 0.2883, 0.7928],\n",
      "              [0.2137, 0.2399, 0.5756,  ..., 0.6253, 0.2226, 0.0349]]]],\n",
      "           requires_grad=True),) None\n",
      "<method-wrapper '__get__' of getset_descriptor object at 0x7f623bac3040> (<class '__main__.TensorBase'>,) (TensorBase([[[[0.5708, 0.8475, 0.7140,  ..., 0.7895, 0.9324, 0.7568],\n",
      "              [0.9394, 0.3171, 0.9716,  ..., 0.6995, 0.1598, 0.0110],\n",
      "              [0.3597, 0.0678, 0.1368,  ..., 0.3620, 0.1473, 0.4860],\n",
      "              ...,\n",
      "              [0.6726, 0.6455, 0.9425,  ..., 0.6511, 0.6168, 0.0622],\n",
      "              [0.0690, 0.5459, 0.3411,  ..., 0.0705, 0.1316, 0.7224],\n",
      "              [0.2946, 0.6359, 0.2884,  ..., 0.7000, 0.7714, 0.5338]],\n",
      "\n",
      "             [[0.3908, 0.9694, 0.9863,  ..., 0.5513, 0.5862, 0.5930],\n",
      "              [0.1170, 0.9103, 0.3969,  ..., 0.7989, 0.1757, 0.7735],\n",
      "              [0.1598, 0.5372, 0.5908,  ..., 0.1630, 0.0237, 0.8300],\n",
      "              ...,\n",
      "              [0.8640, 0.3001, 0.0782,  ..., 0.6009, 0.4777, 0.9554],\n",
      "              [0.6304, 0.3418, 0.5150,  ..., 0.3454, 0.1745, 0.2838],\n",
      "              [0.6377, 0.9501, 0.7395,  ..., 0.3297, 0.7305, 0.6615]],\n",
      "\n",
      "             [[0.5855, 0.8642, 0.9928,  ..., 0.9336, 0.9579, 0.2852],\n",
      "              [0.1784, 0.0323, 0.3895,  ..., 0.5596, 0.2749, 0.9904],\n",
      "              [0.5831, 0.3606, 0.5505,  ..., 0.8579, 0.3015, 0.1888],\n",
      "              ...,\n",
      "              [0.8305, 0.9608, 0.9617,  ..., 0.9054, 0.6684, 0.6334],\n",
      "              [0.6394, 0.9518, 0.0019,  ..., 0.2920, 0.9653, 0.8009],\n",
      "              [0.7407, 0.5981, 0.6239,  ..., 0.9807, 0.0309, 0.7039]]],\n",
      "\n",
      "\n",
      "            [[[0.8349, 0.4699, 0.7818,  ..., 0.2354, 0.9931, 0.2562],\n",
      "              [0.7384, 0.0544, 0.2986,  ..., 0.7053, 0.9939, 0.5358],\n",
      "              [0.7180, 0.6658, 0.0929,  ..., 0.9697, 0.5565, 0.6585],\n",
      "              ...,\n",
      "              [0.0157, 0.4781, 0.9496,  ..., 0.3985, 0.8685, 0.6562],\n",
      "              [0.2488, 0.8800, 0.6100,  ..., 0.7633, 0.4010, 0.3440],\n",
      "              [0.1365, 0.3838, 0.9848,  ..., 0.6253, 0.9083, 0.7027]],\n",
      "\n",
      "             [[0.1125, 0.4395, 0.1308,  ..., 0.9889, 0.8319, 0.8035],\n",
      "              [0.5660, 0.4927, 0.9652,  ..., 0.2418, 0.1971, 0.4553],\n",
      "              [0.8551, 0.9240, 0.5551,  ..., 0.9321, 0.2447, 0.2243],\n",
      "              ...,\n",
      "              [0.8496, 0.4813, 0.6828,  ..., 0.7971, 0.3879, 0.6509],\n",
      "              [0.2483, 0.3371, 0.7252,  ..., 0.7815, 0.6182, 0.2047],\n",
      "              [0.1419, 0.5758, 0.5358,  ..., 0.6909, 0.7195, 0.5013]],\n",
      "\n",
      "             [[0.1589, 0.6581, 0.1071,  ..., 0.3427, 0.6028, 0.8637],\n",
      "              [0.8133, 0.3351, 0.5544,  ..., 0.9735, 0.7866, 0.2489],\n",
      "              [0.0512, 0.7660, 0.1335,  ..., 0.9559, 0.8837, 0.8328],\n",
      "              ...,\n",
      "              [0.9250, 0.3907, 0.9996,  ..., 0.9899, 0.3063, 0.9610],\n",
      "              [0.7283, 0.1462, 0.7379,  ..., 0.4152, 0.8554, 0.2260],\n",
      "              [0.2526, 0.3300, 0.8544,  ..., 0.7632, 0.9399, 0.7847]]],\n",
      "\n",
      "\n",
      "            [[[0.4566, 0.8679, 0.3000,  ..., 0.4525, 0.7161, 0.3188],\n",
      "              [0.7929, 0.2667, 0.0394,  ..., 0.1102, 0.3997, 0.6130],\n",
      "              [0.6493, 0.9866, 0.8730,  ..., 0.5847, 0.6586, 0.3532],\n",
      "              ...,\n",
      "              [0.0815, 0.8270, 0.5080,  ..., 0.3055, 0.8327, 0.3609],\n",
      "              [0.0561, 0.0592, 0.6348,  ..., 0.5039, 0.6436, 0.4171],\n",
      "              [0.2948, 0.2056, 0.4639,  ..., 0.3366, 0.3933, 0.4970]],\n",
      "\n",
      "             [[0.0938, 0.6247, 0.8723,  ..., 0.4090, 0.2258, 0.5491],\n",
      "              [0.3587, 0.0660, 0.9814,  ..., 0.3365, 0.5942, 0.1086],\n",
      "              [0.5833, 0.2447, 0.9918,  ..., 0.7203, 0.2042, 0.3800],\n",
      "              ...,\n",
      "              [0.4122, 0.9848, 0.7063,  ..., 0.0625, 0.1604, 0.7635],\n",
      "              [0.9695, 0.3063, 0.4630,  ..., 0.5949, 0.0499, 0.8581],\n",
      "              [0.4463, 0.6624, 0.7971,  ..., 0.2362, 0.0220, 0.9509]],\n",
      "\n",
      "             [[0.3529, 0.0495, 0.3407,  ..., 0.4016, 0.8655, 0.8667],\n",
      "              [0.3902, 0.8089, 0.1797,  ..., 0.7840, 0.6437, 0.7720],\n",
      "              [0.0420, 0.7995, 0.7858,  ..., 0.1546, 0.6068, 0.1051],\n",
      "              ...,\n",
      "              [0.5138, 0.8880, 0.5733,  ..., 0.0107, 0.8429, 0.5306],\n",
      "              [0.1758, 0.7503, 0.1847,  ..., 0.9452, 0.2520, 0.9834],\n",
      "              [0.2251, 0.0140, 0.6771,  ..., 0.7673, 0.7693, 0.4021]]],\n",
      "\n",
      "\n",
      "            [[[0.5629, 0.5101, 0.1052,  ..., 0.9037, 0.9884, 0.4924],\n",
      "              [0.2191, 0.6931, 0.1921,  ..., 0.7670, 0.3124, 0.2981],\n",
      "              [0.4219, 0.2407, 0.2585,  ..., 0.6958, 0.7508, 0.7989],\n",
      "              ...,\n",
      "              [0.7636, 0.4899, 0.5216,  ..., 0.4791, 0.4713, 0.8757],\n",
      "              [0.6376, 0.5353, 0.9331,  ..., 0.9376, 0.2272, 0.4453],\n",
      "              [0.7364, 0.3397, 0.5131,  ..., 0.3194, 0.1271, 0.4901]],\n",
      "\n",
      "             [[0.4121, 0.6055, 0.2137,  ..., 0.3933, 0.0254, 0.7037],\n",
      "              [0.7487, 0.1314, 0.4422,  ..., 0.8457, 0.4286, 0.9781],\n",
      "              [0.5288, 0.3209, 0.4315,  ..., 0.8889, 0.3465, 0.6653],\n",
      "              ...,\n",
      "              [0.7398, 0.1941, 0.3318,  ..., 0.3990, 0.0430, 0.0517],\n",
      "              [0.9225, 0.4310, 0.3891,  ..., 0.2509, 0.3872, 0.4108],\n",
      "              [0.8340, 0.4297, 0.3454,  ..., 0.3789, 0.9988, 0.2939]],\n",
      "\n",
      "             [[0.2726, 0.7506, 0.1099,  ..., 0.6822, 0.7401, 0.7213],\n",
      "              [0.8763, 0.0722, 0.3441,  ..., 0.1676, 0.2019, 0.0427],\n",
      "              [0.7010, 0.5170, 0.3799,  ..., 0.4677, 0.4321, 0.9741],\n",
      "              ...,\n",
      "              [0.1894, 0.2992, 0.4662,  ..., 0.2353, 0.7084, 0.0098],\n",
      "              [0.7170, 0.2578, 0.5378,  ..., 0.8467, 0.2883, 0.7928],\n",
      "              [0.2137, 0.2399, 0.5756,  ..., 0.6253, 0.2226, 0.0349]]]],\n",
      "           requires_grad=True),) None\n"
     ]
    }
   ],
   "source": [
    "#|hide\n",
    "# test of https://github.com/pytorch/pytorch/issues/50219\n",
    "x = TensorBase(torch.rand(4,3,16,16))\n",
    "with torch.no_grad():\n",
    "    y = x.requires_grad_()\n",
    "    assert y.requires_grad and x.requires_grad"
   ]
  },
  {
   "cell_type": "code",
   "execution_count": null,
   "metadata": {},
   "outputs": [
    {
     "name": "stdout",
     "output_type": "stream",
     "text": [
      "<function Tensor.__deepcopy__ at 0x7f61ef756160> (<class '__main__.TensorBase'>,) (TensorBase([[[[0.1625, 0.8857, 0.4390,  ..., 0.2005, 0.2938, 0.6175],\n",
      "              [0.3287, 0.5804, 0.0474,  ..., 0.2407, 0.3548, 0.3597],\n",
      "              [0.0465, 0.7296, 0.4731,  ..., 0.1153, 0.5640, 0.8762],\n",
      "              ...,\n",
      "              [0.4887, 0.9589, 0.1074,  ..., 0.3505, 0.9199, 0.8175],\n",
      "              [0.2921, 0.7486, 0.9594,  ..., 0.3978, 0.3893, 0.8020],\n",
      "              [0.6856, 0.1313, 0.0936,  ..., 0.3298, 0.9172, 0.7879]],\n",
      "\n",
      "             [[0.3796, 0.1969, 0.8965,  ..., 0.5594, 0.8633, 0.9697],\n",
      "              [0.6234, 0.5566, 0.1832,  ..., 0.2852, 0.4917, 0.7895],\n",
      "              [0.5349, 0.1274, 0.6462,  ..., 0.0484, 0.0608, 0.8027],\n",
      "              ...,\n",
      "              [0.9892, 0.3261, 0.7997,  ..., 0.2350, 0.3914, 0.5503],\n",
      "              [0.9752, 0.3493, 0.7733,  ..., 0.2109, 0.3039, 0.7894],\n",
      "              [0.7217, 0.2117, 0.1122,  ..., 0.6805, 0.9811, 0.8143]],\n",
      "\n",
      "             [[0.0061, 0.0824, 0.6503,  ..., 0.4321, 0.1267, 0.0860],\n",
      "              [0.6645, 0.8139, 0.0037,  ..., 0.4363, 0.1170, 0.6441],\n",
      "              [0.3379, 0.8728, 0.4833,  ..., 0.9679, 0.4825, 0.9841],\n",
      "              ...,\n",
      "              [0.6915, 0.3892, 0.5269,  ..., 0.7592, 0.1088, 0.5462],\n",
      "              [0.9434, 0.2807, 0.0430,  ..., 0.3577, 0.2376, 0.1003],\n",
      "              [0.3575, 0.7135, 0.5313,  ..., 0.6922, 0.3027, 0.7699]]],\n",
      "\n",
      "\n",
      "            [[[0.8753, 0.5479, 0.5162,  ..., 0.0302, 0.7361, 0.7496],\n",
      "              [0.0357, 0.5986, 0.1073,  ..., 0.8031, 0.3613, 0.7559],\n",
      "              [0.3675, 0.9565, 0.3752,  ..., 0.6910, 0.9455, 0.0934],\n",
      "              ...,\n",
      "              [0.2481, 0.8226, 0.2685,  ..., 0.2532, 0.7481, 0.5096],\n",
      "              [0.1417, 0.6998, 0.8515,  ..., 0.1352, 0.6715, 0.1217],\n",
      "              [0.2243, 0.7743, 0.9126,  ..., 0.1981, 0.1772, 0.3801]],\n",
      "\n",
      "             [[0.9116, 0.8088, 0.9264,  ..., 0.0593, 0.4594, 0.1063],\n",
      "              [0.6007, 0.8454, 0.2816,  ..., 0.5149, 0.2087, 0.2594],\n",
      "              [0.5929, 0.0400, 0.1731,  ..., 0.5073, 0.8772, 0.0740],\n",
      "              ...,\n",
      "              [0.5476, 0.3704, 0.7854,  ..., 0.3646, 0.2647, 0.2663],\n",
      "              [0.7309, 0.2033, 0.9367,  ..., 0.4005, 0.3992, 0.8651],\n",
      "              [0.9980, 0.3880, 0.6436,  ..., 0.2212, 0.0976, 0.5204]],\n",
      "\n",
      "             [[0.7279, 0.6172, 0.6550,  ..., 0.7464, 0.2146, 0.3734],\n",
      "              [0.7155, 0.2850, 0.4943,  ..., 0.0813, 0.6680, 0.7149],\n",
      "              [0.0890, 0.1766, 0.8688,  ..., 0.4733, 0.1653, 0.8848],\n",
      "              ...,\n",
      "              [0.2028, 0.5781, 0.9541,  ..., 0.2351, 0.1804, 0.6911],\n",
      "              [0.2356, 0.2756, 0.9409,  ..., 0.1409, 0.5444, 0.1763],\n",
      "              [0.3734, 0.3463, 0.9586,  ..., 0.4539, 0.9720, 0.7150]]],\n",
      "\n",
      "\n",
      "            [[[0.3346, 0.0790, 0.8661,  ..., 0.7498, 0.7643, 0.3290],\n",
      "              [0.6228, 0.3745, 0.3026,  ..., 0.0783, 0.2643, 0.6930],\n",
      "              [0.4546, 0.7980, 0.7773,  ..., 0.3371, 0.4315, 0.0353],\n",
      "              ...,\n",
      "              [0.7659, 0.5929, 0.3071,  ..., 0.9807, 0.1783, 0.7576],\n",
      "              [0.8468, 0.5097, 0.6502,  ..., 0.0365, 0.1582, 0.7884],\n",
      "              [0.6292, 0.5612, 0.6809,  ..., 0.6047, 0.7940, 0.8724]],\n",
      "\n",
      "             [[0.1102, 0.7456, 0.8119,  ..., 0.6117, 0.2669, 0.0932],\n",
      "              [0.6195, 0.0480, 0.7217,  ..., 0.1438, 0.3373, 0.2825],\n",
      "              [0.7705, 0.6956, 0.8866,  ..., 0.3378, 0.9520, 0.5177],\n",
      "              ...,\n",
      "              [0.7441, 0.3412, 0.5998,  ..., 0.9097, 0.5995, 0.1617],\n",
      "              [0.7009, 0.7301, 0.8236,  ..., 0.7929, 0.7357, 0.6042],\n",
      "              [0.5412, 0.0369, 0.7533,  ..., 0.9144, 0.4963, 0.4403]],\n",
      "\n",
      "             [[0.5951, 0.6649, 0.7772,  ..., 0.1812, 0.8919, 0.6632],\n",
      "              [0.7674, 0.8924, 0.1391,  ..., 0.1105, 0.7859, 0.6155],\n",
      "              [0.6417, 0.5838, 0.8109,  ..., 0.1215, 0.6743, 0.5753],\n",
      "              ...,\n",
      "              [0.3316, 0.3442, 0.7531,  ..., 0.5900, 0.9928, 0.9987],\n",
      "              [0.1768, 0.6546, 0.2029,  ..., 0.4632, 0.7952, 0.1720],\n",
      "              [0.4482, 0.1750, 0.9377,  ..., 0.2466, 0.9172, 0.5940]]],\n",
      "\n",
      "\n",
      "            [[[0.1561, 0.5588, 0.8629,  ..., 0.7388, 0.3092, 0.7448],\n",
      "              [0.1153, 0.6599, 0.3609,  ..., 0.6645, 0.3000, 0.8944],\n",
      "              [0.5420, 0.0829, 0.1965,  ..., 0.3622, 0.1527, 0.1190],\n",
      "              ...,\n",
      "              [0.5729, 0.3366, 0.0936,  ..., 0.1946, 0.0409, 0.9507],\n",
      "              [0.0809, 0.0946, 0.1691,  ..., 0.2768, 0.7270, 0.5397],\n",
      "              [0.9839, 0.0571, 0.5901,  ..., 0.9321, 0.7164, 0.0444]],\n",
      "\n",
      "             [[0.4246, 0.6782, 0.5979,  ..., 0.2112, 0.7446, 0.5310],\n",
      "              [0.9260, 0.7198, 0.5733,  ..., 0.9375, 0.8939, 0.9329],\n",
      "              [0.8480, 0.3286, 0.1901,  ..., 0.2977, 0.0534, 0.4348],\n",
      "              ...,\n",
      "              [0.5759, 0.2573, 0.6579,  ..., 0.5237, 0.1866, 0.4678],\n",
      "              [0.2960, 0.8930, 0.7052,  ..., 0.6895, 0.9807, 0.4111],\n",
      "              [0.7447, 0.0197, 0.4236,  ..., 0.6623, 0.8718, 0.6991]],\n",
      "\n",
      "             [[0.4090, 0.3419, 0.4515,  ..., 0.8599, 0.6284, 0.5228],\n",
      "              [0.8162, 0.8263, 0.0384,  ..., 0.9579, 0.8236, 0.3948],\n",
      "              [0.6206, 0.6297, 0.1367,  ..., 0.0951, 0.8979, 0.6360],\n",
      "              ...,\n",
      "              [0.7123, 0.9985, 0.7947,  ..., 0.7456, 0.7904, 0.6716],\n",
      "              [0.8183, 0.8336, 0.9821,  ..., 0.5461, 0.0590, 0.7946],\n",
      "              [0.1020, 0.0060, 0.9664,  ..., 0.0477, 0.4059, 0.9081]]]]), {}) {}\n"
     ]
    }
   ],
   "source": [
    "#|hide\n",
    "x = TensorBase(torch.rand(4,3,16,16))\n",
    "x.test = 'test metadata'\n",
    "y = deepcopy(x)\n",
    "assert hasattr(y, 'test') and y.test == x.test"
   ]
  },
  {
   "cell_type": "code",
   "execution_count": null,
   "metadata": {},
   "outputs": [],
   "source": [
    "#|export\n",
    "class TensorImageBase(TensorBase):\n",
    "    _show_args = ArrayImageBase._show_args\n",
    "    def show(self, ctx=None, **kwargs):\n",
    "        return show_image(self, ctx=ctx, **{**self._show_args, **kwargs})"
   ]
  },
  {
   "cell_type": "code",
   "execution_count": null,
   "metadata": {},
   "outputs": [],
   "source": [
    "#|export\n",
    "class TensorImage(TensorImageBase): pass"
   ]
  },
  {
   "cell_type": "code",
   "execution_count": null,
   "metadata": {},
   "outputs": [],
   "source": [
    "#|export\n",
    "class TensorImageBW(TensorImage): _show_args = ArrayImageBW._show_args"
   ]
  },
  {
   "cell_type": "code",
   "execution_count": null,
   "metadata": {},
   "outputs": [],
   "source": [
    "#|export\n",
    "class TensorMask(TensorImageBase):\n",
    "    _show_args = ArrayMask._show_args\n",
    "\n",
    "    def show(self, ctx=None, **kwargs):\n",
    "        codes = getattr(self, 'codes', None)\n",
    "        if codes is not None: kwargs = merge({'vmin': 0, 'vmax': len(codes)}, kwargs)\n",
    "        return super().show(ctx=ctx, **kwargs)"
   ]
  },
  {
   "cell_type": "code",
   "execution_count": null,
   "metadata": {},
   "outputs": [],
   "source": [
    "#|export\n",
    "for o in Tensor.__getitem__, Tensor.__ne__,Tensor.__eq__,Tensor.add,Tensor.sub,Tensor.mul,Tensor.div,Tensor.__rsub__,Tensor.__radd__,Tensor.matmul,Tensor.bmm:\n",
    "    TensorBase.register_func(o, TensorMask, TensorImageBase)\n",
    "    TensorBase.register_func(o, TensorImageBase, TensorMask)\n",
    "\n",
    "TensorMask.register_func(torch.einsum, str, TensorImageBase, TensorMask)\n",
    "TensorMask.register_func(torch.einsum, str, TensorMask, TensorImageBase)"
   ]
  },
  {
   "cell_type": "code",
   "execution_count": null,
   "metadata": {},
   "outputs": [],
   "source": [
    "im = Image.open(TEST_IMAGE)\n",
    "im_t = cast(array(im), TensorImage)\n",
    "test_eq(type(im_t), TensorImage)"
   ]
  },
  {
   "cell_type": "code",
   "execution_count": null,
   "metadata": {},
   "outputs": [
    {
     "name": "stdout",
     "output_type": "stream",
     "text": [
      "<method 'dim' of 'torch._C.TensorBase' objects> (<class '__main__.TensorMask'>,) (TensorMask(1),) None\n",
      "<method '__eq__' of 'torch._C.TensorBase' objects> (<class '__main__.TensorMask'>,) (TensorMask(1), tensor(1)) None\n",
      "<method '__bool__' of 'torch._C.TensorBase' objects> (<class '__main__.TensorMask'>,) (TensorMask(True),) None\n",
      "<method-wrapper '__get__' of getset_descriptor object at 0x7f623bac2e40> (<class '__main__.TensorImage'>,) (TensorImage([[[192, 191, 199],\n",
      "              [195, 194, 202],\n",
      "              [199, 198, 204],\n",
      "              ...,\n",
      "              [140, 142, 154],\n",
      "              [146, 148, 160],\n",
      "              [152, 154, 166]],\n",
      "\n",
      "             [[193, 192, 200],\n",
      "              [195, 194, 202],\n",
      "              [198, 197, 203],\n",
      "              ...,\n",
      "              [142, 144, 156],\n",
      "              [148, 150, 162],\n",
      "              [153, 155, 167]],\n",
      "\n",
      "             [[194, 193, 201],\n",
      "              [194, 193, 201],\n",
      "              [196, 195, 203],\n",
      "              ...,\n",
      "              [146, 148, 160],\n",
      "              [151, 153, 165],\n",
      "              [155, 157, 169]],\n",
      "\n",
      "             ...,\n",
      "\n",
      "             [[160, 160, 162],\n",
      "              [159, 159, 161],\n",
      "              [161, 161, 163],\n",
      "              ...,\n",
      "              [201, 202, 207],\n",
      "              [207, 206, 212],\n",
      "              [209, 210, 215]],\n",
      "\n",
      "             [[158, 158, 160],\n",
      "              [158, 158, 160],\n",
      "              [161, 161, 163],\n",
      "              ...,\n",
      "              [208, 208, 216],\n",
      "              [213, 213, 223],\n",
      "              [215, 215, 225]],\n",
      "\n",
      "             [[156, 156, 158],\n",
      "              [157, 157, 159],\n",
      "              [160, 160, 162],\n",
      "              ...,\n",
      "              [214, 214, 222],\n",
      "              [218, 218, 228],\n",
      "              [219, 219, 229]]], dtype=torch.uint8),) None\n",
      "<method-wrapper '__get__' of getset_descriptor object at 0x7f623bac2e40> (<class '__main__.TensorImage'>,) (TensorImage([[[192, 191, 199],\n",
      "              [195, 194, 202],\n",
      "              [199, 198, 204],\n",
      "              ...,\n",
      "              [140, 142, 154],\n",
      "              [146, 148, 160],\n",
      "              [152, 154, 166]],\n",
      "\n",
      "             [[193, 192, 200],\n",
      "              [195, 194, 202],\n",
      "              [198, 197, 203],\n",
      "              ...,\n",
      "              [142, 144, 156],\n",
      "              [148, 150, 162],\n",
      "              [153, 155, 167]],\n",
      "\n",
      "             [[194, 193, 201],\n",
      "              [194, 193, 201],\n",
      "              [196, 195, 203],\n",
      "              ...,\n",
      "              [146, 148, 160],\n",
      "              [151, 153, 165],\n",
      "              [155, 157, 169]],\n",
      "\n",
      "             ...,\n",
      "\n",
      "             [[160, 160, 162],\n",
      "              [159, 159, 161],\n",
      "              [161, 161, 163],\n",
      "              ...,\n",
      "              [201, 202, 207],\n",
      "              [207, 206, 212],\n",
      "              [209, 210, 215]],\n",
      "\n",
      "             [[158, 158, 160],\n",
      "              [158, 158, 160],\n",
      "              [161, 161, 163],\n",
      "              ...,\n",
      "              [208, 208, 216],\n",
      "              [213, 213, 223],\n",
      "              [215, 215, 225]],\n",
      "\n",
      "             [[156, 156, 158],\n",
      "              [157, 157, 159],\n",
      "              [160, 160, 162],\n",
      "              ...,\n",
      "              [214, 214, 222],\n",
      "              [218, 218, 228],\n",
      "              [219, 219, 229]]], dtype=torch.uint8),) None\n",
      "<method 'cpu' of 'torch._C.TensorBase' objects> (<class '__main__.TensorImage'>,) (TensorImage([[[192, 191, 199],\n",
      "              [195, 194, 202],\n",
      "              [199, 198, 204],\n",
      "              ...,\n",
      "              [140, 142, 154],\n",
      "              [146, 148, 160],\n",
      "              [152, 154, 166]],\n",
      "\n",
      "             [[193, 192, 200],\n",
      "              [195, 194, 202],\n",
      "              [198, 197, 203],\n",
      "              ...,\n",
      "              [142, 144, 156],\n",
      "              [148, 150, 162],\n",
      "              [153, 155, 167]],\n",
      "\n",
      "             [[194, 193, 201],\n",
      "              [194, 193, 201],\n",
      "              [196, 195, 203],\n",
      "              ...,\n",
      "              [146, 148, 160],\n",
      "              [151, 153, 165],\n",
      "              [155, 157, 169]],\n",
      "\n",
      "             ...,\n",
      "\n",
      "             [[160, 160, 162],\n",
      "              [159, 159, 161],\n",
      "              [161, 161, 163],\n",
      "              ...,\n",
      "              [201, 202, 207],\n",
      "              [207, 206, 212],\n",
      "              [209, 210, 215]],\n",
      "\n",
      "             [[158, 158, 160],\n",
      "              [158, 158, 160],\n",
      "              [161, 161, 163],\n",
      "              ...,\n",
      "              [208, 208, 216],\n",
      "              [213, 213, 223],\n",
      "              [215, 215, 225]],\n",
      "\n",
      "             [[156, 156, 158],\n",
      "              [157, 157, 159],\n",
      "              [160, 160, 162],\n",
      "              ...,\n",
      "              [214, 214, 222],\n",
      "              [218, 218, 228],\n",
      "              [219, 219, 229]]], dtype=torch.uint8),) None\n",
      "<method-wrapper '__get__' of getset_descriptor object at 0x7f623bac3140> (<class '__main__.TensorImage'>,) (TensorImage([[[192, 191, 199],\n",
      "              [195, 194, 202],\n",
      "              [199, 198, 204],\n",
      "              ...,\n",
      "              [140, 142, 154],\n",
      "              [146, 148, 160],\n",
      "              [152, 154, 166]],\n",
      "\n",
      "             [[193, 192, 200],\n",
      "              [195, 194, 202],\n",
      "              [198, 197, 203],\n",
      "              ...,\n",
      "              [142, 144, 156],\n",
      "              [148, 150, 162],\n",
      "              [153, 155, 167]],\n",
      "\n",
      "             [[194, 193, 201],\n",
      "              [194, 193, 201],\n",
      "              [196, 195, 203],\n",
      "              ...,\n",
      "              [146, 148, 160],\n",
      "              [151, 153, 165],\n",
      "              [155, 157, 169]],\n",
      "\n",
      "             ...,\n",
      "\n",
      "             [[160, 160, 162],\n",
      "              [159, 159, 161],\n",
      "              [161, 161, 163],\n",
      "              ...,\n",
      "              [201, 202, 207],\n",
      "              [207, 206, 212],\n",
      "              [209, 210, 215]],\n",
      "\n",
      "             [[158, 158, 160],\n",
      "              [158, 158, 160],\n",
      "              [161, 161, 163],\n",
      "              ...,\n",
      "              [208, 208, 216],\n",
      "              [213, 213, 223],\n",
      "              [215, 215, 225]],\n",
      "\n",
      "             [[156, 156, 158],\n",
      "              [157, 157, 159],\n",
      "              [160, 160, 162],\n",
      "              ...,\n",
      "              [214, 214, 222],\n",
      "              [218, 218, 228],\n",
      "              [219, 219, 229]]], dtype=torch.uint8),) None\n",
      "<method-wrapper '__get__' of getset_descriptor object at 0x7f623bac3140> (<class '__main__.TensorImage'>,) (TensorImage([[[192, 191, 199],\n",
      "              [195, 194, 202],\n",
      "              [199, 198, 204],\n",
      "              ...,\n",
      "              [140, 142, 154],\n",
      "              [146, 148, 160],\n",
      "              [152, 154, 166]],\n",
      "\n",
      "             [[193, 192, 200],\n",
      "              [195, 194, 202],\n",
      "              [198, 197, 203],\n",
      "              ...,\n",
      "              [142, 144, 156],\n",
      "              [148, 150, 162],\n",
      "              [153, 155, 167]],\n",
      "\n",
      "             [[194, 193, 201],\n",
      "              [194, 193, 201],\n",
      "              [196, 195, 203],\n",
      "              ...,\n",
      "              [146, 148, 160],\n",
      "              [151, 153, 165],\n",
      "              [155, 157, 169]],\n",
      "\n",
      "             ...,\n",
      "\n",
      "             [[160, 160, 162],\n",
      "              [159, 159, 161],\n",
      "              [161, 161, 163],\n",
      "              ...,\n",
      "              [201, 202, 207],\n",
      "              [207, 206, 212],\n",
      "              [209, 210, 215]],\n",
      "\n",
      "             [[158, 158, 160],\n",
      "              [158, 158, 160],\n",
      "              [161, 161, 163],\n",
      "              ...,\n",
      "              [208, 208, 216],\n",
      "              [213, 213, 223],\n",
      "              [215, 215, 225]],\n",
      "\n",
      "             [[156, 156, 158],\n",
      "              [157, 157, 159],\n",
      "              [160, 160, 162],\n",
      "              ...,\n",
      "              [214, 214, 222],\n",
      "              [218, 218, 228],\n",
      "              [219, 219, 229]]], dtype=torch.uint8),) None\n",
      "<function Tensor.__array__ at 0x7f61ef7c02c0> (<class '__main__.TensorImage'>,) (TensorImage([[[192, 191, 199],\n",
      "              [195, 194, 202],\n",
      "              [199, 198, 204],\n",
      "              ...,\n",
      "              [140, 142, 154],\n",
      "              [146, 148, 160],\n",
      "              [152, 154, 166]],\n",
      "\n",
      "             [[193, 192, 200],\n",
      "              [195, 194, 202],\n",
      "              [198, 197, 203],\n",
      "              ...,\n",
      "              [142, 144, 156],\n",
      "              [148, 150, 162],\n",
      "              [153, 155, 167]],\n",
      "\n",
      "             [[194, 193, 201],\n",
      "              [194, 193, 201],\n",
      "              [196, 195, 203],\n",
      "              ...,\n",
      "              [146, 148, 160],\n",
      "              [151, 153, 165],\n",
      "              [155, 157, 169]],\n",
      "\n",
      "             ...,\n",
      "\n",
      "             [[160, 160, 162],\n",
      "              [159, 159, 161],\n",
      "              [161, 161, 163],\n",
      "              ...,\n",
      "              [201, 202, 207],\n",
      "              [207, 206, 212],\n",
      "              [209, 210, 215]],\n",
      "\n",
      "             [[158, 158, 160],\n",
      "              [158, 158, 160],\n",
      "              [161, 161, 163],\n",
      "              ...,\n",
      "              [208, 208, 216],\n",
      "              [213, 213, 223],\n",
      "              [215, 215, 225]],\n",
      "\n",
      "             [[156, 156, 158],\n",
      "              [157, 157, 159],\n",
      "              [160, 160, 162],\n",
      "              ...,\n",
      "              [214, 214, 222],\n",
      "              [218, 218, 228],\n",
      "              [219, 219, 229]]], dtype=torch.uint8),) {'dtype': None}\n",
      "<method '__eq__' of 'torch._C.TensorBase' objects> (<class '__main__.TensorImage'>,) (TensorImage([[[192, 191, 199],\n",
      "              [195, 194, 202],\n",
      "              [199, 198, 204],\n",
      "              ...,\n",
      "              [140, 142, 154],\n",
      "              [146, 148, 160],\n",
      "              [152, 154, 166]],\n",
      "\n",
      "             [[193, 192, 200],\n",
      "              [195, 194, 202],\n",
      "              [198, 197, 203],\n",
      "              ...,\n",
      "              [142, 144, 156],\n",
      "              [148, 150, 162],\n",
      "              [153, 155, 167]],\n",
      "\n",
      "             [[194, 193, 201],\n",
      "              [194, 193, 201],\n",
      "              [196, 195, 203],\n",
      "              ...,\n",
      "              [146, 148, 160],\n",
      "              [151, 153, 165],\n",
      "              [155, 157, 169]],\n",
      "\n",
      "             ...,\n",
      "\n",
      "             [[160, 160, 162],\n",
      "              [159, 159, 161],\n",
      "              [161, 161, 163],\n",
      "              ...,\n",
      "              [201, 202, 207],\n",
      "              [207, 206, 212],\n",
      "              [209, 210, 215]],\n",
      "\n",
      "             [[158, 158, 160],\n",
      "              [158, 158, 160],\n",
      "              [161, 161, 163],\n",
      "              ...,\n",
      "              [208, 208, 216],\n",
      "              [213, 213, 223],\n",
      "              [215, 215, 225]],\n",
      "\n",
      "             [[156, 156, 158],\n",
      "              [157, 157, 159],\n",
      "              [160, 160, 162],\n",
      "              ...,\n",
      "              [214, 214, 222],\n",
      "              [218, 218, 228],\n",
      "              [219, 219, 229]]], dtype=torch.uint8), TensorMask(1)) None\n"
     ]
    },
    {
     "data": {
      "image/png": "[encoded data removed]",
      "text/plain": [
       "<Figure size 200x200 with 1 Axes>"
      ]
     },
     "metadata": {},
     "output_type": "display_data"
    }
   ],
   "source": [
    "im_t2 = cast(tensor(1), TensorMask)\n",
    "test_eq(type(im_t2), TensorMask)\n",
    "test_eq(im_t2, tensor(1))\n",
    "ax = im_t.show(figsize=(2,2))\n",
    "_ =(im_t == im_t2)"
   ]
  },
  {
   "cell_type": "code",
   "execution_count": null,
   "metadata": {},
   "outputs": [],
   "source": [
    "test_fig_exists(ax)"
   ]
  },
  {
   "cell_type": "markdown",
   "metadata": {},
   "source": [
    "Operations between `TensorMask` and `TensorImageBase` objects return the type of the `TensorImageBase` object:"
   ]
  },
  {
   "cell_type": "code",
   "execution_count": null,
   "metadata": {},
   "outputs": [
    {
     "name": "stdout",
     "output_type": "stream",
     "text": [
      "<method 'add' of 'torch._C.TensorBase' objects> (<class '__main__.TensorImage'>, <class '__main__.TensorMask'>) (TensorImage(1), TensorMask([1, 2])) None\n",
      "<method 'dim' of 'torch._C.TensorBase' objects> (<class '__main__.TensorImage'>,) (TensorImage([2, 3]),) None\n",
      "<built-in method equal of type object at 0x7f623b25e280> (<class '__main__.TensorImage'>,) (TensorImage([2, 3]), TensorImage([2, 3])) None\n",
      "<function Tensor.__rsub__ at 0x7f61ef757380> (<class '__main__.TensorMask'>,) (TensorMask([1, 2]), 1) {}\n",
      "<method 'dim' of 'torch._C.TensorBase' objects> (<class '__main__.TensorMask'>,) (TensorMask([ 0, -1]),) None\n",
      "<built-in method equal of type object at 0x7f623b25e280> (<class '__main__.TensorMask'>,) (TensorMask([ 0, -1]), TensorMask([ 0, -1])) None\n"
     ]
    }
   ],
   "source": [
    "a = TensorMask([1,2])\n",
    "test_eq_type(TensorImage(1)+a, TensorImage([2,3]))\n",
    "test_eq_type(1-a, TensorMask([0,-1]))"
   ]
  },
  {
   "cell_type": "code",
   "execution_count": null,
   "metadata": {},
   "outputs": [
    {
     "name": "stdout",
     "output_type": "stream",
     "text": [
      "<built-in method cat of type object at 0x7f623b25e280> (<class '__main__.TensorImage'>,) ([TensorImage([1, 2]), TensorImage([3, 4])],) {'dim': 0}\n",
      "<method 'dim' of 'torch._C.TensorBase' objects> (<class '__main__.TensorImage'>,) (TensorImage([1, 2, 3, 4]),) None\n",
      "<built-in method equal of type object at 0x7f623b25e280> (<class '__main__.TensorImage'>,) (TensorImage([1, 2, 3, 4]), TensorImage([1, 2, 3, 4])) None\n"
     ]
    }
   ],
   "source": [
    "#|hide (last test of to_concat)\n",
    "test_eq_type(to_concat([TensorImage([1,2]), TensorImage([3,4])]), TensorImage([1,2,3,4]))"
   ]
  },
  {
   "cell_type": "code",
   "execution_count": null,
   "metadata": {},
   "outputs": [],
   "source": [
    "#|export\n",
    "class TensorFlowField(TensorBase): pass\n",
    "TensorImage.register_func(F.grid_sample, TensorImageBase, TensorFlowField)"
   ]
  },
  {
   "cell_type": "code",
   "execution_count": null,
   "metadata": {},
   "outputs": [
    {
     "name": "stdout",
     "output_type": "stream",
     "text": [
      "<method 'view' of 'torch._C.TensorBase' objects> (<class '__main__.TensorImage'>,) (TensorImage([1.]), 1, 1, 1, 1) None\n",
      "<method 'view' of 'torch._C.TensorBase' objects> (<class '__main__.TensorFlowField'>,) (TensorFlowField([1., 1.]), 1, 1, 1, 2) None\n",
      "<function grid_sample at 0x7f6182627420> (<class '__main__.TensorImage'>, <class '__main__.TensorFlowField'>) (TensorImage([[[[1.]]]]), TensorFlowField([[[[1., 1.]]]])) {'mode': 'bilinear', 'padding_mode': 'zeros', 'align_corners': None}\n",
      "<method 'dim' of 'torch._C.TensorBase' objects> (<class '__main__.TensorImage'>,) (TensorImage([[[[0.2500]]]]),) None\n",
      "<built-in method equal of type object at 0x7f623b25e280> (<class '__main__.TensorImage'>,) (TensorImage([[[[0.2500]]]]), TensorImage([[[[0.2500]]]])) None\n"
     ]
    }
   ],
   "source": [
    "t1 = TensorImage([1.]).view(1,1,1,1)\n",
    "t2 = TensorFlowField([1.,1.]).view(1,1,1,2)\n",
    "test_eq_type(F.grid_sample(t1, t2), TensorImage([[[[0.25]]]]))"
   ]
  },
  {
   "cell_type": "code",
   "execution_count": null,
   "metadata": {},
   "outputs": [],
   "source": [
    "#|export \n",
    "class TensorCategory(TensorBase): pass\n",
    "\n",
    "TensorBase.register_func(Tensor.__getitem__, TensorImageBase, TensorCategory)"
   ]
  },
  {
   "cell_type": "code",
   "execution_count": null,
   "metadata": {},
   "outputs": [
    {
     "name": "stdout",
     "output_type": "stream",
     "text": [
      "<slot wrapper '__getitem__' of 'torch._C.TensorBase' objects> (<class '__main__.TensorMask'>, <class '__main__.TensorCategory'>) (TensorMask([0, 2, 4, 5]), TensorCategory([1, 2, 3])) None\n",
      "<method 'dim' of 'torch._C.TensorBase' objects> (<class '__main__.TensorMask'>,) (TensorMask([2, 4, 5]),) None\n",
      "<built-in method equal of type object at 0x7f623b25e280> (<class '__main__.TensorMask'>,) (TensorMask([2, 4, 5]), tensor([2, 4, 5])) None\n",
      "<slot wrapper '__getitem__' of 'torch._C.TensorBase' objects> (<class '__main__.TensorImage'>, <class '__main__.TensorCategory'>) (TensorImage([0, 2, 4, 5]), TensorCategory([1, 2, 3])) None\n",
      "<method 'dim' of 'torch._C.TensorBase' objects> (<class '__main__.TensorImage'>,) (TensorImage([2, 4, 5]),) None\n",
      "<built-in method equal of type object at 0x7f623b25e280> (<class '__main__.TensorImage'>,) (TensorImage([2, 4, 5]), tensor([2, 4, 5])) None\n"
     ]
    }
   ],
   "source": [
    "tc = TensorCategory([1,2,3])\n",
    "mask_t = TensorMask([0,2,4,5])\n",
    "im_t = TensorImage([0,2,4,5])\n",
    "test_eq(mask_t[tc], tensor([2,4,5]))\n",
    "test_eq(im_t[tc], tensor([2,4,5]))"
   ]
  },
  {
   "cell_type": "code",
   "execution_count": null,
   "metadata": {},
   "outputs": [],
   "source": [
    "#|export \n",
    "class TensorMultiCategory(TensorCategory): pass"
   ]
  },
  {
   "cell_type": "code",
   "execution_count": null,
   "metadata": {},
   "outputs": [],
   "source": [
    "#|export\n",
    "class TitledTensorScalar(TensorBase):\n",
    "    \"A tensor containing a scalar that has a `show` method\"\n",
    "    def show(self, **kwargs): show_title(self.item(), **kwargs)"
   ]
  },
  {
   "cell_type": "markdown",
   "metadata": {},
   "source": [
    "## L -"
   ]
  },
  {
   "cell_type": "code",
   "execution_count": null,
   "metadata": {},
   "outputs": [],
   "source": [
    "#|export\n",
    "@patch\n",
    "def tensored(self:L):\n",
    "    \"`mapped(tensor)`\"\n",
    "    return self.map(tensor)\n",
    "@patch\n",
    "def stack(self:L, dim=0):\n",
    "    \"Same as `torch.stack`\"\n",
    "    return torch.stack(list(self.tensored()), dim=dim)\n",
    "@patch\n",
    "def cat  (self:L, dim=0):\n",
    "    \"Same as `torch.cat`\"\n",
    "    return torch.cat  (list(self.tensored()), dim=dim)"
   ]
  },
  {
   "cell_type": "code",
   "execution_count": null,
   "metadata": {},
   "outputs": [
    {
     "data": {
      "text/markdown": [
       "---\n",
       "\n",
       "[source](https://github.com/fastai/fastai/blob/master/fastai/torch_core.py#L476){target=\"_blank\" style=\"float:right; font-size:smaller\"}\n",
       "\n",
       "### L.tensored\n",
       "\n",
       ">      L.tensored ()\n",
       "\n",
       "*`mapped(tensor)`*"
      ],
      "text/plain": [
       "---\n",
       "\n",
       "[source](https://github.com/fastai/fastai/blob/master/fastai/torch_core.py#L476){target=\"_blank\" style=\"float:right; font-size:smaller\"}\n",
       "\n",
       "### L.tensored\n",
       "\n",
       ">      L.tensored ()\n",
       "\n",
       "*`mapped(tensor)`*"
      ]
     },
     "execution_count": null,
     "metadata": {},
     "output_type": "execute_result"
    }
   ],
   "source": [
    "show_doc(L.tensored)"
   ]
  },
  {
   "cell_type": "markdown",
   "metadata": {},
   "source": [
    "There are shortcuts for `torch.stack` and `torch.cat` if your `L` contains tensors or something convertible. You can manually convert with `tensored`."
   ]
  },
  {
   "cell_type": "code",
   "execution_count": null,
   "metadata": {},
   "outputs": [],
   "source": [
    "t = L(([1,2],[3,4]))\n",
    "test_eq(t.tensored(), [tensor(1,2),tensor(3,4)])"
   ]
  },
  {
   "cell_type": "code",
   "execution_count": null,
   "metadata": {},
   "outputs": [
    {
     "data": {
      "text/markdown": [
       "---\n",
       "\n",
       "[source](https://github.com/fastai/fastai/blob/master/fastai/torch_core.py#L480){target=\"_blank\" style=\"float:right; font-size:smaller\"}\n",
       "\n",
       "### L.stack\n",
       "\n",
       ">      L.stack (dim=0)\n",
       "\n",
       "*Same as `torch.stack`*"
      ],
      "text/plain": [
       "---\n",
       "\n",
       "[source](https://github.com/fastai/fastai/blob/master/fastai/torch_core.py#L480){target=\"_blank\" style=\"float:right; font-size:smaller\"}\n",
       "\n",
       "### L.stack\n",
       "\n",
       ">      L.stack (dim=0)\n",
       "\n",
       "*Same as `torch.stack`*"
      ]
     },
     "execution_count": null,
     "metadata": {},
     "output_type": "execute_result"
    }
   ],
   "source": [
    "show_doc(L.stack)"
   ]
  },
  {
   "cell_type": "code",
   "execution_count": null,
   "metadata": {},
   "outputs": [],
   "source": [
    "test_eq(t.stack(), tensor([[1,2],[3,4]]))"
   ]
  },
  {
   "cell_type": "code",
   "execution_count": null,
   "metadata": {},
   "outputs": [
    {
     "data": {
      "text/markdown": [
       "---\n",
       "\n",
       "[source](https://github.com/fastai/fastai/blob/master/fastai/torch_core.py#L484){target=\"_blank\" style=\"float:right; font-size:smaller\"}\n",
       "\n",
       "### L.cat\n",
       "\n",
       ">      L.cat (dim=0)\n",
       "\n",
       "*Same as `torch.cat`*"
      ],
      "text/plain": [
       "---\n",
       "\n",
       "[source](https://github.com/fastai/fastai/blob/master/fastai/torch_core.py#L484){target=\"_blank\" style=\"float:right; font-size:smaller\"}\n",
       "\n",
       "### L.cat\n",
       "\n",
       ">      L.cat (dim=0)\n",
       "\n",
       "*Same as `torch.cat`*"
      ]
     },
     "execution_count": null,
     "metadata": {},
     "output_type": "execute_result"
    }
   ],
   "source": [
    "show_doc(L.cat)"
   ]
  },
  {
   "cell_type": "code",
   "execution_count": null,
   "metadata": {},
   "outputs": [],
   "source": [
    "test_eq(t.cat(), tensor([1,2,3,4]))"
   ]
  },
  {
   "cell_type": "markdown",
   "metadata": {},
   "source": [
    "## Chunks"
   ]
  },
  {
   "cell_type": "code",
   "execution_count": null,
   "metadata": {},
   "outputs": [],
   "source": [
    "#|export\n",
    "def concat(*ls):\n",
    "    \"Concatenate tensors, arrays, lists, or tuples\"\n",
    "    if not len(ls): return []\n",
    "    it = ls[0]\n",
    "    if isinstance(it,torch.Tensor): res = torch.cat(ls)\n",
    "    elif isinstance(it,ndarray): res = np.concatenate(ls)\n",
    "    else:\n",
    "        res = itertools.chain.from_iterable(map(L,ls))\n",
    "        if isinstance(it,(tuple,list)): res = type(it)(res)\n",
    "        else: res = L(res)\n",
    "    return retain_type(res, it)"
   ]
  },
  {
   "cell_type": "code",
   "execution_count": null,
   "metadata": {},
   "outputs": [
    {
     "name": "stdout",
     "output_type": "stream",
     "text": [
      "<built-in method cat of type object at 0x7f623b25e280> (<class '__main__.TensorBase'>,) ((TensorBase([1]), TensorBase([1, 2])),) None\n",
      "<method 'dim' of 'torch._C.TensorBase' objects> (<class '__main__.TensorBase'>,) (TensorBase([1, 1, 2]),) None\n",
      "<built-in method equal of type object at 0x7f623b25e280> (<class '__main__.TensorBase'>,) (TensorBase([1, 1, 2]), TensorBase([1, 1, 2])) None\n"
     ]
    }
   ],
   "source": [
    "a,b,c = [1],[1,2],[1,1,2]\n",
    "test_eq(concat(a,b), c)\n",
    "test_eq_type(concat(tuple (a),tuple (b)), tuple (c))\n",
    "test_eq_type(concat(array (a),array (b)), array (c))\n",
    "test_eq_type(concat(tensor(a),tensor(b)), tensor(c))\n",
    "test_eq_type(concat(TensorBase(a),TensorBase(b)), TensorBase(c))\n",
    "test_eq_type(concat([1,1],1), [1,1,1])\n",
    "test_eq_type(concat(1,1,1), L(1,1,1))\n",
    "test_eq_type(concat(L(1,2),1), L(1,2,1))"
   ]
  },
  {
   "cell_type": "code",
   "execution_count": null,
   "metadata": {},
   "outputs": [],
   "source": [
    "#|export\n",
    "class Chunks:\n",
    "    \"Slice and int indexing into a list of lists\"\n",
    "    def __init__(self, chunks, lens=None):\n",
    "        self.chunks = chunks\n",
    "        self.lens = L(map(len,self.chunks) if lens is None else lens)\n",
    "        self.cumlens = np.cumsum(0+self.lens)\n",
    "        self.totlen = self.cumlens[-1]\n",
    "\n",
    "    def __getitem__(self,i):\n",
    "        if isinstance(i,slice): return retain_type(self.getslice(i), old=self.chunks[0])\n",
    "        di,idx = self.doc_idx(i)\n",
    "        return retain_type(self.chunks[di][idx], old=self.chunks[0])\n",
    "\n",
    "    def getslice(self, i):\n",
    "        st_d,st_i = self.doc_idx(ifnone(i.start,0))\n",
    "        en_d,en_i = self.doc_idx(ifnone(i.stop,self.totlen+1))\n",
    "        res = [self.chunks[st_d][st_i:(en_i if st_d==en_d else sys.maxsize)]]\n",
    "        for b in range(st_d+1,en_d): res.append(self.chunks[b])\n",
    "        if st_d!=en_d and en_d<len(self.chunks): res.append(self.chunks[en_d][:en_i])\n",
    "        return concat(*res)\n",
    "\n",
    "    def doc_idx(self, i):\n",
    "        if i<0: i=self.totlen+i # count from end\n",
    "        docidx = np.searchsorted(self.cumlens, i+1)-1\n",
    "        cl = self.cumlens[docidx]\n",
    "        return docidx,i-cl"
   ]
  },
  {
   "cell_type": "code",
   "execution_count": null,
   "metadata": {},
   "outputs": [],
   "source": [
    "docs = L(list(string.ascii_lowercase[a:b]) for a,b in ((0,3),(3,7),(7,8),(8,16),(16,24),(24,26)))\n",
    "\n",
    "b = Chunks(docs)\n",
    "test_eq([b[ o] for o in range(0,5)], ['a','b','c','d','e'])\n",
    "test_eq([b[-o] for o in range(1,6)], ['z','y','x','w','v'])\n",
    "test_eq(b[6:13], 'g,h,i,j,k,l,m'.split(','))\n",
    "test_eq(b[20:77], 'u,v,w,x,y,z'.split(','))\n",
    "test_eq(b[:5], 'a,b,c,d,e'.split(','))\n",
    "test_eq(b[:2], 'a,b'.split(','))"
   ]
  },
  {
   "cell_type": "code",
   "execution_count": null,
   "metadata": {},
   "outputs": [],
   "source": [
    "t = torch.arange(26)\n",
    "docs = L(t[a:b] for a,b in ((0,3),(3,7),(7,8),(8,16),(16,24),(24,26)))\n",
    "b = Chunks(docs)\n",
    "test_eq([b[ o] for o in range(0,5)], range(0,5))\n",
    "test_eq([b[-o] for o in range(1,6)], [25,24,23,22,21])\n",
    "test_eq(b[6:13], torch.arange(6,13))\n",
    "test_eq(b[20:77], torch.arange(20,26))\n",
    "test_eq(b[:5], torch.arange(5))\n",
    "test_eq(b[:2], torch.arange(2))"
   ]
  },
  {
   "cell_type": "code",
   "execution_count": null,
   "metadata": {},
   "outputs": [
    {
     "name": "stdout",
     "output_type": "stream",
     "text": [
      "<function Tensor.__len__ at 0x7f61ef7c0040> (<class '__main__.TensorBase'>,) (TensorBase([0, 1, 2]),) {}\n",
      "<function Tensor.__len__ at 0x7f61ef7c0040> (<class '__main__.TensorBase'>,) (TensorBase([3, 4, 5, 6]),) {}\n",
      "<function Tensor.__len__ at 0x7f61ef7c0040> (<class '__main__.TensorBase'>,) (TensorBase([7]),) {}\n",
      "<function Tensor.__len__ at 0x7f61ef7c0040> (<class '__main__.TensorBase'>,) (TensorBase([ 8,  9, 10, 11, 12, 13, 14, 15]),) {}\n",
      "<function Tensor.__len__ at 0x7f61ef7c0040> (<class '__main__.TensorBase'>,) (TensorBase([16, 17, 18, 19, 20, 21, 22, 23]),) {}\n",
      "<function Tensor.__len__ at 0x7f61ef7c0040> (<class '__main__.TensorBase'>,) (TensorBase([24, 25]),) {}\n",
      "<slot wrapper '__getitem__' of 'torch._C.TensorBase' objects> (<class '__main__.TensorBase'>,) (TensorBase([0, 1, 2]), slice(np.int64(0), np.int64(2), None)) None\n",
      "<built-in method cat of type object at 0x7f623b25e280> (<class '__main__.TensorBase'>,) ((TensorBase([0, 1]),),) None\n",
      "<method 'dim' of 'torch._C.TensorBase' objects> (<class '__main__.TensorBase'>,) (TensorBase([0, 1]),) None\n",
      "<built-in method equal of type object at 0x7f623b25e280> (<class '__main__.TensorBase'>,) (TensorBase([0, 1]), TensorBase([0, 1])) None\n",
      "<slot wrapper '__getitem__' of 'torch._C.TensorBase' objects> (<class '__main__.TensorBase'>,) (TensorBase([0, 1, 2]), slice(np.int64(0), 9223372036854775807, None)) None\n",
      "<slot wrapper '__getitem__' of 'torch._C.TensorBase' objects> (<class '__main__.TensorBase'>,) (TensorBase([3, 4, 5, 6]), slice(None, np.int64(2), None)) None\n",
      "<built-in method cat of type object at 0x7f623b25e280> (<class '__main__.TensorBase'>,) ((TensorBase([0, 1, 2]), TensorBase([3, 4])),) None\n",
      "<method 'dim' of 'torch._C.TensorBase' objects> (<class '__main__.TensorBase'>,) (TensorBase([0, 1, 2, 3, 4]),) None\n",
      "<built-in method equal of type object at 0x7f623b25e280> (<class '__main__.TensorBase'>,) (TensorBase([0, 1, 2, 3, 4]), TensorBase([0, 1, 2, 3, 4])) None\n",
      "<slot wrapper '__getitem__' of 'torch._C.TensorBase' objects> (<class '__main__.TensorBase'>,) (TensorBase([ 8,  9, 10, 11, 12, 13, 14, 15]), slice(np.int64(1), np.int64(5), None)) None\n",
      "<built-in method cat of type object at 0x7f623b25e280> (<class '__main__.TensorBase'>,) ((TensorBase([ 9, 10, 11, 12]),),) None\n",
      "<method 'dim' of 'torch._C.TensorBase' objects> (<class '__main__.TensorBase'>,) (TensorBase([ 9, 10, 11, 12]),) None\n",
      "<built-in method equal of type object at 0x7f623b25e280> (<class '__main__.TensorBase'>,) (TensorBase([ 9, 10, 11, 12]), TensorBase([ 9, 10, 11, 12])) None\n"
     ]
    }
   ],
   "source": [
    "docs = L(TensorBase(t[a:b]) for a,b in ((0,3),(3,7),(7,8),(8,16),(16,24),(24,26)))\n",
    "b = Chunks(docs)\n",
    "test_eq_type(b[:2], TensorBase(range(2)))\n",
    "test_eq_type(b[:5], TensorBase(range(5)))\n",
    "test_eq_type(b[9:13], TensorBase(range(9,13)))"
   ]
  },
  {
   "cell_type": "markdown",
   "metadata": {},
   "source": [
    "## Simple types"
   ]
  },
  {
   "cell_type": "code",
   "execution_count": null,
   "metadata": {},
   "outputs": [],
   "source": [
    "#|export\n",
    "def show_title(o, ax=None, ctx=None, label=None, color='black', **kwargs):\n",
    "    \"Set title of `ax` to `o`, or print `o` if `ax` is `None`\"\n",
    "    ax = ifnone(ax,ctx)\n",
    "    if ax is None: print(o)\n",
    "    elif hasattr(ax, 'set_title'):\n",
    "        t = ax.title.get_text()\n",
    "        if len(t) > 0: o = t+'\\n'+str(o)\n",
    "        ax.set_title(o, color=color)\n",
    "    elif isinstance(ax, pd.Series):\n",
    "        while label in ax: label += '_'\n",
    "        ax = pd.concat([ax,pd.Series({label: o})])\n",
    "    return ax"
   ]
  },
  {
   "cell_type": "code",
   "execution_count": null,
   "metadata": {},
   "outputs": [],
   "source": [
    "test_stdout(lambda: show_title(\"title\"), \"title\")\n",
    "# ensure that col names are unique when showing to a pandas series\n",
    "assert show_title(\"title\", ctx=pd.Series(dict(a=1)), label='a').equals(pd.Series(dict(a=1,a_='title')))"
   ]
  },
  {
   "cell_type": "code",
   "execution_count": null,
   "metadata": {},
   "outputs": [],
   "source": [
    "#|export\n",
    "class ShowTitle:\n",
    "    \"Base class that adds a simple `show`\"\n",
    "    _show_args = {'label': 'text'}\n",
    "    def show(self, ctx=None, **kwargs):\n",
    "        \"Show self\"\n",
    "        return show_title(str(self), ctx=ctx, **merge(self._show_args, kwargs))\n",
    "\n",
    "class TitledInt(Int, ShowTitle):\n",
    "    _show_args = {'label': 'text'}\n",
    "    def show(self, ctx=None, **kwargs):\n",
    "        \"Show self\"\n",
    "        return show_title(str(self), ctx=ctx, **merge(self._show_args, kwargs))\n",
    "\n",
    "class TitledFloat(Float, ShowTitle):\n",
    "    _show_args = {'label': 'text'}\n",
    "    def show(self, ctx=None, **kwargs):\n",
    "        \"Show self\"\n",
    "        return show_title(str(self), ctx=ctx, **merge(self._show_args, kwargs))\n",
    "\n",
    "class TitledStr(Str, ShowTitle):\n",
    "    _show_args = {'label': 'text'}\n",
    "    def show(self, ctx=None, **kwargs):\n",
    "        \"Show self\"\n",
    "        return show_title(str(self), ctx=ctx, **merge(self._show_args, kwargs))\n",
    "\n",
    "class TitledTuple(fastuple, ShowTitle):\n",
    "    _show_args = {'label': 'text'}\n",
    "    def show(self, ctx=None, **kwargs):\n",
    "        \"Show self\"\n",
    "        return show_title(str(self), ctx=ctx, **merge(self._show_args, kwargs))\n",
    "\n",
    "add_docs(TitledInt, \"An `int` with `show`\"); add_docs(TitledStr, \"An `str` with `show`\");\n",
    "add_docs(TitledFloat, \"A `float` with `show`\"); add_docs(TitledTuple, \"A `fastuple` with `show`\")"
   ]
  },
  {
   "cell_type": "code",
   "execution_count": null,
   "metadata": {},
   "outputs": [
    {
     "data": {
      "text/markdown": [
       "---\n",
       "\n",
       "[source](https://github.com/fastai/fastai/blob/master/fastai/torch_core.py#L551){target=\"_blank\" style=\"float:right; font-size:smaller\"}\n",
       "\n",
       "### TitledInt\n",
       "\n",
       "\n",
       "\n",
       "*An `int` with `show`*"
      ],
      "text/plain": [
       "---\n",
       "\n",
       "[source](https://github.com/fastai/fastai/blob/master/fastai/torch_core.py#L551){target=\"_blank\" style=\"float:right; font-size:smaller\"}\n",
       "\n",
       "### TitledInt\n",
       "\n",
       "\n",
       "\n",
       "*An `int` with `show`*"
      ]
     },
     "execution_count": null,
     "metadata": {},
     "output_type": "execute_result"
    }
   ],
   "source": [
    "show_doc(TitledInt, title_level=3)"
   ]
  },
  {
   "cell_type": "code",
   "execution_count": null,
   "metadata": {},
   "outputs": [
    {
     "data": {
      "text/markdown": [
       "---\n",
       "\n",
       "[source](https://github.com/fastai/fastai/blob/master/fastai/torch_core.py#L563){target=\"_blank\" style=\"float:right; font-size:smaller\"}\n",
       "\n",
       "### TitledStr\n",
       "\n",
       "\n",
       "\n",
       "*An `str` with `show`*"
      ],
      "text/plain": [
       "---\n",
       "\n",
       "[source](https://github.com/fastai/fastai/blob/master/fastai/torch_core.py#L563){target=\"_blank\" style=\"float:right; font-size:smaller\"}\n",
       "\n",
       "### TitledStr\n",
       "\n",
       "\n",
       "\n",
       "*An `str` with `show`*"
      ]
     },
     "execution_count": null,
     "metadata": {},
     "output_type": "execute_result"
    }
   ],
   "source": [
    "show_doc(TitledStr, title_level=3)"
   ]
  },
  {
   "cell_type": "code",
   "execution_count": null,
   "metadata": {},
   "outputs": [
    {
     "data": {
      "text/markdown": [
       "---\n",
       "\n",
       "[source](https://github.com/fastai/fastai/blob/master/fastai/torch_core.py#L557){target=\"_blank\" style=\"float:right; font-size:smaller\"}\n",
       "\n",
       "### TitledFloat\n",
       "\n",
       ">      TitledFloat (x=0)\n",
       "\n",
       "*A `float` with `show`*"
      ],
      "text/plain": [
       "---\n",
       "\n",
       "[source](https://github.com/fastai/fastai/blob/master/fastai/torch_core.py#L557){target=\"_blank\" style=\"float:right; font-size:smaller\"}\n",
       "\n",
       "### TitledFloat\n",
       "\n",
       ">      TitledFloat (x=0)\n",
       "\n",
       "*A `float` with `show`*"
      ]
     },
     "execution_count": null,
     "metadata": {},
     "output_type": "execute_result"
    }
   ],
   "source": [
    "show_doc(TitledFloat, title_level=3)"
   ]
  },
  {
   "cell_type": "code",
   "execution_count": null,
   "metadata": {},
   "outputs": [],
   "source": [
    "test_stdout(lambda: TitledStr('s').show(), 's')\n",
    "test_stdout(lambda: TitledInt(1).show(), '1')"
   ]
  },
  {
   "cell_type": "code",
   "execution_count": null,
   "metadata": {},
   "outputs": [
    {
     "data": {
      "text/markdown": [
       "---\n",
       "\n",
       "[source](https://github.com/fastai/fastai/blob/master/fastai/torch_core.py#L569){target=\"_blank\" style=\"float:right; font-size:smaller\"}\n",
       "\n",
       "### TitledTuple\n",
       "\n",
       ">      TitledTuple (x=None, *rest)\n",
       "\n",
       "*A `fastuple` with `show`*"
      ],
      "text/plain": [
       "---\n",
       "\n",
       "[source](https://github.com/fastai/fastai/blob/master/fastai/torch_core.py#L569){target=\"_blank\" style=\"float:right; font-size:smaller\"}\n",
       "\n",
       "### TitledTuple\n",
       "\n",
       ">      TitledTuple (x=None, *rest)\n",
       "\n",
       "*A `fastuple` with `show`*"
      ]
     },
     "execution_count": null,
     "metadata": {},
     "output_type": "execute_result"
    }
   ],
   "source": [
    "show_doc(TitledTuple, title_level=3)"
   ]
  },
  {
   "cell_type": "code",
   "execution_count": null,
   "metadata": {},
   "outputs": [],
   "source": [
    "#|hide\n",
    "df = pd.DataFrame(index = range(1))\n",
    "row = df.iloc[0]\n",
    "x = TitledFloat(2.56)\n",
    "row = x.show(ctx=row, label='lbl')\n",
    "test_eq(float(row.lbl), 2.56)"
   ]
  },
  {
   "cell_type": "code",
   "execution_count": null,
   "metadata": {},
   "outputs": [],
   "source": [
    "#|export\n",
    "@patch\n",
    "def truncate(self:TitledStr, n):\n",
    "    \"Truncate self to `n`\"\n",
    "    words = self.split(' ')[:n]\n",
    "    return TitledStr(' '.join(words))"
   ]
  },
  {
   "cell_type": "markdown",
   "metadata": {},
   "source": [
    "## Other functions"
   ]
  },
  {
   "cell_type": "code",
   "execution_count": null,
   "metadata": {},
   "outputs": [],
   "source": [
    "#|export\n",
    "if not hasattr(pd.DataFrame,'_old_init'): pd.DataFrame._old_init = pd.DataFrame.__init__"
   ]
  },
  {
   "cell_type": "code",
   "execution_count": null,
   "metadata": {},
   "outputs": [],
   "source": [
    "#|export\n",
    "@patch\n",
    "def __init__(self:pd.DataFrame, data=None, index=None, columns=None, dtype=None, copy=None):\n",
    "    if data is not None and isinstance(data, Tensor): data = to_np(data)\n",
    "    self._old_init(data, index=index, columns=columns, dtype=dtype, copy=copy)"
   ]
  },
  {
   "cell_type": "code",
   "execution_count": null,
   "metadata": {},
   "outputs": [],
   "source": [
    "#|export\n",
    "def get_empty_df(n):\n",
    "    \"Return `n` empty rows of a dataframe\"\n",
    "    df = pd.DataFrame(index = range(n))\n",
    "    return [df.iloc[i] for i in range(n)]"
   ]
  },
  {
   "cell_type": "code",
   "execution_count": null,
   "metadata": {},
   "outputs": [],
   "source": [
    "#|export\n",
    "def display_df(df):\n",
    "    \"Display `df` in a notebook or defaults to print\"\n",
    "    try: from IPython.display import display, HTML\n",
    "    except: return print(df)\n",
    "    display(HTML(df.to_html()))"
   ]
  },
  {
   "cell_type": "code",
   "execution_count": null,
   "metadata": {},
   "outputs": [],
   "source": [
    "#|export\n",
    "def get_first(c):\n",
    "    \"Get the first element of c, even if c is a dataframe\"\n",
    "    return getattr(c, 'iloc', c)[0]"
   ]
  },
  {
   "cell_type": "code",
   "execution_count": null,
   "metadata": {},
   "outputs": [],
   "source": [
    "#|export\n",
    "def one_param(m):\n",
    "    \"First parameter in `m`\"\n",
    "    return first(m.parameters())"
   ]
  },
  {
   "cell_type": "code",
   "execution_count": null,
   "metadata": {},
   "outputs": [],
   "source": [
    "#|export\n",
    "def item_find(x, idx=0):\n",
    "    \"Recursively takes the `idx`-th element of `x`\"\n",
    "    if is_listy(x): return item_find(x[idx])\n",
    "    if isinstance(x,dict):\n",
    "        key = list(x.keys())[idx] if isinstance(idx, int) else idx\n",
    "        return item_find(x[key])\n",
    "    return x"
   ]
  },
  {
   "cell_type": "code",
   "execution_count": null,
   "metadata": {},
   "outputs": [],
   "source": [
    "#|export\n",
    "def find_device(b):\n",
    "    \"Recursively search the device of `b`.\"\n",
    "    return item_find(b).device"
   ]
  },
  {
   "cell_type": "code",
   "execution_count": null,
   "metadata": {},
   "outputs": [],
   "source": [
    "t2 = to_device(tensor(0))\n",
    "dev = default_device()\n",
    "test_eq(find_device(t2), dev)\n",
    "test_eq(find_device([t2,t2]), dev)\n",
    "test_eq(find_device({'a':t2,'b':t2}), dev)\n",
    "test_eq(find_device({'a':[[t2],[t2]],'b':t2}), dev)"
   ]
  },
  {
   "cell_type": "code",
   "execution_count": null,
   "metadata": {},
   "outputs": [],
   "source": [
    "#|export\n",
    "def find_bs(b):\n",
    "    \"Recursively search the batch size of `b`.\"\n",
    "    res = item_find(b)\n",
    "    if not hasattr(res, \"shape\"): return len(b)\n",
    "    return res.shape[0]"
   ]
  },
  {
   "cell_type": "code",
   "execution_count": null,
   "metadata": {},
   "outputs": [],
   "source": [
    "x = torch.randn(4,5)\n",
    "x1 = [1,2,3]\n",
    "test_eq(find_bs(x1), 3)\n",
    "test_eq(find_bs(x), 4)\n",
    "test_eq(find_bs((x,x)), 4)\n",
    "test_eq(find_bs([x, x]), 4)\n",
    "test_eq(find_bs({'a':x,'b':x}), 4)\n",
    "test_eq(find_bs({'a':[[x],[x]],'b':x}), 4)"
   ]
  },
  {
   "cell_type": "code",
   "execution_count": null,
   "metadata": {},
   "outputs": [],
   "source": [
    "#|export\n",
    "def np_func(f):\n",
    "    \"Convert a function taking and returning numpy arrays to one taking and returning tensors\"\n",
    "    def _inner(*args, **kwargs):\n",
    "        nargs = [to_np(arg) if isinstance(arg,Tensor) else arg for arg in args]\n",
    "        return tensor(f(*nargs, **kwargs))\n",
    "    functools.update_wrapper(_inner, f)\n",
    "    return _inner"
   ]
  },
  {
   "cell_type": "markdown",
   "metadata": {},
   "source": [
    "This decorator is particularly useful for using numpy functions as fastai metrics, for instance:"
   ]
  },
  {
   "cell_type": "code",
   "execution_count": null,
   "metadata": {},
   "outputs": [],
   "source": [
    "from sklearn.metrics import f1_score"
   ]
  },
  {
   "cell_type": "code",
   "execution_count": null,
   "metadata": {},
   "outputs": [],
   "source": [
    "@np_func\n",
    "def f1(inp,targ): return f1_score(targ, inp)\n",
    "\n",
    "a1,a2 = array([0,1,1]),array([1,0,1])\n",
    "t = f1(tensor(a1),tensor(a2))\n",
    "test_eq(f1_score(a1,a2), t)\n",
    "assert isinstance(t,Tensor)"
   ]
  },
  {
   "cell_type": "code",
   "execution_count": null,
   "metadata": {},
   "outputs": [],
   "source": [
    "#|export\n",
    "class Module(nn.Module, metaclass=PrePostInitMeta):\n",
    "    \"Same as `nn.Module`, but no need for subclasses to call `super().__init__`\"\n",
    "    def __pre_init__(self, *args, **kwargs): super().__init__()\n",
    "    def __init__(self): pass"
   ]
  },
  {
   "cell_type": "code",
   "execution_count": null,
   "metadata": {},
   "outputs": [
    {
     "data": {
      "text/markdown": [
       "---\n",
       "\n",
       "[source](https://github.com/fastai/fastai/blob/master/fastai/torch_core.py#L648){target=\"_blank\" style=\"float:right; font-size:smaller\"}\n",
       "\n",
       "### Module\n",
       "\n",
       ">      Module ()\n",
       "\n",
       "*Same as `nn.Module`, but no need for subclasses to call `super().__init__`*"
      ],
      "text/plain": [
       "---\n",
       "\n",
       "[source](https://github.com/fastai/fastai/blob/master/fastai/torch_core.py#L648){target=\"_blank\" style=\"float:right; font-size:smaller\"}\n",
       "\n",
       "### Module\n",
       "\n",
       ">      Module ()\n",
       "\n",
       "*Same as `nn.Module`, but no need for subclasses to call `super().__init__`*"
      ]
     },
     "execution_count": null,
     "metadata": {},
     "output_type": "execute_result"
    }
   ],
   "source": [
    "show_doc(Module, title_level=3)"
   ]
  },
  {
   "cell_type": "code",
   "execution_count": null,
   "metadata": {},
   "outputs": [
    {
     "data": {
      "text/plain": [
       "tensor([0.9937], grad_fn=<ViewBackward0>)"
      ]
     },
     "execution_count": null,
     "metadata": {},
     "output_type": "execute_result"
    }
   ],
   "source": [
    "class _T(Module):\n",
    "    def __init__(self): self.f = nn.Linear(1,1)\n",
    "    def forward(self,x): return self.f(x)\n",
    "\n",
    "t = _T()\n",
    "t(tensor([1.]))"
   ]
  },
  {
   "cell_type": "code",
   "execution_count": null,
   "metadata": {},
   "outputs": [],
   "source": [
    "#|export\n",
    "from torch.nn.parallel import DistributedDataParallel"
   ]
  },
  {
   "cell_type": "code",
   "execution_count": null,
   "metadata": {},
   "outputs": [],
   "source": [
    "#|export\n",
    "def get_model(model):\n",
    "    \"Return the model maybe wrapped inside `model`.\"\n",
    "    return model.module if isinstance(model, (DistributedDataParallel, nn.DataParallel)) else model"
   ]
  },
  {
   "cell_type": "code",
   "execution_count": null,
   "metadata": {},
   "outputs": [],
   "source": [
    "#|export\n",
    "def one_hot(x, c):\n",
    "    \"One-hot encode `x` with `c` classes.\"\n",
    "    res = torch.zeros(c, dtype=torch.uint8)\n",
    "    if isinstance(x, Tensor) and x.numel()>0: res[x] = 1.\n",
    "    else: res[list(L(x, use_list=None))] = 1.\n",
    "    return res"
   ]
  },
  {
   "cell_type": "code",
   "execution_count": null,
   "metadata": {},
   "outputs": [],
   "source": [
    "test_eq(one_hot([1,4], 5), tensor(0,1,0,0,1).byte())\n",
    "test_eq(one_hot(torch.tensor([]), 5), tensor(0,0,0,0,0).byte())\n",
    "test_eq(one_hot(2, 5), tensor(0,0,1,0,0).byte())"
   ]
  },
  {
   "cell_type": "code",
   "execution_count": null,
   "metadata": {},
   "outputs": [],
   "source": [
    "#|export\n",
    "def one_hot_decode(x, vocab=None):\n",
    "    return L(vocab[i] if vocab else i for i,x_ in enumerate(x) if x_==1)"
   ]
  },
  {
   "cell_type": "code",
   "execution_count": null,
   "metadata": {},
   "outputs": [],
   "source": [
    "test_eq(one_hot_decode(tensor(0,1,0,0,1)), [1,4])\n",
    "test_eq(one_hot_decode(tensor(0,0,0,0,0)), [   ])\n",
    "test_eq(one_hot_decode(tensor(0,0,1,0,0)), [2  ])"
   ]
  },
  {
   "cell_type": "code",
   "execution_count": null,
   "metadata": {},
   "outputs": [],
   "source": [
    "#|export\n",
    "def params(m):\n",
    "    \"Return all parameters of `m`\"\n",
    "    return [p for p in m.parameters()]"
   ]
  },
  {
   "cell_type": "code",
   "execution_count": null,
   "metadata": {},
   "outputs": [],
   "source": [
    "#|export\n",
    "def trainable_params(m):\n",
    "    \"Return all trainable parameters of `m`\"\n",
    "    return [p for p in m.parameters() if p.requires_grad]"
   ]
  },
  {
   "cell_type": "code",
   "execution_count": null,
   "metadata": {},
   "outputs": [],
   "source": [
    "m = nn.Linear(4,5)\n",
    "test_eq(trainable_params(m), [m.weight, m.bias])\n",
    "m.weight.requires_grad_(False)\n",
    "test_eq(trainable_params(m), [m.bias])"
   ]
  },
  {
   "cell_type": "code",
   "execution_count": null,
   "metadata": {},
   "outputs": [],
   "source": [
    "#|export\n",
    "norm_types = (nn.BatchNorm1d, nn.BatchNorm2d, nn.BatchNorm3d, nn.InstanceNorm1d, nn.InstanceNorm2d, nn.InstanceNorm3d, nn.LayerNorm)"
   ]
  },
  {
   "cell_type": "code",
   "execution_count": null,
   "metadata": {},
   "outputs": [],
   "source": [
    "#|export\n",
    "def norm_bias_params(m, with_bias=True):\n",
    "    \"Return all bias and BatchNorm parameters\"\n",
    "    if isinstance(m, norm_types): return L(m.parameters())\n",
    "    res = L(m.children()).map(norm_bias_params, with_bias=with_bias).concat()\n",
    "    if with_bias and getattr(m, 'bias', None) is not None: res.append(m.bias)\n",
    "    return res"
   ]
  },
  {
   "cell_type": "code",
   "execution_count": null,
   "metadata": {},
   "outputs": [],
   "source": [
    "for norm_func in [nn.BatchNorm1d, partial(nn.InstanceNorm1d, affine=True)]:\n",
    "    model = nn.Sequential(nn.Linear(10,20), norm_func(20), nn.Conv1d(3,4, 3))\n",
    "    test_eq(norm_bias_params(model), [model[0].bias, model[1].weight, model[1].bias, model[2].bias])\n",
    "    model = nn.ModuleList([nn.Linear(10,20, bias=False), nn.Sequential(norm_func(20), nn.Conv1d(3,4,3))])\n",
    "    test_eq(norm_bias_params(model), [model[1][0].weight, model[1][0].bias, model[1][1].bias])\n",
    "    model = nn.ModuleList([nn.Linear(10,20), nn.Sequential(norm_func(20), nn.Conv1d(3,4,3))])\n",
    "    test_eq(norm_bias_params(model, with_bias=False), [model[1][0].weight, model[1][0].bias])"
   ]
  },
  {
   "cell_type": "code",
   "execution_count": null,
   "metadata": {},
   "outputs": [],
   "source": [
    "#|export\n",
    "def batch_to_samples(b, max_n=10):\n",
    "    \"'Transposes' a batch to (at most `max_n`) samples\"\n",
    "    if isinstance(b, Tensor): return retain_types(list(b[:max_n]), [b])\n",
    "    else:\n",
    "        res = L(b).map(partial(batch_to_samples,max_n=max_n))\n",
    "        return retain_types(res.zip(), [b])"
   ]
  },
  {
   "cell_type": "code",
   "execution_count": null,
   "metadata": {},
   "outputs": [
    {
     "name": "stdout",
     "output_type": "stream",
     "text": [
      "<slot wrapper '__getitem__' of 'torch._C.TensorBase' objects> (<class '__main__.TensorBase'>,) (TensorBase([2, 3, 4]), slice(None, 10, None)) None\n",
      "<method 'dim' of 'torch._C.TensorBase' objects> (<class '__main__.TensorBase'>,) (TensorBase([2, 3, 4]),) None\n",
      "<method 'unbind' of 'torch._C.TensorBase' objects> (<class '__main__.TensorBase'>,) (TensorBase([2, 3, 4]), 0) None\n",
      "<function Tensor.__len__ at 0x7f61ef7c0040> (<class '__main__.TensorBase'>,) (TensorBase([2, 3, 4]),) {}\n",
      "<method 'dim' of 'torch._C.TensorBase' objects> (<class '__main__.TensorBase'>,) (TensorBase(2),) None\n",
      "<method '__eq__' of 'torch._C.TensorBase' objects> (<class '__main__.TensorBase'>,) (TensorBase(2), TensorBase(2)) None\n",
      "<method '__bool__' of 'torch._C.TensorBase' objects> (<class '__main__.TensorBase'>,) (TensorBase(True),) None\n",
      "<slot wrapper '__getitem__' of 'torch._C.TensorBase' objects> (<class '__main__.TensorBase'>,) (TensorBase([2, 3, 4]), slice(None, 10, None)) None\n",
      "<method 'dim' of 'torch._C.TensorBase' objects> (<class '__main__.TensorBase'>,) (TensorBase([2, 3, 4]),) None\n",
      "<method 'unbind' of 'torch._C.TensorBase' objects> (<class '__main__.TensorBase'>,) (TensorBase([2, 3, 4]), 0) None\n",
      "<function Tensor.__len__ at 0x7f61ef7c0040> (<class '__main__.TensorBase'>,) (TensorBase([2, 3, 4]),) {}\n"
     ]
    }
   ],
   "source": [
    "t = tensor([1,2,3])\n",
    "test_eq(batch_to_samples([t,t+1], max_n=2), ([1,2],[2,3]))\n",
    "test_eq(batch_to_samples(tensor([1,2,3]), 10), [1, 2, 3])\n",
    "test_eq(batch_to_samples([tensor([1,2,3]), tensor([4,5,6])], 10), [(1, 4), (2, 5), (3, 6)])\n",
    "test_eq(batch_to_samples([tensor([1,2,3]), tensor([4,5,6])], 2), [(1, 4), (2, 5)])\n",
    "test_eq(batch_to_samples([tensor([1,2,3]), [tensor([4,5,6]),tensor([7,8,9])]], 10), \n",
    "        [(1, (4, 7)), (2, (5, 8)), (3, (6, 9))])\n",
    "test_eq(batch_to_samples([tensor([1,2,3]), [tensor([4,5,6]),tensor([7,8,9])]], 2), [(1, (4, 7)), (2, (5, 8))])\n",
    "\n",
    "t = fastuple(tensor([1,2,3]),TensorBase([2,3,4]))\n",
    "test_eq_type(batch_to_samples(t)[0][1], TensorBase(2))\n",
    "test_eq(batch_to_samples(t).map(type), [fastuple]*3)"
   ]
  },
  {
   "cell_type": "code",
   "execution_count": null,
   "metadata": {},
   "outputs": [],
   "source": [
    "#|export\n",
    "@patch\n",
    "def interp_1d(x:Tensor, xp, fp):\n",
    "    \"Same as `np.interp`\"\n",
    "    slopes = (fp[1:]-fp[:-1])/(xp[1:]-xp[:-1])\n",
    "    incx = fp[:-1] - (slopes*xp[:-1])\n",
    "    locs = (x[:,None]>=xp[None,:]).long().sum(1)-1\n",
    "    locs = locs.clamp(0,len(slopes)-1)\n",
    "    return slopes[locs]*x + incx[locs]"
   ]
  },
  {
   "cell_type": "code",
   "execution_count": null,
   "metadata": {},
   "outputs": [
    {
     "data": {
      "image/png": "[encoded data removed]",
      "text/plain": [
       "<Figure size 640x480 with 1 Axes>"
      ]
     },
     "metadata": {},
     "output_type": "display_data"
    }
   ],
   "source": [
    "brks = tensor(0,1,2,4,8,64).float()\n",
    "ys = tensor(range_of(brks)).float()\n",
    "ys /= ys[-1].item()\n",
    "pts = tensor(0.2,0.5,0.8,3,5,63)\n",
    "\n",
    "preds = pts.interp_1d(brks, ys)\n",
    "test_close(preds.numpy(), np.interp(pts.numpy(), brks.numpy(), ys.numpy()))\n",
    "\n",
    "plt.scatter(brks,ys)\n",
    "plt.scatter(pts,preds)\n",
    "plt.legend(['breaks','preds']);"
   ]
  },
  {
   "cell_type": "code",
   "execution_count": null,
   "metadata": {},
   "outputs": [],
   "source": [
    "#|export\n",
    "@patch\n",
    "def pca(x:Tensor, k=2):\n",
    "    \"Compute PCA of `x` with `k` dimensions.\"\n",
    "    x = x-torch.mean(x,0)\n",
    "    U,S,V = torch.svd(x.t())\n",
    "    return torch.mm(x,U[:,:k])"
   ]
  },
  {
   "cell_type": "code",
   "execution_count": null,
   "metadata": {},
   "outputs": [],
   "source": [
    "#|export\n",
    "def logit(x):\n",
    "    \"Logit of `x`, clamped to avoid inf.\"\n",
    "    x = x.clamp(1e-7, 1-1e-7)\n",
    "    return -(1/x-1).log()"
   ]
  },
  {
   "cell_type": "code",
   "execution_count": null,
   "metadata": {},
   "outputs": [],
   "source": [
    "#|export\n",
    "def num_distrib():\n",
    "    \"Return the number of processes in distributed training (if applicable).\"\n",
    "    return int(os.environ.get('WORLD_SIZE', 0))"
   ]
  },
  {
   "cell_type": "code",
   "execution_count": null,
   "metadata": {},
   "outputs": [],
   "source": [
    "#|export\n",
    "def rank_distrib():\n",
    "    \"Return the distributed rank of this process (if applicable).\"\n",
    "    return int(os.environ.get('RANK', 0))"
   ]
  },
  {
   "cell_type": "code",
   "execution_count": null,
   "metadata": {},
   "outputs": [],
   "source": [
    "#|export\n",
    "def distrib_barrier():\n",
    "    \"Place a synchronization barrier in distributed training\"\n",
    "    if num_distrib() > 1 and torch.distributed.is_initialized(): torch.distributed.barrier()"
   ]
  },
  {
   "cell_type": "markdown",
   "metadata": {},
   "source": [
    "After calling this, ALL sub-processes in the pytorch process group must arrive here before proceeding."
   ]
  },
  {
   "cell_type": "code",
   "execution_count": null,
   "metadata": {},
   "outputs": [],
   "source": [
    "#|export\n",
    "# Saving arrays requires pytables - optional dependency\n",
    "try: import tables\n",
    "except: pass"
   ]
  },
  {
   "cell_type": "code",
   "execution_count": null,
   "metadata": {},
   "outputs": [],
   "source": [
    "#|export\n",
    "def _comp_filter(lib='lz4',lvl=3): return tables.Filters(complib=f'blosc:{lib}', complevel=lvl)"
   ]
  },
  {
   "cell_type": "code",
   "execution_count": null,
   "metadata": {},
   "outputs": [],
   "source": [
    "#|export\n",
    "@patch\n",
    "def save_array(p:Path, o, complib='lz4', lvl=3):\n",
    "    \"Save numpy array to a compressed `pytables` file, using compression level `lvl`\"\n",
    "    if isinstance(o,Tensor): o = to_np(o)\n",
    "    with tables.open_file(p, mode='w', filters=_comp_filter(lib=complib,lvl=lvl)) as f: f.create_carray('/', 'data', obj=o)"
   ]
  },
  {
   "cell_type": "markdown",
   "metadata": {},
   "source": [
    "Compression lib can be any of: blosclz, lz4, lz4hc, snappy, zlib or zstd."
   ]
  },
  {
   "cell_type": "code",
   "execution_count": null,
   "metadata": {},
   "outputs": [],
   "source": [
    "#|export\n",
    "@patch\n",
    "def load_array(p:Path):\n",
    "    \"Save numpy array to a `pytables` file\"\n",
    "    with tables.open_file(p, 'r') as f: return f.root.data.read()"
   ]
  },
  {
   "cell_type": "code",
   "execution_count": null,
   "metadata": {},
   "outputs": [],
   "source": [
    "#|export\n",
    "def base_doc(elt):\n",
    "    \"Print a base documentation of `elt`\"\n",
    "    name = getattr(elt, '__qualname__', getattr(elt, '__name__', ''))\n",
    "    print(f'{name}{inspect.signature(elt)}\\n{inspect.getdoc(elt)}\\n')\n",
    "    print('To get a prettier result with hyperlinks to source code and documentation, install nbdev: pip install nbdev')"
   ]
  },
  {
   "cell_type": "code",
   "execution_count": null,
   "metadata": {},
   "outputs": [],
   "source": [
    "#|export\n",
    "def doc(elt):\n",
    "    \"Try to use doc form nbdev and fall back to `base_doc`\"\n",
    "    try:\n",
    "        from nbdev.showdoc import doc\n",
    "        doc(elt)\n",
    "    except: base_doc(elt)"
   ]
  },
  {
   "cell_type": "code",
   "execution_count": null,
   "metadata": {},
   "outputs": [],
   "source": [
    "#|export\n",
    "def nested_reorder(t, idxs):\n",
    "    \"Reorder all tensors in `t` using `idxs`\"\n",
    "    if isinstance(t, (Tensor,L)): return t[idxs]\n",
    "    elif is_listy(t): return type(t)(nested_reorder(t_, idxs) for t_ in t)\n",
    "    if t is None: return t\n",
    "    raise TypeError(f\"Expected tensor, tuple, list or L but got {type(t)}\")"
   ]
  },
  {
   "cell_type": "code",
   "execution_count": null,
   "metadata": {},
   "outputs": [],
   "source": [
    "x = tensor([0,1,2,3,4,5])\n",
    "idxs = tensor([2,5,1,0,3,4])\n",
    "test_eq_type(nested_reorder(([x], x), idxs), ([idxs], idxs))\n",
    "\n",
    "y = L(0,1,2,3,4,5)\n",
    "z = L(i.item() for i in idxs)\n",
    "test_eq_type(nested_reorder((y, x), idxs), (z,idxs))"
   ]
  },
  {
   "cell_type": "code",
   "execution_count": null,
   "metadata": {},
   "outputs": [],
   "source": [
    "#|export\n",
    "def flatten_check(inp, targ):\n",
    "    \"Check that `inp` and `targ` have the same number of elements and flatten them.\"\n",
    "    inp,targ = TensorBase(inp.contiguous()).view(-1),TensorBase(targ.contiguous()).view(-1)\n",
    "    test_eq(len(inp), len(targ))\n",
    "    return inp,targ"
   ]
  },
  {
   "cell_type": "code",
   "execution_count": null,
   "metadata": {},
   "outputs": [
    {
     "name": "stdout",
     "output_type": "stream",
     "text": [
      "<method 'view' of 'torch._C.TensorBase' objects> (<class '__main__.TensorBase'>,) (TensorBase([[ 1.0382,  0.2694,  0.1557,  0.8046],\n",
      "            [ 0.2153, -0.8074,  1.3402, -0.5470],\n",
      "            [-0.9837, -1.5019,  1.0357,  0.1674],\n",
      "            [ 0.4258,  0.3218,  0.4773, -0.4644],\n",
      "            [-0.8298, -0.0215, -0.5018,  2.3215]]), -1) None\n",
      "<method 'view' of 'torch._C.TensorBase' objects> (<class '__main__.TensorBase'>,) (TensorBase([ 2.8900, -1.3661,  0.1912,  0.5172, -1.3732, -0.5845, -0.7272,\n",
      "            -0.0853, -0.0387,  0.8470,  1.3114, -0.0933, -1.6411, -0.3346,\n",
      "             0.9161,  1.1654,  0.2641, -1.2561,  0.9964,  1.1314]), -1) None\n",
      "<function Tensor.__len__ at 0x7f61ef7c0040> (<class '__main__.TensorBase'>,) (TensorBase([ 1.0382,  0.2694,  0.1557,  0.8046,  0.2153, -0.8074,  1.3402,\n",
      "            -0.5470, -0.9837, -1.5019,  1.0357,  0.1674,  0.4258,  0.3218,\n",
      "             0.4773, -0.4644, -0.8298, -0.0215, -0.5018,  2.3215]),) {}\n",
      "<function Tensor.__len__ at 0x7f61ef7c0040> (<class '__main__.TensorBase'>,) (TensorBase([ 2.8900, -1.3661,  0.1912,  0.5172, -1.3732, -0.5845, -0.7272,\n",
      "            -0.0853, -0.0387,  0.8470,  1.3114, -0.0933, -1.6411, -0.3346,\n",
      "             0.9161,  1.1654,  0.2641, -1.2561,  0.9964,  1.1314]),) {}\n",
      "<method-wrapper '__get__' of getset_descriptor object at 0x7f623bac3140> (<class '__main__.TensorBase'>,) (TensorBase([ 1.0382,  0.2694,  0.1557,  0.8046,  0.2153, -0.8074,  1.3402,\n",
      "            -0.5470, -0.9837, -1.5019,  1.0357,  0.1674,  0.4258,  0.3218,\n",
      "             0.4773, -0.4644, -0.8298, -0.0215, -0.5018,  2.3215]),) None\n",
      "<method-wrapper '__get__' of getset_descriptor object at 0x7f623bac3140> (<class '__main__.TensorBase'>,) (TensorBase([ 2.8900, -1.3661,  0.1912,  0.5172, -1.3732, -0.5845, -0.7272,\n",
      "            -0.0853, -0.0387,  0.8470,  1.3114, -0.0933, -1.6411, -0.3346,\n",
      "             0.9161,  1.1654,  0.2641, -1.2561,  0.9964,  1.1314]),) None\n",
      "<method 'view' of 'torch._C.TensorBase' objects> (<class '__main__.TensorBase'>,) (TensorBase([[-1.7181, -0.2147, -1.2145, -1.6510],\n",
      "            [ 0.3447, -1.0924,  0.1994, -0.0726],\n",
      "            [-0.5407,  0.0623, -0.0966, -0.0448],\n",
      "            [ 0.7951, -0.2282, -0.8035,  1.5779],\n",
      "            [-0.3452,  0.3078,  1.3254, -0.4378]]), -1) None\n",
      "<method 'view' of 'torch._C.TensorBase' objects> (<class '__main__.TensorBase'>,) (TensorBase([-0.1303,  0.4928, -0.3458, -0.5185,  1.4189,  1.1956, -1.2492,\n",
      "             1.0312, -0.4071,  0.4928,  0.3276, -0.3133, -0.3452, -0.2146,\n",
      "            -0.9111,  0.2789,  0.4154,  1.4559, -1.5123, -1.3805, -0.3555]), -1) None\n",
      "<function Tensor.__len__ at 0x7f61ef7c0040> (<class '__main__.TensorBase'>,) (TensorBase([-1.7181, -0.2147, -1.2145, -1.6510,  0.3447, -1.0924,  0.1994,\n",
      "            -0.0726, -0.5407,  0.0623, -0.0966, -0.0448,  0.7951, -0.2282,\n",
      "            -0.8035,  1.5779, -0.3452,  0.3078,  1.3254, -0.4378]),) {}\n",
      "<function Tensor.__len__ at 0x7f61ef7c0040> (<class '__main__.TensorBase'>,) (TensorBase([-0.1303,  0.4928, -0.3458, -0.5185,  1.4189,  1.1956, -1.2492,\n",
      "             1.0312, -0.4071,  0.4928,  0.3276, -0.3133, -0.3452, -0.2146,\n",
      "            -0.9111,  0.2789,  0.4154,  1.4559, -1.5123, -1.3805, -0.3555]),) {}\n"
     ]
    }
   ],
   "source": [
    "x1,x2 = torch.randn(5,4),torch.randn(20)\n",
    "x1,x2 = flatten_check(x1,x2)\n",
    "test_eq(x1.shape, [20])\n",
    "test_eq(x2.shape, [20])\n",
    "x1,x2 = torch.randn(5,4),torch.randn(21)\n",
    "test_fail(lambda: flatten_check(x1,x2))"
   ]
  },
  {
   "cell_type": "markdown",
   "metadata": {},
   "source": [
    "## Image helpers"
   ]
  },
  {
   "cell_type": "code",
   "execution_count": null,
   "metadata": {},
   "outputs": [],
   "source": [
    "#|export\n",
    "def make_cross_image(bw=True):\n",
    "    \"Create a tensor containing a cross image, either `bw` (True) or color\"\n",
    "    if bw:\n",
    "        im = torch.zeros(5,5)\n",
    "        im[2,:] = 1.\n",
    "        im[:,2] = 1.\n",
    "    else:\n",
    "        im = torch.zeros(3,5,5)\n",
    "        im[0,2,:] = 1.\n",
    "        im[1,:,2] = 1.\n",
    "    return im"
   ]
  },
  {
   "cell_type": "code",
   "execution_count": null,
   "metadata": {},
   "outputs": [
    {
     "data": {
      "image/png": "[encoded data removed]",
      "text/plain": [
       "<Figure size 640x480 with 1 Axes>"
      ]
     },
     "metadata": {},
     "output_type": "display_data"
    }
   ],
   "source": [
    "plt.imshow(make_cross_image(), cmap=\"Greys\");"
   ]
  },
  {
   "cell_type": "code",
   "execution_count": null,
   "metadata": {},
   "outputs": [
    {
     "data": {
      "image/png": "[encoded data removed]",
      "text/plain": [
       "<Figure size 640x480 with 1 Axes>"
      ]
     },
     "metadata": {},
     "output_type": "display_data"
    }
   ],
   "source": [
    "plt.imshow(make_cross_image(False).permute(1,2,0));"
   ]
  },
  {
   "cell_type": "code",
   "execution_count": null,
   "metadata": {},
   "outputs": [],
   "source": [
    "#|export\n",
    "def show_image_batch(b, show=show_titled_image, items=9, cols=3, figsize=None, **kwargs):\n",
    "    \"Display batch `b` in a grid of size `items` with `cols` width\"\n",
    "    if items<cols: cols=items\n",
    "    rows = (items+cols-1) // cols\n",
    "    if figsize is None: figsize = (cols*3, rows*3)\n",
    "    fig,axs = plt.subplots(rows, cols, figsize=figsize)\n",
    "    for *o,ax in zip(*to_cpu(b), axs.flatten()): show(o, ax=ax, **kwargs)"
   ]
  },
  {
   "cell_type": "code",
   "execution_count": null,
   "metadata": {},
   "outputs": [
    {
     "data": {
      "image/png": "[encoded data removed]",
      "text/plain": [
       "<Figure size 600x300 with 2 Axes>"
      ]
     },
     "metadata": {},
     "output_type": "display_data"
    }
   ],
   "source": [
    "show_image_batch(([Image.open(TEST_IMAGE_BW),Image.open(TEST_IMAGE)],['bw','color']), items=2)"
   ]
  },
  {
   "cell_type": "markdown",
   "metadata": {},
   "source": [
    "## Model init"
   ]
  },
  {
   "cell_type": "code",
   "execution_count": null,
   "metadata": {},
   "outputs": [],
   "source": [
    "#|export\n",
    "def requires_grad(m):\n",
    "    \"Check if the first parameter of `m` requires grad or not\"\n",
    "    ps = list(m.parameters())\n",
    "    return ps[0].requires_grad if len(ps)>0 else False"
   ]
  },
  {
   "cell_type": "code",
   "execution_count": null,
   "metadata": {},
   "outputs": [],
   "source": [
    "tst = nn.Linear(4,5)\n",
    "assert requires_grad(tst)\n",
    "for p in tst.parameters(): p.requires_grad_(False)\n",
    "assert not requires_grad(tst)"
   ]
  },
  {
   "cell_type": "code",
   "execution_count": null,
   "metadata": {},
   "outputs": [],
   "source": [
    "#|export\n",
    "def init_default(m, func=nn.init.kaiming_normal_):\n",
    "    \"Initialize `m` weights with `func` and set `bias` to 0.\"\n",
    "    if func:\n",
    "        if hasattr(m, 'weight'): func(m.weight)\n",
    "        if hasattr(m, 'bias') and hasattr(m.bias, 'data'): m.bias.data.fill_(0.)\n",
    "    return m"
   ]
  },
  {
   "cell_type": "code",
   "execution_count": null,
   "metadata": {},
   "outputs": [],
   "source": [
    "tst = nn.Linear(4,5)\n",
    "tst.weight.data.uniform_(-1,1)\n",
    "tst.bias.data.uniform_(-1,1)\n",
    "tst = init_default(tst, func = lambda x: x.data.fill_(1.))\n",
    "test_eq(tst.weight, torch.ones(5,4))\n",
    "test_eq(tst.bias, torch.zeros(5))"
   ]
  },
  {
   "cell_type": "code",
   "execution_count": null,
   "metadata": {},
   "outputs": [],
   "source": [
    "#|export\n",
    "def cond_init(m, func):\n",
    "    \"Apply `init_default` to `m` unless it's a batchnorm module\"\n",
    "    if (not isinstance(m, norm_types)) and requires_grad(m): init_default(m, func)"
   ]
  },
  {
   "cell_type": "code",
   "execution_count": null,
   "metadata": {},
   "outputs": [],
   "source": [
    "tst = nn.Linear(4,5)\n",
    "tst.weight.data.uniform_(-1,1)\n",
    "tst.bias.data.uniform_(-1,1)\n",
    "cond_init(tst, func = lambda x: x.data.fill_(1.))\n",
    "test_eq(tst.weight, torch.ones(5,4))\n",
    "test_eq(tst.bias, torch.zeros(5))\n",
    "\n",
    "tst = nn.BatchNorm2d(5)\n",
    "init = [tst.weight.clone(), tst.bias.clone()]\n",
    "cond_init(tst, func = lambda x: x.data.fill_(1.))\n",
    "test_eq(tst.weight, init[0])\n",
    "test_eq(tst.bias, init[1])"
   ]
  },
  {
   "cell_type": "code",
   "execution_count": null,
   "metadata": {},
   "outputs": [],
   "source": [
    "#|export\n",
    "def apply_leaf(m, f):\n",
    "    \"Apply `f` to children of `m`.\"\n",
    "    c = m.children()\n",
    "    if isinstance(m, nn.Module): f(m)\n",
    "    for l in c: apply_leaf(l,f)"
   ]
  },
  {
   "cell_type": "code",
   "execution_count": null,
   "metadata": {},
   "outputs": [],
   "source": [
    "tst = nn.Sequential(nn.Linear(4,5), nn.Sequential(nn.Linear(4,5), nn.Linear(4,5)))\n",
    "apply_leaf(tst, partial(init_default, func=lambda x: x.data.fill_(1.)))\n",
    "for l in [tst[0], *tst[1]]: test_eq(l.weight, torch.ones(5,4))\n",
    "for l in [tst[0], *tst[1]]: test_eq(l.bias,   torch.zeros(5))"
   ]
  },
  {
   "cell_type": "code",
   "execution_count": null,
   "metadata": {},
   "outputs": [],
   "source": [
    "#|export\n",
    "def apply_init(m, func=nn.init.kaiming_normal_):\n",
    "    \"Initialize all non-batchnorm layers of `m` with `func`.\"\n",
    "    apply_leaf(m, partial(cond_init, func=func))"
   ]
  },
  {
   "cell_type": "code",
   "execution_count": null,
   "metadata": {},
   "outputs": [],
   "source": [
    "tst = nn.Sequential(nn.Linear(4,5), nn.Sequential(nn.Linear(4,5), nn.BatchNorm1d(5)))\n",
    "init = [tst[1][1].weight.clone(), tst[1][1].bias.clone()]\n",
    "apply_init(tst, func=lambda x: x.data.fill_(1.))\n",
    "for l in [tst[0], tst[1][0]]: test_eq(l.weight, torch.ones(5,4))\n",
    "for l in [tst[0], tst[1][0]]: test_eq(l.bias,   torch.zeros(5))\n",
    "test_eq(tst[1][1].weight, init[0])\n",
    "test_eq(tst[1][1].bias,   init[1])"
   ]
  },
  {
   "cell_type": "markdown",
   "metadata": {},
   "source": [
    "## autograd jit functions"
   ]
  },
  {
   "cell_type": "code",
   "execution_count": null,
   "metadata": {},
   "outputs": [],
   "source": [
    "#|export\n",
    "def script_use_ctx(f):\n",
    "    \"Decorator: create jit script and pass everything in `ctx.saved_variables to `f`, after `*args`\"\n",
    "    sf = torch.jit.script(f)\n",
    "    def _f(ctx, *args, **kwargs): return sf(*args, *ctx.saved_variables, **kwargs)\n",
    "    return update_wrapper(_f,f)"
   ]
  },
  {
   "cell_type": "code",
   "execution_count": null,
   "metadata": {},
   "outputs": [],
   "source": [
    "#|export\n",
    "def script_save_ctx(static, *argidx):\n",
    "    \"Decorator: create jit script and save args with indices `argidx` using `ctx.save_for_backward`\"\n",
    "    def _dec(f):\n",
    "        sf = torch.jit.script(f)\n",
    "        def _f(ctx, *args, **kwargs):\n",
    "            if argidx:\n",
    "                save = [args[o] for o in argidx]\n",
    "                ctx.save_for_backward(*save)\n",
    "            if not argidx: args = [ctx]+args\n",
    "            return sf(*args, **kwargs)\n",
    "        if static: _f = staticmethod(_f)\n",
    "        return update_wrapper(_f,f)\n",
    "    return _dec"
   ]
  },
  {
   "cell_type": "code",
   "execution_count": null,
   "metadata": {},
   "outputs": [],
   "source": [
    "#|export\n",
    "def script_fwd(*argidx):\n",
    "    \"Decorator: create static jit script and save args with indices `argidx` using `ctx.save_for_backward`\"\n",
    "    return script_save_ctx(True, *argidx)"
   ]
  },
  {
   "cell_type": "code",
   "execution_count": null,
   "metadata": {},
   "outputs": [],
   "source": [
    "#|export\n",
    "def script_bwd(f):\n",
    "    \"Decorator: create static jit script and pass everything in `ctx.saved_variables to `f`, after `*args`\"\n",
    "    return staticmethod(script_use_ctx(f))"
   ]
  },
  {
   "cell_type": "code",
   "execution_count": null,
   "metadata": {},
   "outputs": [],
   "source": [
    "#|export\n",
    "def grad_module(cls):\n",
    "    \"Decorator: convert `cls` into an autograd function\"\n",
    "    class _c(nn.Module):\n",
    "        def forward(self, *args, **kwargs): return cls.apply(*args, **kwargs)\n",
    "    return _c"
   ]
  },
  {
   "cell_type": "markdown",
   "metadata": {},
   "source": [
    "## Torch Version Checks -"
   ]
  },
  {
   "cell_type": "code",
   "execution_count": null,
   "metadata": {},
   "outputs": [],
   "source": [
    "#|export\n",
    "def ismin_torch(min_version):\n",
    "    \"Check if `torch.__version__` >= `min_version` using packaging.version\"\n",
    "    return _torch_version >= parse(min_version)"
   ]
  },
  {
   "cell_type": "code",
   "execution_count": null,
   "metadata": {},
   "outputs": [],
   "source": [
    "#|export\n",
    "def notmax_torch(max_version):\n",
    "    \"Check if `torch.__version__` < `max_version` using packaging.version\"\n",
    "    return _torch_version < parse(max_version)"
   ]
  },
  {
   "cell_type": "markdown",
   "metadata": {},
   "source": [
    "## PyTorch 1.13 `__format__` workaround -"
   ]
  },
  {
   "cell_type": "code",
   "execution_count": null,
   "metadata": {},
   "outputs": [],
   "source": [
    "#|export\n",
    "# PyTorch 1.13 introduced a Tensor Subclass string formatting bug\n",
    "# Workaround from pending PyTorch PR: https://github.com/pytorch/pytorch/pull/82766\n",
    "if ismin_torch('1.13') and notmax_torch('1.14'):\n",
    "    from torch.overrides import has_torch_function_unary, handle_torch_function\n",
    "    @patch\n",
    "    def __format__(self:Tensor, format_spec):\n",
    "        if has_torch_function_unary(self):\n",
    "            return handle_torch_function(Tensor.__format__, (self,), self, format_spec)\n",
    "        if self.dim() == 0 and not self.is_meta and issubclass(type(self), Tensor):\n",
    "            return self.item().__format__(format_spec)\n",
    "        return object.__format__(self, format_spec)"
   ]
  },
  {
   "cell_type": "markdown",
   "metadata": {},
   "source": [
    "# Export -"
   ]
  },
  {
   "cell_type": "code",
   "execution_count": null,
   "metadata": {},
   "outputs": [],
   "source": [
    "#|hide\n",
    "import nbdev; nbdev.nbdev_export()"
   ]
  },
  {
   "cell_type": "code",
   "execution_count": null,
   "metadata": {},
   "outputs": [],
   "source": []
  }
 ],
 "metadata": {
  "jupytext": {
   "split_at_heading": true
  },
  "kernelspec": {
   "display_name": "python3",
   "language": "python",
   "name": "python3"
  }
 },
 "nbformat": 4,
 "nbformat_minor": 4
}
