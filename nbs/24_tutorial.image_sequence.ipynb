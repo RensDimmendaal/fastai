{
 "cells": [
  {
   "cell_type": "code",
   "execution_count": null,
   "metadata": {},
   "outputs": [],
   "source": [
    "#|hide\n",
    "#| eval: false\n",
    "! [ -e /content ] && pip install -Uqq fastai  # upgrade fastai on colab"
   ]
  },
  {
   "cell_type": "raw",
   "metadata": {},
   "source": [
    "---\n",
    "skip_exec: true\n",
    "---"
   ]
  },
  {
   "cell_type": "code",
   "execution_count": null,
   "metadata": {},
   "outputs": [],
   "source": [
    "#! pip install rarfile av\n",
    "#! pip install -Uq pyopenssl"
   ]
  },
  {
   "cell_type": "markdown",
   "metadata": {},
   "source": [
    "# Image sequences\n",
    "\n",
    "> How to use fastai to train an image sequence to image sequence job."
   ]
  },
  {
   "cell_type": "markdown",
   "metadata": {},
   "source": [
    "This tutorial uses fastai to process sequences of images. We are going to look at two tasks:\n",
    "\n",
    "- First we will do video classification on the [UCF101 dataset](https://www.crcv.ucf.edu/data/UCF101.php). You will learn how to convert the video to individual frames. We will also build a data processing piepline using fastai's mid level API.\n",
    "- Secondly we will build some simple models and assess our accuracy.\n",
    "- Finally we will train a SotA transformer based architecture."
   ]
  },
  {
   "cell_type": "code",
   "execution_count": null,
   "metadata": {},
   "outputs": [],
   "source": [
    "from fastai.vision.all import *"
   ]
  },
  {
   "cell_type": "markdown",
   "metadata": {},
   "source": [
    "## UCF101 Action Recognition\n",
    "\n",
    "> UCF101 is an action recognition data set of realistic action videos, collected from YouTube, having 101 action categories. This data set is an extension of UCF50 data set which has 50 action categories.\n",
    "\n",
    "_\"With 13320 videos from 101 action categories, UCF101 gives the largest diversity in terms of actions and with the presence of large variations in camera motion, object appearance and pose, object scale, viewpoint, cluttered background, illumination conditions, etc, it is the most challenging data set to date. As most of the available action recognition data sets are not realistic and are staged by actors, UCF101 aims to encourage further research into action recognition by learning and exploring new realistic action categories\"_"
   ]
  },
  {
   "cell_type": "markdown",
   "metadata": {},
   "source": [
    "### setup"
   ]
  },
  {
   "cell_type": "markdown",
   "metadata": {},
   "source": [
    "We have to download the UCF101 dataset from their website. It is a big dataset (6.5GB), if your connection is slow you may want to do this at night or in a terminal (to avoid blocking the notebook).  fastai's `untar_data` is not capable of downloading this dataset, so we will use `wget` and then unrar the files using `rarfile`.\n",
    "\n",
    "`fastai`'s datasets are located inside `~/.fastai/archive`, we will download UFC101 there."
   ]
  },
  {
   "cell_type": "code",
   "execution_count": null,
   "metadata": {},
   "outputs": [],
   "source": [
    "#|slow\n",
    "# !wget -P ~/.fastai/archive/ --no-check-certificate  https://www.crcv.ucf.edu/data/UCF101/UCF101.rar "
   ]
  },
  {
   "cell_type": "markdown",
   "metadata": {},
   "source": [
    "> you can run this command on a terminal to avoid blocking the notebook"
   ]
  },
  {
   "cell_type": "markdown",
   "metadata": {},
   "source": [
    "Let's make a function to`unrar` the downloaded dataset. This function is very similar to `untar_data`, but handles `.rar` files."
   ]
  },
  {
   "cell_type": "code",
   "execution_count": null,
   "metadata": {},
   "outputs": [],
   "source": [
    "from rarfile import RarFile\n",
    "    \n",
    "def unrar(fname, dest):\n",
    "    \"Extract `fname` to `dest` using `rarfile`\"\n",
    "    dest = URLs.path(c_key='data')/fname.name.withsuffix('') if dest is None else dest\n",
    "    print(f'extracting to: {dest}')\n",
    "    if not dest.exists():\n",
    "        fname = str(fname)\n",
    "        if fname.endswith('rar'):  \n",
    "            with RarFile(fname, 'r') as myrar:\n",
    "                myrar.extractall(dest.parent)\n",
    "        else: \n",
    "            raise Exception(f'Unrecognized archive: {fname}')\n",
    "        rename_extracted(dest)\n",
    "    return dest"
   ]
  },
  {
   "cell_type": "markdown",
   "metadata": {},
   "source": [
    "To be consistent, we will extract UCF dataset in `~/.fasta/data`. This is where fastai stores decompressed datasets."
   ]
  },
  {
   "cell_type": "code",
   "execution_count": null,
   "metadata": {},
   "outputs": [],
   "source": [
    "ucf_fname = Path.home()/'.fastai/archive/UCF101.rar'\n",
    "dest = Path.home()/'.fastai/data/UCF101'"
   ]
  },
  {
   "cell_type": "markdown",
   "metadata": {},
   "source": [
    "> unraring a large file like this one is very slow."
   ]
  },
  {
   "cell_type": "code",
   "execution_count": null,
   "metadata": {},
   "outputs": [],
   "source": [
    "#|slow\n",
    "path = unrar(ucf_fname, dest)"
   ]
  },
  {
   "cell_type": "markdown",
   "metadata": {},
   "source": [
    "The file structure of the dataset after extraction is one folder per action:"
   ]
  },
  {
   "cell_type": "code",
   "execution_count": null,
   "metadata": {},
   "outputs": [],
   "source": [
    "path.ls()"
   ]
  },
  {
   "cell_type": "markdown",
   "metadata": {},
   "source": [
    "inside, you will find  one video per instance, the videos are in `.avi` format. We will need to convert each video to a sequence of images to able to work with our fastai vision toolset.\n",
    "\n",
    ":::{.callout-note}\n",
    "\n",
    "torchvision has a built-in video reader that may be capable of simplifying this task\n",
    "\n",
    ":::"
   ]
  },
  {
   "cell_type": "markdown",
   "metadata": {},
   "source": [
    "```\n",
    "UCF101-frames\n",
    "\n",
    "├── ApplyEyeMakeup\n",
    "|   |── v_ApplyEyeMakeup_g01_c01.avi\n",
    "|   ├── v_ApplyEyeMakeup_g01_c02.avi\n",
    "|   |   ...\n",
    "├── Hammering\n",
    "|   ├── v_Hammering_g01_c01.avi\n",
    "|   ├── v_Hammering_g01_c02.avi\n",
    "|   ├── v_Hammering_g01_c03.avi\n",
    "|   |   ...\n",
    "...\n",
    "├── YoYo\n",
    "    ├── v_YoYo_g01_c01.avi\n",
    "    ...\n",
    "    ├── v_YoYo_g25_c03.avi\n",
    "\n",
    "```"
   ]
  },
  {
   "cell_type": "markdown",
   "metadata": {},
   "source": [
    "we can grab all videos at one using `get_files` and passing the `'.avi` extension"
   ]
  },
  {
   "cell_type": "code",
   "execution_count": null,
   "metadata": {},
   "outputs": [],
   "source": [
    "video_paths = get_files(path, extensions='.avi')\n",
    "video_paths[0:4]"
   ]
  },
  {
   "cell_type": "markdown",
   "metadata": {},
   "source": [
    "We can convert the videos to frames using `av`:"
   ]
  },
  {
   "cell_type": "code",
   "execution_count": null,
   "metadata": {},
   "outputs": [],
   "source": [
    "import av"
   ]
  },
  {
   "cell_type": "code",
   "execution_count": null,
   "metadata": {},
   "outputs": [],
   "source": [
    "def extract_frames(video_path):\n",
    "    \"convert video to PIL images \"\n",
    "    video = av.open(str(video_path))\n",
    "    for frame in video.decode(0):\n",
    "        yield frame.to_image()"
   ]
  },
  {
   "cell_type": "code",
   "execution_count": null,
   "metadata": {},
   "outputs": [],
   "source": [
    "frames = list(extract_frames(video_paths[0]))\n",
    "frames[0:4]"
   ]
  },
  {
   "cell_type": "markdown",
   "metadata": {},
   "source": [
    "We have`PIL.Image` objects, so we can directly show them using fastai's `show_images` method"
   ]
  },
  {
   "cell_type": "code",
   "execution_count": null,
   "metadata": {},
   "outputs": [],
   "source": [
    "show_images(frames[0:5])"
   ]
  },
  {
   "cell_type": "markdown",
   "metadata": {},
   "source": [
    "let's grab one video path"
   ]
  },
  {
   "cell_type": "code",
   "execution_count": null,
   "metadata": {},
   "outputs": [],
   "source": [
    "video_path = video_paths[0]\n",
    "video_path"
   ]
  },
  {
   "cell_type": "markdown",
   "metadata": {},
   "source": [
    "We want to export all videos to frames, les't built a function that is capable of exporting one video to frames, and stores the resulting frames on a folder of the same name.\n",
    "\n",
    "Let's grab de folder name:"
   ]
  },
  {
   "cell_type": "code",
   "execution_count": null,
   "metadata": {},
   "outputs": [],
   "source": [
    "video_path.relative_to(video_path.parent.parent).with_suffix('')"
   ]
  },
  {
   "cell_type": "markdown",
   "metadata": {},
   "source": [
    "we will also create a new directory for our `frames` version of UCF. You will need at least 7GB to do this, afterwards you can erase the original UCF101 folder containing the videos."
   ]
  },
  {
   "cell_type": "code",
   "execution_count": null,
   "metadata": {},
   "outputs": [],
   "source": [
    "path_frames = path.parent/'UCF101-frames'\n",
    "if not path_frames.exists(): path_frames.mkdir()"
   ]
  },
  {
   "cell_type": "markdown",
   "metadata": {},
   "source": [
    "we will make a function that takes a video path, and extracts the frames to our new `UCF-frames` dataset with the same folder structure."
   ]
  },
  {
   "cell_type": "code",
   "execution_count": null,
   "metadata": {},
   "outputs": [],
   "source": [
    "def avi2frames(video_path, path_frames=path_frames, force=False):\n",
    "    \"Extract frames from avi file to jpgs\"\n",
    "    dest_path = path_frames/video_path.relative_to(video_path.parent.parent).with_suffix('')\n",
    "    if not dest_path.exists() or force:\n",
    "        dest_path.mkdir(parents=True, exist_ok=True)\n",
    "        for i, frame in enumerate(extract_frames(video_path)):\n",
    "            frame.save(dest_path/f'{i}.jpg')"
   ]
  },
  {
   "cell_type": "code",
   "execution_count": null,
   "metadata": {},
   "outputs": [],
   "source": [
    "avi2frames(video_path)\n",
    "(path_frames/video_path.relative_to(video_path.parent.parent).with_suffix('')).ls()"
   ]
  },
  {
   "cell_type": "markdown",
   "metadata": {},
   "source": [
    "Now we can batch process the whole dataset using fastcore's `parallel`. This could be slow on a low CPU count machine. On a 12 core machine it takes 4 minutes."
   ]
  },
  {
   "cell_type": "code",
   "execution_count": null,
   "metadata": {},
   "outputs": [],
   "source": [
    "#|slow\n",
    "#parallel(avi2frames, video_paths)"
   ]
  },
  {
   "cell_type": "markdown",
   "metadata": {},
   "source": [
    "after this you get a folder hierarchy that looks like this\n",
    "\n",
    "```\n",
    "UCF101-frames\n",
    "\n",
    "├── ApplyEyeMakeup\n",
    "|   |── v_ApplyEyeMakeup_g01_c01\n",
    "|   │   ├── 0.jpg\n",
    "|   │   ├── 100.jpg\n",
    "|   │   ├── 101.jpg\n",
    "|   |   ...\n",
    "|   ├── v_ApplyEyeMakeup_g01_c02\n",
    "|   │   ├── 0.jpg\n",
    "|   │   ├── 100.jpg\n",
    "|   │   ├── 101.jpg\n",
    "|   |   ...\n",
    "├── Hammering\n",
    "|   ├── v_Hammering_g01_c01\n",
    "|   │   ├── 0.jpg\n",
    "|   │   ├── 1.jpg\n",
    "|   │   ├── 2.jpg\n",
    "|   |   ...\n",
    "|   ├── v_Hammering_g01_c02\n",
    "|   │   ├── 0.jpg\n",
    "|   │   ├── 1.jpg\n",
    "|   │   ├── 2.jpg\n",
    "|   |   ...\n",
    "|   ├── v_Hammering_g01_c03\n",
    "|   │   ├── 0.jpg\n",
    "|   │   ├── 1.jpg\n",
    "|   │   ├── 2.jpg\n",
    "|   |   ...\n",
    "...\n",
    "├── YoYo\n",
    "    ├── v_YoYo_g01_c01\n",
    "    │   ├── 0.jpg\n",
    "    │   ├── 1.jpg\n",
    "    │   ├── 2.jpg\n",
    "    |   ...\n",
    "    ├── v_YoYo_g25_c03\n",
    "        ├── 0.jpg\n",
    "        ├── 1.jpg\n",
    "        ├── 2.jpg\n",
    "        ...\n",
    "        ├── 136.jpg\n",
    "        ├── 137.jpg\n",
    "\n",
    "```"
   ]
  },
  {
   "cell_type": "markdown",
   "metadata": {},
   "source": [
    "## Data pipeline"
   ]
  },
  {
   "cell_type": "markdown",
   "metadata": {},
   "source": [
    "we have converted all the videos to images, we are ready to start building our fastai data pieline"
   ]
  },
  {
   "cell_type": "code",
   "execution_count": null,
   "metadata": {},
   "outputs": [],
   "source": [
    "data_path = Path.home()/'.fastai/data/UCF101-frames'\n",
    "data_path.ls()[0:3]"
   ]
  },
  {
   "cell_type": "markdown",
   "metadata": {},
   "source": [
    "we have one folder per action category, and inside one folder per instance of the action. "
   ]
  },
  {
   "cell_type": "code",
   "execution_count": null,
   "metadata": {},
   "outputs": [],
   "source": [
    "def get_instances(path):\n",
    "    \" gets all instances folders paths\"\n",
    "    sequence_paths = []\n",
    "    for actions in path.ls():\n",
    "        sequence_paths += actions.ls()\n",
    "    return sequence_paths"
   ]
  },
  {
   "cell_type": "markdown",
   "metadata": {},
   "source": [
    "with this function we get individual instances of each action, **these are the image sequences that we need to clasiffy.**. We will build a pipeline that takes as input **instance path**'s."
   ]
  },
  {
   "cell_type": "code",
   "execution_count": null,
   "metadata": {},
   "outputs": [],
   "source": [
    "instances_path = get_instances(data_path)\n",
    "instances_path[0:3]"
   ]
  },
  {
   "cell_type": "markdown",
   "metadata": {},
   "source": [
    "we have to sort the video frames numerically. We will patch pathlib's `Path` class to return a list of files conttaines on a folde sorted numerically. It could be a good idea to modify fastcore's `ls` method with an optiional argument `sort_func`."
   ]
  },
  {
   "cell_type": "code",
   "execution_count": null,
   "metadata": {},
   "outputs": [],
   "source": [
    "@patch\n",
    "def ls_sorted(self:Path):\n",
    "    \"ls but sorts files by name numerically\"\n",
    "    return self.ls().sorted(key=lambda f: int(f.with_suffix('').name))"
   ]
  },
  {
   "cell_type": "code",
   "execution_count": null,
   "metadata": {},
   "outputs": [],
   "source": [
    "instances_path[0].ls_sorted()"
   ]
  },
  {
   "cell_type": "markdown",
   "metadata": {},
   "source": [
    "let's grab the first 5 frames"
   ]
  },
  {
   "cell_type": "code",
   "execution_count": null,
   "metadata": {},
   "outputs": [],
   "source": [
    "frames = instances_path[0].ls_sorted()[0:5]\n",
    "show_images([Image.open(img) for img in frames])"
   ]
  },
  {
   "cell_type": "markdown",
   "metadata": {},
   "source": [
    "We will build a tuple that contains individual frames and that can show themself. We will use the same idea that on the `siamese_tutorial`. As a video can have many frames, and we don't want to display them all, the `show` method will only display the 1st, middle and last images."
   ]
  },
  {
   "cell_type": "code",
   "execution_count": null,
   "metadata": {},
   "outputs": [],
   "source": [
    "class ImageTuple(fastuple):\n",
    "    \"A tuple of PILImages\"\n",
    "    def show(self, ctx=None, **kwargs): \n",
    "        n = len(self)\n",
    "        img0, img1, img2= self[0], self[n//2], self[n-1]\n",
    "        if not isinstance(img1, Tensor):\n",
    "            t0, t1,t2 = tensor(img0), tensor(img1),tensor(img2)\n",
    "            t0, t1,t2 = t0.permute(2,0,1), t1.permute(2,0,1),t2.permute(2,0,1)\n",
    "        else: t0, t1,t2 = img0, img1,img2\n",
    "        return show_image(torch.cat([t0,t1,t2], dim=2), ctx=ctx, **kwargs)"
   ]
  },
  {
   "cell_type": "code",
   "execution_count": null,
   "metadata": {},
   "outputs": [],
   "source": [
    "ImageTuple(PILImage.create(fn) for fn in frames).show();"
   ]
  },
  {
   "cell_type": "markdown",
   "metadata": {},
   "source": [
    "we will use the mid-level API to create our Dataloader from a transformed list. "
   ]
  },
  {
   "cell_type": "code",
   "execution_count": null,
   "metadata": {},
   "outputs": [],
   "source": [
    "class ImageTupleTfm(Transform):\n",
    "    \"A wrapper to hold the data on path format\"\n",
    "    def __init__(self, seq_len=20):\n",
    "        store_attr()\n",
    "        \n",
    "    def encodes(self, path: Path):\n",
    "        \"Get a list of images files for folder path\"\n",
    "        frames = path.ls_sorted()\n",
    "        n_frames = len(frames)\n",
    "        s = slice(0, min(self.seq_len, n_frames))\n",
    "        return ImageTuple(tuple(PILImage.create(f) for f in frames[s]))"
   ]
  },
  {
   "cell_type": "code",
   "execution_count": null,
   "metadata": {},
   "outputs": [],
   "source": [
    "tfm = ImageTupleTfm(seq_len=5)\n",
    "hammering_instance = instances_path[0]\n",
    "hammering_instance"
   ]
  },
  {
   "cell_type": "code",
   "execution_count": null,
   "metadata": {},
   "outputs": [],
   "source": [
    "tfm(hammering_instance).show()"
   ]
  },
  {
   "cell_type": "markdown",
   "metadata": {},
   "source": [
    "with this setup, we can use the `parent_label` as our labelleing function"
   ]
  },
  {
   "cell_type": "code",
   "execution_count": null,
   "metadata": {},
   "outputs": [],
   "source": [
    "parent_label(hammering_instance)"
   ]
  },
  {
   "cell_type": "code",
   "execution_count": null,
   "metadata": {},
   "outputs": [],
   "source": [
    "splits = RandomSplitter()(instances_path)"
   ]
  },
  {
   "cell_type": "markdown",
   "metadata": {},
   "source": [
    "We will use fastai`Datasets` class, we have to pass a `list` of transforms. The first list `[ImageTupleTfm(5)]` is how we grab the `x`'s and the second list `[parent_label, Categorize]]` is how we grab the `y`'s.' So, from each instance path, we grab the first 5 images to construct an `ImageTuple` and we grad the label of the action from the parent folder using `parent_label` and the we `Categorize` the labels."
   ]
  },
  {
   "cell_type": "code",
   "execution_count": null,
   "metadata": {},
   "outputs": [],
   "source": [
    "ds = Datasets(instances_path, tfms=[[ImageTupleTfm(5)], [parent_label, Categorize]], splits=splits)"
   ]
  },
  {
   "cell_type": "code",
   "execution_count": null,
   "metadata": {},
   "outputs": [],
   "source": [
    "len(ds)"
   ]
  },
  {
   "cell_type": "code",
   "execution_count": null,
   "metadata": {},
   "outputs": [],
   "source": [
    "dls = ds.dataloaders(bs=4, after_item=[Resize(128), ToTensor], \n",
    "                      after_batch=[IntToFloatTensor, Normalize.from_stats(*imagenet_stats)])"
   ]
  },
  {
   "cell_type": "markdown",
   "metadata": {},
   "source": [
    "refactoring"
   ]
  },
  {
   "cell_type": "code",
   "execution_count": null,
   "metadata": {},
   "outputs": [],
   "source": [
    "def get_action_dataloaders(files, bs=8, image_size=64, seq_len=20, val_idxs=None, **kwargs):\n",
    "    \"Create a dataloader with `val_idxs` splits\"\n",
    "    splits = RandomSplitter()(files) if val_idxs is None else IndexSplitter(val_idxs)(files)\n",
    "    itfm = ImageTupleTfm(seq_len=seq_len)\n",
    "    ds = Datasets(files, tfms=[[itfm], [parent_label, Categorize]], splits=splits)\n",
    "    dls = ds.dataloaders(bs=bs, after_item=[Resize(image_size), ToTensor], \n",
    "                         after_batch=[IntToFloatTensor, Normalize.from_stats(*imagenet_stats)], drop_last=True, **kwargs)\n",
    "    return dls"
   ]
  },
  {
   "cell_type": "code",
   "execution_count": null,
   "metadata": {},
   "outputs": [],
   "source": [
    "dls = get_action_dataloaders(instances_path, bs=32, image_size=64, seq_len=5)\n",
    "dls.show_batch()"
   ]
  },
  {
   "cell_type": "markdown",
   "metadata": {},
   "source": [
    "## A Baseline Model"
   ]
  },
  {
   "cell_type": "markdown",
   "metadata": {},
   "source": [
    "We will make a simple baseline model. It will encode each frame individually using a pretrained resnet. We make use of the `TimeDistributed` layer to apply the resnet to each frame identically. This simple model will just average the probabilities of each frame individually. A `simple_splitter` function is also provided to avoid destroying the pretrained weights of the encoder."
   ]
  },
  {
   "cell_type": "code",
   "execution_count": null,
   "metadata": {},
   "outputs": [],
   "source": [
    "class SimpleModel(Module):\n",
    "    def __init__(self, arch=resnet34, n_out=101):\n",
    "        self.encoder = TimeDistributed(create_body(arch, pretrained=True))\n",
    "        self.head = TimeDistributed(create_head(512, 101))\n",
    "    def forward(self, x):\n",
    "        x = torch.stack(x, dim=1)\n",
    "        return self.head(self.encoder(x)).mean(dim=1)\n",
    "    \n",
    "def simple_splitter(model): return [params(model.encoder), params(model.head)]"
   ]
  },
  {
   "cell_type": "markdown",
   "metadata": {},
   "source": [
    ":::{.callout-note}\n",
    "\n",
    "We don't need to put a `sigmoid` layer at the end, as the loss function will fuse the Entropy with the sigmoid to get more numerical stability. Our models will output one value per category. you can recover the predicted class using `torch.sigmoid` and `argmax`.\n",
    "\n",
    ":::"
   ]
  },
  {
   "cell_type": "code",
   "execution_count": null,
   "metadata": {},
   "outputs": [],
   "source": [
    "model = SimpleModel().cuda()"
   ]
  },
  {
   "cell_type": "code",
   "execution_count": null,
   "metadata": {},
   "outputs": [],
   "source": [
    "x,y = dls.one_batch()"
   ]
  },
  {
   "cell_type": "markdown",
   "metadata": {},
   "source": [
    "It is always a good idea to check what is going inside the model, and what is coming out."
   ]
  },
  {
   "cell_type": "code",
   "execution_count": null,
   "metadata": {},
   "outputs": [],
   "source": [
    "print(f'{type(x) = },\\n{len(x) = } ,\\n{x[0].shape = }, \\n{model(x).shape = }')"
   ]
  },
  {
   "cell_type": "markdown",
   "metadata": {},
   "source": [
    "We are ready to create a Learner. The loss function is not mandatory, as the `DataLoader` already has the Binary Cross Entropy because we used a `Categorify` transform on the outputs when constructing the `Datasets`."
   ]
  },
  {
   "cell_type": "code",
   "execution_count": null,
   "metadata": {},
   "outputs": [],
   "source": [
    "dls.loss_func"
   ]
  },
  {
   "cell_type": "markdown",
   "metadata": {},
   "source": [
    "We will make use of the `MixedPrecision` callback to speed up our training (by calling `to_fp16` on the learner object).\n",
    "\n",
    ":::{.callout-note}\n",
    "\n",
    "The `TimeDistributed` layer is memory hungry (it pivots the image sequence to the batch dimesion) so if you get OOM errors, try reducing the batchsize.\n",
    "\n",
    ":::\n",
    "\n",
    "As this is a classification problem, we will monitor classification `accuracy`. You can pass the model splitter directly when creating the learner."
   ]
  },
  {
   "cell_type": "code",
   "execution_count": null,
   "metadata": {},
   "outputs": [],
   "source": [
    "learn = Learner(dls, model, metrics=[accuracy], splitter=simple_splitter).to_fp16()"
   ]
  },
  {
   "cell_type": "code",
   "execution_count": null,
   "metadata": {},
   "outputs": [],
   "source": [
    "learn.lr_find()"
   ]
  },
  {
   "cell_type": "code",
   "execution_count": null,
   "metadata": {},
   "outputs": [],
   "source": [
    "learn.fine_tune(3, 1e-3, freeze_epochs=3)"
   ]
  },
  {
   "cell_type": "markdown",
   "metadata": {},
   "source": [
    "68% not bad for our simple baseline with only 5 frames."
   ]
  },
  {
   "cell_type": "code",
   "execution_count": null,
   "metadata": {},
   "outputs": [],
   "source": [
    "learn.show_results()"
   ]
  },
  {
   "cell_type": "markdown",
   "metadata": {},
   "source": [
    "We can improve our model by passing the outputs of the image encoder to an `nn.LSTM` to get some inter-frame relation. To do this, we have to get the features of the image encoder, so we have to modify our code and make use of the `create_body` function and add a pooling layer afterwards."
   ]
  },
  {
   "cell_type": "code",
   "execution_count": null,
   "metadata": {},
   "outputs": [],
   "source": [
    "arch = resnet34\n",
    "encoder = nn.Sequential(create_body(arch, pretrained=True), nn.AdaptiveAvgPool2d(1), Flatten()).cuda()"
   ]
  },
  {
   "cell_type": "markdown",
   "metadata": {},
   "source": [
    "if we check what is the output of the encoder, for each image, we get a feature map of 512."
   ]
  },
  {
   "cell_type": "code",
   "execution_count": null,
   "metadata": {},
   "outputs": [],
   "source": [
    "encoder(x[0]).shape"
   ]
  },
  {
   "cell_type": "code",
   "execution_count": null,
   "metadata": {},
   "outputs": [],
   "source": [
    "tencoder = TimeDistributed(encoder)\n",
    "tencoder(torch.stack(x, dim=1)).shape"
   ]
  },
  {
   "cell_type": "markdown",
   "metadata": {},
   "source": [
    "this is perfect as input for a recurrent layer. Let's refactor and add a linear layer at the end. We will output the hidden state to a linear layer to compute the probabilities. The idea behind, is that the hidden state encodes the temporal information of the sequence."
   ]
  },
  {
   "cell_type": "code",
   "execution_count": null,
   "metadata": {},
   "outputs": [],
   "source": [
    "class RNNModel(Module):\n",
    "    def __init__(self, arch=resnet34, n_out=101, num_rnn_layers=1):\n",
    "        self.encoder = TimeDistributed(nn.Sequential(create_body(arch, pretrained=True), nn.AdaptiveAvgPool2d(1), Flatten()))\n",
    "        self.rnn = nn.LSTM(512, 512, num_layers=num_rnn_layers, batch_first=True)\n",
    "        self.head = LinBnDrop(num_rnn_layers*512, n_out)\n",
    "    def forward(self, x):\n",
    "        x = torch.stack(x, dim=1)\n",
    "        x = self.encoder(x)\n",
    "        bs = x.shape[0]\n",
    "        _, (h, _) = self.rnn(x)\n",
    "        return self.head(h.view(bs,-1))"
   ]
  },
  {
   "cell_type": "markdown",
   "metadata": {},
   "source": [
    "let's make a splitter function to train the encoder and the rest separetely"
   ]
  },
  {
   "cell_type": "code",
   "execution_count": null,
   "metadata": {},
   "outputs": [],
   "source": [
    "def rnnmodel_splitter(model):\n",
    "    return [params(model.encoder), params(model.rnn)+params(model.head)]"
   ]
  },
  {
   "cell_type": "code",
   "execution_count": null,
   "metadata": {},
   "outputs": [],
   "source": [
    "model2 = RNNModel().cuda()"
   ]
  },
  {
   "cell_type": "code",
   "execution_count": null,
   "metadata": {},
   "outputs": [],
   "source": [
    "learn = Learner(dls, model2, metrics=[accuracy], splitter=rnnmodel_splitter).to_fp16()"
   ]
  },
  {
   "cell_type": "code",
   "execution_count": null,
   "metadata": {},
   "outputs": [],
   "source": [
    "learn.lr_find()"
   ]
  },
  {
   "cell_type": "code",
   "execution_count": null,
   "metadata": {},
   "outputs": [],
   "source": [
    "learn.fine_tune(5, 5e-3)"
   ]
  },
  {
   "cell_type": "markdown",
   "metadata": {},
   "source": [
    "this models is harder to train. A good idea would be to add some Dropout. Let's try increasing the sequence lenght. Another approach would be to use a better layer for this type of task, like the [ConvLSTM](https://paperswithcode.com/method/convlstm) or a Transformer for images that are capable of modelling the spatio-temporal relations in a more sophisticated way.\n",
    "Some ideas:\n",
    "\n",
    "- Try sampling the frames differently, (randomly spacing, more frames, etc...)"
   ]
  },
  {
   "cell_type": "markdown",
   "metadata": {},
   "source": [
    "## A Transformer Based models\n",
    "> A quick tour on the new transformer based archs\n",
    "\n",
    "There are a bunch of transformer based image models that have appeared recently after the introduction of the [Visual Transformer (ViT). ](https://github.com/google-research/vision_transformer). We currently have many variants of this architecture with nice implementation in pytorch integrated to [timm](https://github.com/rwightman/pytorch-image-models) and [@lucidrains](https://github.com/lucidrains/vit-pytorch) maintains a repository with all the variants and elegant pytorch implementations.\n",
    "\n",
    "Recently the image models have been extended to video/image-sequences, hey use the transformer to encode space and time jointly. Here we will train the [TimeSformer](https://arxiv.org/abs/2102.05095) architecture on the action recognition task as it appears to be the easier to train from scratch. We will use [@lucidrains](https://github.com/lucidrains/TimeSformer-pytorch) implementation.\n",
    "\n",
    "Currently we don't have access to pretrained models, but loading the `ViT` weights on some blocks could be possible, but it is not done here.\n",
    "\n"
   ]
  },
  {
   "cell_type": "markdown",
   "metadata": {},
   "source": [
    "### Install"
   ]
  },
  {
   "cell_type": "markdown",
   "metadata": {},
   "source": [
    "First things first, we will need to install the  model:\n",
    "\n",
    "```\n",
    "!pip install -Uq timesformer-pytorch\n",
    "```"
   ]
  },
  {
   "cell_type": "code",
   "execution_count": null,
   "metadata": {},
   "outputs": [],
   "source": [
    "from timesformer_pytorch import TimeSformer"
   ]
  },
  {
   "cell_type": "markdown",
   "metadata": {},
   "source": [
    "### Train"
   ]
  },
  {
   "cell_type": "markdown",
   "metadata": {},
   "source": [
    "the `TimeSformer` implementation expects a sequence of images in the form of: `(batch_size, seq_len, c, w, h)`. We need to wrap the model to stack the image sequence before feeding the forward method"
   ]
  },
  {
   "cell_type": "code",
   "execution_count": null,
   "metadata": {},
   "outputs": [],
   "source": [
    "class MyTimeSformer(TimeSformer):\n",
    "    def forward(self, x):\n",
    "        x = torch.stack(x, dim=1)\n",
    "        return super().forward(x)"
   ]
  },
  {
   "cell_type": "code",
   "execution_count": null,
   "metadata": {},
   "outputs": [],
   "source": [
    "timesformer = MyTimeSformer(\n",
    "    dim = 128,\n",
    "    image_size = 128,\n",
    "    patch_size = 16,\n",
    "    num_frames = 5,\n",
    "    num_classes = 101,\n",
    "    depth = 12,\n",
    "    heads = 8,\n",
    "    dim_head =  64,\n",
    "    attn_dropout = 0.1,\n",
    "    ff_dropout = 0.1\n",
    ").cuda()"
   ]
  },
  {
   "cell_type": "code",
   "execution_count": null,
   "metadata": {},
   "outputs": [],
   "source": [
    "learn_tf = Learner(dls, timesformer, metrics=[accuracy]).to_fp16()"
   ]
  },
  {
   "cell_type": "code",
   "execution_count": null,
   "metadata": {},
   "outputs": [],
   "source": [
    "learn_tf.lr_find()"
   ]
  },
  {
   "cell_type": "code",
   "execution_count": null,
   "metadata": {},
   "outputs": [],
   "source": [
    "learn_tf.fit_one_cycle(12, 5e-4)"
   ]
  },
  {
   "cell_type": "code",
   "execution_count": null,
   "metadata": {},
   "outputs": [],
   "source": [
    "learn_tf.show_results()"
   ]
  },
  {
   "cell_type": "code",
   "execution_count": null,
   "metadata": {},
   "outputs": [],
   "source": []
  }
 ],
 "metadata": {
  "jupytext": {
   "split_at_heading": true
  },
  "kernelspec": {
   "display_name": "python3",
   "language": "python",
   "name": "python3"
  }
 },
 "nbformat": 4,
 "nbformat_minor": 4
}
